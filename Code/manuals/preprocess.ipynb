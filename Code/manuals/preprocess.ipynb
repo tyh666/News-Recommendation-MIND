{
 "cells": [
  {
   "cell_type": "code",
   "execution_count": null,
   "source": [
    "import os\n",
    "import sys\n",
    "os.chdir(\"../\")\n",
    "sys.path.append(\"../\")\n",
    "\n",
    "import re\n",
    "import pickle\n",
    "import numpy as np\n",
    "import pandas as pd\n",
    "import json\n",
    "import logging\n",
    "import torch\n",
    "import math\n",
    "import time\n",
    "from tqdm import tqdm_notebook as tqdm\n",
    "from datetime import datetime\n",
    "from torch.utils.data import Dataset\n",
    "from utils.utils import newsample, getId2idx, tokenize, getVocab, Partition_Sampler\n",
    "from data.configs.demo import config\n",
    "from torch.utils.data import DataLoader\n",
    "from collections import defaultdict\n",
    "from transformers import AutoTokenizer, AutoModel\n",
    "from utils.MIND import MIND, MIND_news, MIND_history, MIND_recall\n",
    "from utils.Manager import Manager\n",
    "\n",
    "logger = logging.getLogger(__name__)"
   ],
   "outputs": [],
   "metadata": {}
  },
  {
   "cell_type": "code",
   "execution_count": null,
   "source": [
    "t = AutoTokenizer.from_pretrained('bert-base-uncased', cache_dir=config.path + \"bert_cache/\")\n",
    "# t2 = AutoTokenizer.from_pretrained('microsoft/deberta-base', cache_dir=config.path + \"bert_cache/\")\n",
    "# t3 = AutoTokenizer.from_pretrained('google/bigbird-roberta-base', cache_dir=config.path + \"bert_cache/\")"
   ],
   "outputs": [],
   "metadata": {}
  },
  {
   "cell_type": "code",
   "execution_count": null,
   "source": [
    "corpus = news_collection\n",
    "score_func = bm25\n",
    "\n"
   ],
   "outputs": [],
   "metadata": {}
  },
  {
   "cell_type": "code",
   "execution_count": 37,
   "source": [
    "a = torch.tensor([[1,2,3,3,4],[2,2,4,4,5]])\n",
    "a.unique()"
   ],
   "outputs": [
    {
     "output_type": "execute_result",
     "data": {
      "text/plain": [
       "tensor([1, 2, 3, 4, 5])"
      ]
     },
     "metadata": {},
     "execution_count": 37
    }
   ],
   "metadata": {}
  },
  {
   "cell_type": "code",
   "execution_count": 43,
   "source": [
    "a = np.array([[1,2,3]])\n",
    "torch.from_numpy(a)"
   ],
   "outputs": [
    {
     "output_type": "execute_result",
     "data": {
      "text/plain": [
       "tensor([[1, 2, 3]])"
      ]
     },
     "metadata": {},
     "execution_count": 43
    }
   ],
   "metadata": {}
  },
  {
   "cell_type": "code",
   "execution_count": null,
   "source": [
    "from utils.utils import BM25_token\n",
    "with open(\"data/cache/MIND/news/bert/MINDlarge_dev/news.pkl\", \"rb\") as f:\n",
    "    news = pickle.load(f)['encoded_news']\n",
    "    news_set = torch.load('data/recall/news.pt')\n",
    "    news_collection = news[news_set]\n",
    "    # initialize inverted index\n",
    "    bm25 = BM25_token(news_collection)"
   ],
   "outputs": [],
   "metadata": {}
  },
  {
   "cell_type": "code",
   "execution_count": null,
   "source": [
    "len(t.vocab)"
   ],
   "outputs": [],
   "metadata": {}
  },
  {
   "cell_type": "code",
   "execution_count": null,
   "source": [
    "# config.reducer = 'bm25'\n",
    "# config.reducer = 'bow'\n",
    "# config.reducer = 'matching'\n",
    "# config.reducer = 'first'\n",
    "\n",
    "# config.signal_length = 10\n",
    "config.scale = 'large'\n",
    "config.impr_size = 2000\n",
    "# config.mode = 'recall'\n",
    "# config.news = None\n",
    "# config.fast = True\n",
    "# config.news = 21563\n",
    "\n",
    "# config.bert = 'microsoft/deberta-base'\n",
    "# config.embedding = 'deberta'\n",
    "\n",
    "# config.bert = 'bert-base-uncased\n",
    "# config.embedding = 'bert'\n",
    "\n",
    "manager = Manager(config)\n",
    "# file_directory = manager.path + \"MIND/MIND{}_{}/\".format(manager.scale, manager.mode)\n",
    "file_directory = manager.path + \"MIND/MIND{}_dev/\".format(manager.scale)\n",
    "# manager.gather_same_user_impr()\n",
    "\n",
    "# a = MIND_history(manager, file_directory)\n",
    "# b = MIND_news(manager)"
   ],
   "outputs": [],
   "metadata": {}
  },
  {
   "cell_type": "code",
   "execution_count": null,
   "source": [
    "b = MIND_news(manager, file_directory)"
   ],
   "outputs": [],
   "metadata": {}
  },
  {
   "cell_type": "code",
   "execution_count": null,
   "source": [
    "b[1]"
   ],
   "outputs": [],
   "metadata": {}
  },
  {
   "cell_type": "code",
   "execution_count": null,
   "source": [
    "behaviors = pickle.load(open('data/cache/bert/MINDlarge_dev/1000/behaviors.pkl','rb'))\n",
    "# news = pickle.load(open('data/cache/bert/MINDdemo_train/news.pkl','rb'))\n",
    "# news = pickle.load(open('data/cache/bert/MINDlarge_train/news.pkl','rb'))\n",
    "# enc = news['encoded_news']\n",
    "\n",
    "imprs = behaviors['imprs']\n",
    "news_set = set()\n",
    "\n",
    "for impr in imprs:\n",
    "    news_set.update(impr[1])"
   ],
   "outputs": [],
   "metadata": {}
  },
  {
   "cell_type": "code",
   "execution_count": null,
   "source": [
    "torch.save(torch.tensor(list(news_set)), \"data/recall/news.pt\")"
   ],
   "outputs": [],
   "metadata": {}
  },
  {
   "cell_type": "code",
   "execution_count": null,
   "source": [
    "# bm25, entity, first\n",
    "index = 1\n",
    "\n",
    "# news = t.convert_ids_to_tokens(a[index]['his_encoded_index'][1])\n",
    "# mask = a[index]['his_attn_mask'][1]\n",
    "# word = manager.convert_tokens_to_words(news)\n",
    "# subword = a[index]['his_subword_index'][1]\n",
    "\n",
    "# for i,j,k in zip(news,mask,subword):\n",
    "#     print(i,j,k)\n",
    "res = a[index]\n",
    "ids = res['cdd_id'][1]\n",
    "news = t.convert_ids_to_tokens(res['cdd_encoded_index'][1])\n",
    "mask = res['cdd_attn_mask'][1]\n",
    "# word = manager.convert_tokens_to_words(news)\n",
    "# subword = res['cdd_subword_index'][1]\n",
    "print(ids)\n",
    "for i,j,k in zip(news,mask):\n",
    "    print(i,j,k)"
   ],
   "outputs": [],
   "metadata": {}
  },
  {
   "cell_type": "code",
   "execution_count": null,
   "source": [
    "news = t.convert_ids_to_tokens(a[0]['his_encoded_index'][1])\n",
    "mask = a[0]['his_attn_mask'][1]\n",
    "word = manager.convert_tokens_to_words(news)\n",
    "# subword = a[0]['his_subword_index'][1]\n",
    "dedup = a[0]['his_refined_mask'][1]\n",
    "\n",
    "for i,j,k in zip(news,mask,dedup):\n",
    "    print(i,j,k)"
   ],
   "outputs": [],
   "metadata": {}
  }
 ],
 "metadata": {
  "orig_nbformat": 4,
  "language_info": {
   "name": "python",
   "version": "3.8.11",
   "mimetype": "text/x-python",
   "codemirror_mode": {
    "name": "ipython",
    "version": 3
   },
   "pygments_lexer": "ipython3",
   "nbconvert_exporter": "python",
   "file_extension": ".py"
  },
  "kernelspec": {
   "name": "python3",
   "display_name": "Python 3.8.11 64-bit"
  },
  "interpreter": {
   "hash": "05ac96093557d5f870daa405d294b9829436c2eb08ea545c0ba5ad68b57a9d6c"
  }
 },
 "nbformat": 4,
 "nbformat_minor": 2
}