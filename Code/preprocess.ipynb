{
 "cells": [
  {
   "cell_type": "code",
   "execution_count": 1,
   "source": [
    "import re\n",
    "import os\n",
    "import pickle\n",
    "import numpy as np\n",
    "import pandas as pd\n",
    "import json\n",
    "import logging\n",
    "import torch\n",
    "import math\n",
    "import time\n",
    "from datetime import datetime\n",
    "from torch.utils.data import Dataset\n",
    "from utils.utils import newsample, getId2idx, tokenize, getVocab, my_collate, Partition_Sampler\n",
    "from data.configs.demo import config\n",
    "from torch.utils.data import DataLoader\n",
    "from collections import defaultdict\n",
    "from transformers import BertTokenizer,BertModel,BertTokenizerFast,DebertaTokenizer,DebertaTokenizerFast, AutoTokenizer\n",
    "from utils.MIND import MIND, MIND_news\n",
    "from utils.Manager import Manager\n",
    "\n",
    "logger = logging.getLogger(__name__)"
   ],
   "outputs": [],
   "metadata": {}
  },
  {
   "cell_type": "code",
   "execution_count": null,
   "source": [
    "# t = AutoTokenizer.from_pretrained('bert-base-uncased', cache_dir=config.path + \"bert_cache/\")\n",
    "# t2 = DebertaTokenizerFast.from_pretrained('microsoft/deberta-base', cache_dir=config.path + \"bert_cache/\")"
   ],
   "outputs": [],
   "metadata": {}
  },
  {
   "cell_type": "code",
   "execution_count": 2,
   "source": [
    "# config.reducer = 'bm25'\n",
    "# config.reducer = 'bow'\n",
    "# config.reducer = 'matching'\n",
    "# config.reducer = 'first'\n",
    "\n",
    "# config.signal_length = 10\n",
    "config.scale = 'large'\n",
    "config.impr_size = 1000\n",
    "config.mode = 'dev'\n",
    "# config.scale = 'large'\n",
    "# config.fast = True\n",
    "config.news = 21563\n",
    "\n",
    "# config.bert = 'microsoft/deberta-base'\n",
    "# config.embedding = 'deberta'\n",
    "\n",
    "# config.bert = 'bert-base-uncased\n",
    "# config.embedding = 'bert'\n",
    "\n",
    "manager = Manager(config)\n",
    "file_directory = manager.path + \"MIND/MIND{}_{}/\".format(manager.scale, manager.mode)\n",
    "# manager.gather_same_user_impr()\n",
    "\n",
    "a = MIND(manager, file_directory)\n",
    "# b = MIND_news(manager)"
   ],
   "outputs": [
    {
     "output_type": "stream",
     "name": "stderr",
     "text": [
      "[2021-10-27 09:27:59,253] INFO (utils.MIND) process NO.0 loading cached user behavior from data/cache/bert/MINDlarge_dev/1000/behaviors.pkl\n",
      "[2021-10-27 09:28:02,916] INFO (utils.MIND) rank 0 extracting users who browsed news 21563\n",
      "[2021-10-27 09:28:03,030] INFO (utils.MIND) process NO.0 loading cached news tokenization from data/cache/bert/MINDlarge_dev/news.pkl\n",
      "[2021-10-27 09:28:03,467] INFO (utils.utils) deduplicating...\n"
     ]
    }
   ],
   "metadata": {}
  },
  {
   "cell_type": "code",
   "execution_count": null,
   "source": [
    "# manager.construct_whole_dataset()"
   ],
   "outputs": [],
   "metadata": {}
  },
  {
   "cell_type": "code",
   "execution_count": 8,
   "source": [
    "a[3]['his_encoded_index']"
   ],
   "outputs": [
    {
     "output_type": "execute_result",
     "data": {
      "text/plain": [
       "array([[  101,  2129,  5180, ...,     0,     0,     0],\n",
       "       [  101,  2450,  4858, ...,     0,     0,     0],\n",
       "       [  101,  3419, 10184, ...,  2074,  2917, 26077],\n",
       "       ...,\n",
       "       [  100,   100,   100, ...,   100,   100,   100],\n",
       "       [  100,   100,   100, ...,   100,   100,   100],\n",
       "       [  100,   100,   100, ...,   100,   100,   100]])"
      ]
     },
     "metadata": {},
     "execution_count": 8
    }
   ],
   "metadata": {}
  },
  {
   "cell_type": "code",
   "execution_count": null,
   "source": [
    "r = a[0]"
   ],
   "outputs": [],
   "metadata": {}
  },
  {
   "cell_type": "code",
   "execution_count": null,
   "source": [
    "r['his_attn_mask'].shape"
   ],
   "outputs": [],
   "metadata": {}
  },
  {
   "cell_type": "code",
   "execution_count": null,
   "source": [
    "news = pickle.load(open('/data/workspace/Peitian/Code/Document-Reduction/Code/data/cache/bert/MINDlarge_test/bm25.pkl', 'rb'))\n",
    "ids = news['encoded_news']\n",
    "subwords = news['subwords_all']\n",
    "\n",
    "index = 37405\n",
    "news = t.convert_ids_to_tokens(a.encoded_news_original[index])\n",
    "mask = a.attn_mask_original[index]\n",
    "subword = a.subwords_original[index]\n",
    "\n",
    "for i,j,k in zip(news,mask,subword):\n",
    "    print(i,j,k)"
   ],
   "outputs": [],
   "metadata": {}
  },
  {
   "cell_type": "code",
   "execution_count": null,
   "source": [
    "# bm25, entity, first\n",
    "index = 1\n",
    "\n",
    "# news = t.convert_ids_to_tokens(a[index]['his_encoded_index'][1])\n",
    "# mask = a[index]['his_attn_mask'][1]\n",
    "# word = manager.convert_tokens_to_words(news)\n",
    "# subword = a[index]['his_subword_index'][1]\n",
    "\n",
    "# for i,j,k in zip(news,mask,subword):\n",
    "#     print(i,j,k)\n",
    "res = a[index]\n",
    "ids = res['cdd_id'][1]\n",
    "news = t.convert_ids_to_tokens(res['cdd_encoded_index'][1])\n",
    "mask = res['cdd_attn_mask'][1]\n",
    "# word = manager.convert_tokens_to_words(news)\n",
    "subword = res['cdd_subword_index'][1]\n",
    "print(ids)\n",
    "for i,j,k in zip(news,mask,subword):\n",
    "    print(i,j,k)"
   ],
   "outputs": [],
   "metadata": {}
  },
  {
   "cell_type": "code",
   "execution_count": null,
   "source": [
    "news = t.convert_ids_to_tokens(a[0]['his_encoded_index'][1])\n",
    "mask = a[0]['his_attn_mask'][1]\n",
    "word = manager.convert_tokens_to_words(news)\n",
    "subword = a[0]['his_subword_index'][1]\n",
    "dedup = a[0]['his_refined_mask'][1]\n",
    "\n",
    "for i,j,k,z in zip(news,mask,subword,dedup):\n",
    "    print(i,j,k,z)"
   ],
   "outputs": [],
   "metadata": {}
  },
  {
   "cell_type": "code",
   "execution_count": null,
   "source": [],
   "outputs": [],
   "metadata": {}
  }
 ],
 "metadata": {
  "orig_nbformat": 4,
  "language_info": {
   "name": "python",
   "version": "3.8.11",
   "mimetype": "text/x-python",
   "codemirror_mode": {
    "name": "ipython",
    "version": 3
   },
   "pygments_lexer": "ipython3",
   "nbconvert_exporter": "python",
   "file_extension": ".py"
  },
  "kernelspec": {
   "name": "python3",
   "display_name": "Python 3.8.11 64-bit (conda)"
  },
  "interpreter": {
   "hash": "0f43efc2da5f33d61ae1bd929e6c7df9dd2aa7f250aadb5586d31de3e27bb6a5"
  }
 },
 "nbformat": 4,
 "nbformat_minor": 2
}