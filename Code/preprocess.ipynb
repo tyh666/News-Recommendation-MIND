{
 "cells": [
  {
   "cell_type": "code",
   "execution_count": 2,
   "source": [
    "import re\n",
    "import os\n",
    "import pickle\n",
    "import numpy as np\n",
    "import pandas as pd\n",
    "import json\n",
    "import logging\n",
    "import torch\n",
    "import math\n",
    "import time\n",
    "from tqdm import tqdm_notebook as tqdm\n",
    "from datetime import datetime\n",
    "from torch.utils.data import Dataset\n",
    "from utils.utils import newsample, getId2idx, tokenize, getVocab, my_collate, Partition_Sampler\n",
    "from data.configs.demo import config\n",
    "from torch.utils.data import DataLoader\n",
    "from collections import defaultdict\n",
    "from transformers import AutoTokenizer, AutoModel\n",
    "from utils.MIND import MIND, MIND_news\n",
    "from utils.Manager import Manager\n",
    "\n",
    "logger = logging.getLogger(__name__)"
   ],
   "outputs": [],
   "metadata": {}
  },
  {
   "cell_type": "code",
   "execution_count": 3,
   "source": [
    "t = AutoTokenizer.from_pretrained('bert-base-uncased', cache_dir=config.path + \"bert_cache/\")\n",
    "# t2 = AutoTokenizer.from_pretrained('microsoft/deberta-base', cache_dir=config.path + \"bert_cache/\")\n",
    "# t3 = AutoTokenizer.from_pretrained('google/bigbird-roberta-base', cache_dir=config.path + \"bert_cache/\")"
   ],
   "outputs": [],
   "metadata": {}
  },
  {
   "cell_type": "code",
   "execution_count": 6,
   "source": [
    "# config.reducer = 'bm25'\n",
    "# config.reducer = 'bow'\n",
    "# config.reducer = 'matching'\n",
    "# config.reducer = 'first'\n",
    "\n",
    "# config.signal_length = 10\n",
    "config.scale = 'large'\n",
    "config.impr_size = 1000\n",
    "config.mode = 'inspect'\n",
    "config.news = 28\n",
    "# config.fast = True\n",
    "# config.news = 21563\n",
    "\n",
    "# config.bert = 'microsoft/deberta-base'\n",
    "# config.embedding = 'deberta'\n",
    "\n",
    "# config.bert = 'bert-base-uncased\n",
    "# config.embedding = 'bert'\n",
    "\n",
    "manager = Manager(config)\n",
    "# file_directory = manager.path + \"MIND/MIND{}_{}/\".format(manager.scale, manager.mode)\n",
    "file_directory = manager.path + \"MIND/MIND{}_dev/\".format(manager.scale)\n",
    "# manager.gather_same_user_impr()\n",
    "\n",
    "a = MIND(manager, file_directory)\n",
    "# b = MIND_news(manager)"
   ],
   "outputs": [
    {
     "output_type": "stream",
     "name": "stderr",
     "text": [
      "[2021-11-04 10:08:45,610] INFO (utils.MIND) process NO.0 loading cached user behavior from data/cache/bert/MINDlarge_dev/1000/behaviors.pkl\n",
      "[2021-11-04 10:08:50,194] INFO (utils.MIND) rank 0 extracting users who browsed news 28\n",
      "[2021-11-04 10:08:50,302] INFO (utils.MIND) process NO.0 loading cached news tokenization from data/cache/bert/MINDlarge_dev/news.pkl\n",
      "[2021-11-04 10:08:51,018] INFO (utils.utils) deduplicating...\n"
     ]
    }
   ],
   "metadata": {}
  },
  {
   "cell_type": "code",
   "execution_count": 13,
   "source": [
    "a[0]"
   ],
   "outputs": [
    {
     "output_type": "execute_result",
     "data": {
      "text/plain": [
       "{'impr_index': 224411,\n",
       " 'user_id': 153998,\n",
       " 'cdd_id': array([67843, 68087, 65140, 67483, 69773, 67720, 68076,   250, 63996,\n",
       "        68755, 65265, 64813, 67156, 61849]),\n",
       " 'his_id': array([71567, 63227, 70422, 43270, 31519, 54133, 49069, 27154, 32061,\n",
       "        59445, 41719,     0,     0,     0,     0,     0,     0,     0,\n",
       "            0,     0,     0,     0,     0,     0,     0,     0,     0,\n",
       "            0,     0,     0,     0,     0,     0,     0,     0,     0,\n",
       "            0,     0,     0,     0,     0,     0,     0,     0,     0,\n",
       "            0,     0,     0,     0,     0]),\n",
       " 'cdd_encoded_index': array([[  101,  2129,  2000, ...,     0,     0,     0],\n",
       "        [  101, 12084, 10584, ...,     0,     0,     0],\n",
       "        [  101,  2152, 22487, ...,     0,     0,     0],\n",
       "        ...,\n",
       "        [  101,  7163, 12525, ...,     0,     0,     0],\n",
       "        [  101, 12669,  4819, ...,     0,     0,     0],\n",
       "        [  101,  2382,  2190, ...,     0,     0,     0]]),\n",
       " 'his_encoded_index': array([[  101,  4586, 18081, ...,     0,     0,     0],\n",
       "        [  101,  6221,  8398, ...,     0,     0,     0],\n",
       "        [  101,  3422,  1024, ...,  2035,  1999,  1037],\n",
       "        ...,\n",
       "        [  100,   100,   100, ...,   100,   100,   100],\n",
       "        [  100,   100,   100, ...,   100,   100,   100],\n",
       "        [  100,   100,   100, ...,   100,   100,   100]]),\n",
       " 'cdd_attn_mask': array([[1, 1, 1, ..., 0, 0, 0],\n",
       "        [1, 1, 1, ..., 0, 0, 0],\n",
       "        [1, 1, 1, ..., 0, 0, 0],\n",
       "        ...,\n",
       "        [1, 1, 1, ..., 0, 0, 0],\n",
       "        [1, 1, 1, ..., 0, 0, 0],\n",
       "        [1, 1, 1, ..., 0, 0, 0]]),\n",
       " 'his_attn_mask': array([[1, 1, 1, ..., 0, 0, 0],\n",
       "        [1, 1, 1, ..., 0, 0, 0],\n",
       "        [1, 1, 1, ..., 1, 1, 1],\n",
       "        ...,\n",
       "        [0, 0, 0, ..., 0, 0, 0],\n",
       "        [0, 0, 0, ..., 0, 0, 0],\n",
       "        [0, 0, 0, ..., 0, 0, 0]]),\n",
       " 'his_mask': tensor([[1.],\n",
       "         [1.],\n",
       "         [1.],\n",
       "         [1.],\n",
       "         [1.],\n",
       "         [1.],\n",
       "         [1.],\n",
       "         [1.],\n",
       "         [1.],\n",
       "         [1.],\n",
       "         [1.],\n",
       "         [0.],\n",
       "         [0.],\n",
       "         [0.],\n",
       "         [0.],\n",
       "         [0.],\n",
       "         [0.],\n",
       "         [0.],\n",
       "         [0.],\n",
       "         [0.],\n",
       "         [0.],\n",
       "         [0.],\n",
       "         [0.],\n",
       "         [0.],\n",
       "         [0.],\n",
       "         [0.],\n",
       "         [0.],\n",
       "         [0.],\n",
       "         [0.],\n",
       "         [0.],\n",
       "         [0.],\n",
       "         [0.],\n",
       "         [0.],\n",
       "         [0.],\n",
       "         [0.],\n",
       "         [0.],\n",
       "         [0.],\n",
       "         [0.],\n",
       "         [0.],\n",
       "         [0.],\n",
       "         [0.],\n",
       "         [0.],\n",
       "         [0.],\n",
       "         [0.],\n",
       "         [0.],\n",
       "         [0.],\n",
       "         [0.],\n",
       "         [0.],\n",
       "         [0.],\n",
       "         [0.]]),\n",
       " 'label': array([0, 0, 0, 0, 0, 0, 0, 1, 0, 0, 0, 0, 0, 0]),\n",
       " 'his_refined_mask': array([[1, 1, 1, ..., 0, 0, 0],\n",
       "        [1, 1, 1, ..., 0, 0, 0],\n",
       "        [1, 1, 0, ..., 1, 1, 1],\n",
       "        ...,\n",
       "        [0, 0, 0, ..., 0, 0, 0],\n",
       "        [0, 0, 0, ..., 0, 0, 0],\n",
       "        [0, 0, 0, ..., 0, 0, 0]])}"
      ]
     },
     "metadata": {},
     "execution_count": 13
    }
   ],
   "metadata": {}
  },
  {
   "cell_type": "code",
   "execution_count": null,
   "source": [
    "# manager.construct_whole_dataset()"
   ],
   "outputs": [],
   "metadata": {}
  },
  {
   "cell_type": "code",
   "execution_count": 2,
   "source": [
    "# behaviors = pickle.load(open('data/cache/bert/MINDlarge_dev/1000/behaviors.pkl','rb'))\n",
    "# news = pickle.load(open('data/cache/bert/MINDdemo_train/news.pkl','rb'))\n",
    "news = pickle.load(open('data/cache/bert/MINDlarge_train/news.pkl','rb'))\n",
    "\n",
    "enc = news['encoded_news']"
   ],
   "outputs": [],
   "metadata": {}
  },
  {
   "cell_type": "code",
   "execution_count": 1,
   "source": [
    "len(\"N77613 N5324 N88129 N26834 N121794 N85484 N16078 N85722 N74147 N99932 N67397 N121551 N82799 N67770 N9375 N65119 N9375 N124922 N70796 N127337 N85056 N127659 N126802 N62383 N88290 N115743 N122766 N60882 N29907 N8427 N25353 N45946 N122920 N26947 N107290 N77265 N108319\".split())"
   ],
   "outputs": [
    {
     "output_type": "execute_result",
     "data": {
      "text/plain": [
       "37"
      ]
     },
     "metadata": {},
     "execution_count": 1
    }
   ],
   "metadata": {}
  },
  {
   "cell_type": "code",
   "execution_count": 6,
   "source": [
    "news = pickle.load(open('/data/workspace/Peitian/Code/Document-Reduction/Code/data/cache/bert/MINDdemo_train/news.pkl', 'rb'))\n",
    "ids = news['encoded_news']\n",
    "subwords = news['subwords_all']\n",
    "\n",
    "index = 37405\n",
    "news = t.convert_ids_to_tokens(a.encoded_news_original[index])\n",
    "mask = a.attn_mask_original[index]\n",
    "subword = a.subwords_original[index]\n",
    "\n",
    "for i,j,k in zip(news,mask,subword):\n",
    "    print(i,j,k)"
   ],
   "outputs": [
    {
     "output_type": "error",
     "ename": "AttributeError",
     "evalue": "'MIND' object has no attribute 'encoded_news_original'",
     "traceback": [
      "\u001b[0;31m---------------------------------------------------------------------------\u001b[0m",
      "\u001b[0;31mAttributeError\u001b[0m                            Traceback (most recent call last)",
      "\u001b[0;32m/tmp/ipykernel_223359/2232928378.py\u001b[0m in \u001b[0;36m<module>\u001b[0;34m\u001b[0m\n\u001b[1;32m      4\u001b[0m \u001b[0;34m\u001b[0m\u001b[0m\n\u001b[1;32m      5\u001b[0m \u001b[0mindex\u001b[0m \u001b[0;34m=\u001b[0m \u001b[0;36m37405\u001b[0m\u001b[0;34m\u001b[0m\u001b[0;34m\u001b[0m\u001b[0m\n\u001b[0;32m----> 6\u001b[0;31m \u001b[0mnews\u001b[0m \u001b[0;34m=\u001b[0m \u001b[0mt\u001b[0m\u001b[0;34m.\u001b[0m\u001b[0mconvert_ids_to_tokens\u001b[0m\u001b[0;34m(\u001b[0m\u001b[0ma\u001b[0m\u001b[0;34m.\u001b[0m\u001b[0mencoded_news_original\u001b[0m\u001b[0;34m[\u001b[0m\u001b[0mindex\u001b[0m\u001b[0;34m]\u001b[0m\u001b[0;34m)\u001b[0m\u001b[0;34m\u001b[0m\u001b[0;34m\u001b[0m\u001b[0m\n\u001b[0m\u001b[1;32m      7\u001b[0m \u001b[0mmask\u001b[0m \u001b[0;34m=\u001b[0m \u001b[0ma\u001b[0m\u001b[0;34m.\u001b[0m\u001b[0mattn_mask_original\u001b[0m\u001b[0;34m[\u001b[0m\u001b[0mindex\u001b[0m\u001b[0;34m]\u001b[0m\u001b[0;34m\u001b[0m\u001b[0;34m\u001b[0m\u001b[0m\n\u001b[1;32m      8\u001b[0m \u001b[0msubword\u001b[0m \u001b[0;34m=\u001b[0m \u001b[0ma\u001b[0m\u001b[0;34m.\u001b[0m\u001b[0msubwords_original\u001b[0m\u001b[0;34m[\u001b[0m\u001b[0mindex\u001b[0m\u001b[0;34m]\u001b[0m\u001b[0;34m\u001b[0m\u001b[0;34m\u001b[0m\u001b[0m\n",
      "\u001b[0;31mAttributeError\u001b[0m: 'MIND' object has no attribute 'encoded_news_original'"
     ]
    }
   ],
   "metadata": {}
  },
  {
   "cell_type": "code",
   "execution_count": 7,
   "source": [
    "# bm25, entity, first\n",
    "index = 1\n",
    "\n",
    "# news = t.convert_ids_to_tokens(a[index]['his_encoded_index'][1])\n",
    "# mask = a[index]['his_attn_mask'][1]\n",
    "# word = manager.convert_tokens_to_words(news)\n",
    "# subword = a[index]['his_subword_index'][1]\n",
    "\n",
    "# for i,j,k in zip(news,mask,subword):\n",
    "#     print(i,j,k)\n",
    "res = a[index]\n",
    "ids = res['cdd_id'][1]\n",
    "news = t.convert_ids_to_tokens(res['cdd_encoded_index'][1])\n",
    "mask = res['cdd_attn_mask'][1]\n",
    "# word = manager.convert_tokens_to_words(news)\n",
    "# subword = res['cdd_subword_index'][1]\n",
    "print(ids)\n",
    "for i,j,k in zip(news,mask):\n",
    "    print(i,j,k)"
   ],
   "outputs": [
    {
     "output_type": "error",
     "ename": "KeyError",
     "evalue": "'cdd_subword_index'",
     "traceback": [
      "\u001b[0;31m---------------------------------------------------------------------------\u001b[0m",
      "\u001b[0;31mKeyError\u001b[0m                                  Traceback (most recent call last)",
      "\u001b[0;32m/tmp/ipykernel_223359/2146234479.py\u001b[0m in \u001b[0;36m<module>\u001b[0;34m\u001b[0m\n\u001b[1;32m     14\u001b[0m \u001b[0mmask\u001b[0m \u001b[0;34m=\u001b[0m \u001b[0mres\u001b[0m\u001b[0;34m[\u001b[0m\u001b[0;34m'cdd_attn_mask'\u001b[0m\u001b[0;34m]\u001b[0m\u001b[0;34m[\u001b[0m\u001b[0;36m1\u001b[0m\u001b[0;34m]\u001b[0m\u001b[0;34m\u001b[0m\u001b[0;34m\u001b[0m\u001b[0m\n\u001b[1;32m     15\u001b[0m \u001b[0;31m# word = manager.convert_tokens_to_words(news)\u001b[0m\u001b[0;34m\u001b[0m\u001b[0;34m\u001b[0m\u001b[0;34m\u001b[0m\u001b[0m\n\u001b[0;32m---> 16\u001b[0;31m \u001b[0msubword\u001b[0m \u001b[0;34m=\u001b[0m \u001b[0mres\u001b[0m\u001b[0;34m[\u001b[0m\u001b[0;34m'cdd_subword_index'\u001b[0m\u001b[0;34m]\u001b[0m\u001b[0;34m[\u001b[0m\u001b[0;36m1\u001b[0m\u001b[0;34m]\u001b[0m\u001b[0;34m\u001b[0m\u001b[0;34m\u001b[0m\u001b[0m\n\u001b[0m\u001b[1;32m     17\u001b[0m \u001b[0mprint\u001b[0m\u001b[0;34m(\u001b[0m\u001b[0mids\u001b[0m\u001b[0;34m)\u001b[0m\u001b[0;34m\u001b[0m\u001b[0;34m\u001b[0m\u001b[0m\n\u001b[1;32m     18\u001b[0m \u001b[0;32mfor\u001b[0m \u001b[0mi\u001b[0m\u001b[0;34m,\u001b[0m\u001b[0mj\u001b[0m\u001b[0;34m,\u001b[0m\u001b[0mk\u001b[0m \u001b[0;32min\u001b[0m \u001b[0mzip\u001b[0m\u001b[0;34m(\u001b[0m\u001b[0mnews\u001b[0m\u001b[0;34m,\u001b[0m\u001b[0mmask\u001b[0m\u001b[0;34m,\u001b[0m\u001b[0msubword\u001b[0m\u001b[0;34m)\u001b[0m\u001b[0;34m:\u001b[0m\u001b[0;34m\u001b[0m\u001b[0;34m\u001b[0m\u001b[0m\n",
      "\u001b[0;31mKeyError\u001b[0m: 'cdd_subword_index'"
     ]
    }
   ],
   "metadata": {}
  },
  {
   "cell_type": "code",
   "execution_count": 9,
   "source": [
    "news = t.convert_ids_to_tokens(a[0]['his_encoded_index'][1])\n",
    "mask = a[0]['his_attn_mask'][1]\n",
    "word = manager.convert_tokens_to_words(news)\n",
    "# subword = a[0]['his_subword_index'][1]\n",
    "dedup = a[0]['his_refined_mask'][1]\n",
    "\n",
    "for i,j,k in zip(news,mask,dedup):\n",
    "    print(i,j,k)"
   ],
   "outputs": [
    {
     "output_type": "stream",
     "name": "stdout",
     "text": [
      "[CLS] 1 1\n",
      "three 1 1\n",
      "take 1 1\n",
      "##away 1 1\n",
      "##s 1 1\n",
      "from 1 1\n",
      "yankees 1 1\n",
      "' 1 1\n",
      "al 1 1\n",
      "##cs 1 1\n",
      "game 1 1\n",
      "5 1 1\n",
      "victory 1 1\n",
      "over 1 1\n",
      "the 1 1\n",
      "astros 1 1\n",
      "the 1 0\n",
      "yankees 1 0\n",
      "kept 1 1\n",
      "hope 1 1\n",
      "alive 1 1\n",
      "thanks 1 1\n",
      "to 1 1\n",
      "some 1 1\n",
      "impressive 1 1\n",
      "starting 1 1\n",
      "pitching 1 1\n",
      "and 1 1\n",
      "a 1 1\n",
      "pair 1 1\n",
      "of 1 1\n",
      "early 1 1\n",
      "home 1 1\n",
      "runs 1 1\n",
      ". 1 0\n",
      "baseball 1 1\n",
      "_ 1 0\n",
      "mlb 1 1\n",
      "[SEP] 1 0\n",
      "[PAD] 0 0\n",
      "[PAD] 0 0\n",
      "[PAD] 0 0\n",
      "[PAD] 0 0\n",
      "[PAD] 0 0\n",
      "[PAD] 0 0\n",
      "[PAD] 0 0\n",
      "[PAD] 0 0\n",
      "[PAD] 0 0\n",
      "[PAD] 0 0\n",
      "[PAD] 0 0\n",
      "[PAD] 0 0\n",
      "[PAD] 0 0\n",
      "[PAD] 0 0\n",
      "[PAD] 0 0\n",
      "[PAD] 0 0\n",
      "[PAD] 0 0\n",
      "[PAD] 0 0\n",
      "[PAD] 0 0\n",
      "[PAD] 0 0\n",
      "[PAD] 0 0\n",
      "[PAD] 0 0\n",
      "[PAD] 0 0\n",
      "[PAD] 0 0\n",
      "[PAD] 0 0\n",
      "[PAD] 0 0\n",
      "[PAD] 0 0\n",
      "[PAD] 0 0\n",
      "[PAD] 0 0\n",
      "[PAD] 0 0\n",
      "[PAD] 0 0\n",
      "[PAD] 0 0\n",
      "[PAD] 0 0\n",
      "[PAD] 0 0\n",
      "[PAD] 0 0\n",
      "[PAD] 0 0\n",
      "[PAD] 0 0\n",
      "[PAD] 0 0\n",
      "[PAD] 0 0\n",
      "[PAD] 0 0\n",
      "[PAD] 0 0\n",
      "[PAD] 0 0\n",
      "[PAD] 0 0\n",
      "[PAD] 0 0\n",
      "[PAD] 0 0\n",
      "[PAD] 0 0\n",
      "[PAD] 0 0\n",
      "[PAD] 0 0\n",
      "[PAD] 0 0\n",
      "[PAD] 0 0\n",
      "[PAD] 0 0\n",
      "[PAD] 0 0\n",
      "[PAD] 0 0\n",
      "[PAD] 0 0\n",
      "[PAD] 0 0\n",
      "[PAD] 0 0\n",
      "[PAD] 0 0\n",
      "[PAD] 0 0\n",
      "[PAD] 0 0\n",
      "[PAD] 0 0\n",
      "[PAD] 0 0\n"
     ]
    }
   ],
   "metadata": {}
  },
  {
   "cell_type": "code",
   "execution_count": null,
   "source": [],
   "outputs": [],
   "metadata": {}
  }
 ],
 "metadata": {
  "orig_nbformat": 4,
  "language_info": {
   "name": "python",
   "version": "3.8.11",
   "mimetype": "text/x-python",
   "codemirror_mode": {
    "name": "ipython",
    "version": 3
   },
   "pygments_lexer": "ipython3",
   "nbconvert_exporter": "python",
   "file_extension": ".py"
  },
  "kernelspec": {
   "name": "python3",
   "display_name": "Python 3.8.11 64-bit"
  },
  "interpreter": {
   "hash": "0f43efc2da5f33d61ae1bd929e6c7df9dd2aa7f250aadb5586d31de3e27bb6a5"
  }
 },
 "nbformat": 4,
 "nbformat_minor": 2
}