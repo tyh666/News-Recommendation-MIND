{
 "cells": [
  {
   "cell_type": "markdown",
   "source": [],
   "metadata": {}
  },
  {
   "cell_type": "code",
   "execution_count": 1,
   "source": [
    "import re\r\n",
    "import os\r\n",
    "import pickle\r\n",
    "import numpy as np\r\n",
    "from torch.utils.data import Dataset\r\n",
    "from utils.utils import newsample, getId2idx, tokenize, getVocab, my_collate\r\n",
    "from data.configs.demo import config\r\n",
    "from torch.utils.data import DataLoader"
   ],
   "outputs": [],
   "metadata": {}
  },
  {
   "cell_type": "code",
   "execution_count": 2,
   "source": [
    "from utils.MIND import MIND_bert, MIND"
   ],
   "outputs": [],
   "metadata": {}
  },
  {
   "cell_type": "code",
   "execution_count": 3,
   "source": [
    "train_path = \"C:/MIND/MINDdemo_train/\"\r\n",
    "config.embedding = 'bert'\r\n",
    "\r\n",
    "config.signal_length = 20\r\n",
    "config.his_size = 10\r\n",
    "a = MIND_bert(config, train_path + 'news.tsv', train_path + 'behaviors.tsv')"
   ],
   "outputs": [],
   "metadata": {}
  },
  {
   "cell_type": "code",
   "execution_count": 4,
   "source": [
    "config.embedding = 'glove'\r\n",
    "\r\n",
    "config.his_size = 10\r\n",
    "b = MIND(config, train_path + 'news.tsv', train_path + 'behaviors.tsv')"
   ],
   "outputs": [],
   "metadata": {}
  },
  {
   "cell_type": "code",
   "execution_count": 5,
   "source": [
    "a[10]"
   ],
   "outputs": [
    {
     "output_type": "execute_result",
     "data": {
      "text/plain": [
       "{'user_index': array([10]),\n",
       " 'cdd_id': array([45975, 33900,     0,     0,     0]),\n",
       " 'his_id': array([21323, 18967, 18909, 15911,  4045, 21717,  8587, 24359, 14485,\n",
       "        16311]),\n",
       " 'cdd_encoded_index': array([[10973,  4202,  1005,  1055,  3426,  1997,  2331,  3936,  1010,\n",
       "          3986,  2326,  5115,  2005,  2101,  2023,  3204,  1996,  9971,\n",
       "          2351,  2012],\n",
       "        [ 2798,  7369,  1010,  2280,  4174,  2110,  2374,  1010,  5626,\n",
       "          7212,  2732,  1010,  2757,  2012,  4229,  2798,  7369,  1010,\n",
       "          1996,  2280],\n",
       "        [    0,     0,     0,     0,     0,     0,     0,     0,     0,\n",
       "             0,     0,     0,     0,     0,     0,     0,     0,     0,\n",
       "             0,     0],\n",
       "        [    0,     0,     0,     0,     0,     0,     0,     0,     0,\n",
       "             0,     0,     0,     0,     0,     0,     0,     0,     0,\n",
       "             0,     0],\n",
       "        [    0,     0,     0,     0,     0,     0,     0,     0,     0,\n",
       "             0,     0,     0,     0,     0,     0,     0,     0,     0,\n",
       "             0,     0]]),\n",
       " 'his_encoded_index': array([[11419,  5615,  1005,  1055,  2303,  2766,  2013,  7798,  2524,\n",
       "          2600,  3309,  1037,  2155,  3173,  6819, 20142,  2648,  1996,\n",
       "          2609,  1997],\n",
       "        [12279,  9438,  2543,  5475,  2015,  2091,  1010,  3082, 15811,\n",
       "          2006,  2264,  3023,  1037,  2047,  4040,  2291,  2003,  4975,\n",
       "          1999,  1996],\n",
       "        [ 6892, 16558,  5657,  4946,  3084,  5057,  4899,  2012,  1046,\n",
       "         24316,  3199,  1996,  4946,  5565,  9689,  1999, 16392,  4465,\n",
       "          2305,  1012],\n",
       "        [ 4238,  2035, 24746,  2015,  3097,  2231,  2369,  1005, 26648,\n",
       "          1005,  2911,  2886,  4238,  2056,  6928,  1037,  3097,  2231,\n",
       "          2001,  2369],\n",
       "        [ 2339,  2024,  2087,  2948,  4993,  9197,  2317,  1029,  2948,\n",
       "         11290,  3111,  1010,  2030,  1996,  5617,  4993,  2006,  1996,\n",
       "          8829,  1997],\n",
       "        [13653,  1011, 12017,  9190,  2015,  2537,  1997,  2047,  3751,\n",
       "         18580, 13653,  1011, 12017,  2038, 12705,  2537,  1998, 23534,\n",
       "          1997,  2049],\n",
       "        [15288,  2179,  2006,  4229,  1997,  6282,  2692, 10321, 22061,\n",
       "         12835,  9924, 20456, 16452, 15288,  2179,  2006,  4229,  1997,\n",
       "          6282,  2692],\n",
       "        [28514, 17170,  2015,  2125,  2006,  8037,  2058, 17727,  5243,\n",
       "         22729,  4001,  3484,  3003, 11857, 28514,  1006,  1054,  1011,\n",
       "         18712,  1012],\n",
       "        [ 7756, 12219, 23029,  2693,  2000,  3347, 25328,  2013,  9270,\n",
       "          3068,  1996, 12087,  6406,  6928,  2011,  1996,  2110,  1005,\n",
       "          1055, 10355],\n",
       "        [ 2740,  5432,  4196,  2058,  2543,  2012,  2662,  3514,  4322,\n",
       "          4614,  2031,  4196,  7713,  1011,  1999,  1011,  2173,  4449,\n",
       "          2005,  2070]]),\n",
       " 'cdd_attn_mask': array([[1, 1, 1, 1, 1, 1, 1, 1, 1, 1, 1, 1, 1, 1, 1, 1, 1, 1, 1, 1],\n",
       "        [1, 1, 1, 1, 1, 1, 1, 1, 1, 1, 1, 1, 1, 1, 1, 1, 1, 1, 1, 1],\n",
       "        [1, 1, 1, 1, 1, 1, 1, 1, 1, 1, 1, 1, 1, 1, 1, 1, 1, 1, 1, 1],\n",
       "        [1, 1, 1, 1, 1, 1, 1, 1, 1, 1, 1, 1, 1, 1, 1, 1, 1, 1, 1, 1],\n",
       "        [1, 1, 1, 1, 1, 1, 1, 1, 1, 1, 1, 1, 1, 1, 1, 1, 1, 1, 1, 1]]),\n",
       " 'his_attn_mask': array([[1, 1, 1, 1, 1, 1, 1, 1, 1, 1, 1, 1, 1, 1, 1, 1, 1, 1, 1, 1],\n",
       "        [1, 1, 1, 1, 1, 1, 1, 1, 1, 1, 1, 1, 1, 1, 1, 1, 1, 1, 1, 1],\n",
       "        [1, 1, 1, 1, 1, 1, 1, 1, 1, 1, 1, 1, 1, 1, 1, 1, 1, 1, 1, 1],\n",
       "        [1, 1, 1, 1, 1, 1, 1, 1, 1, 1, 1, 1, 1, 1, 1, 1, 1, 1, 1, 1],\n",
       "        [1, 1, 1, 1, 1, 1, 1, 1, 1, 1, 1, 1, 1, 1, 1, 1, 1, 1, 1, 1],\n",
       "        [1, 1, 1, 1, 1, 1, 1, 1, 1, 1, 1, 1, 1, 1, 1, 1, 1, 1, 1, 1],\n",
       "        [1, 1, 1, 1, 1, 1, 1, 1, 1, 1, 1, 1, 1, 1, 1, 1, 1, 1, 1, 1],\n",
       "        [1, 1, 1, 1, 1, 1, 1, 1, 1, 1, 1, 1, 1, 1, 1, 1, 1, 1, 1, 1],\n",
       "        [1, 1, 1, 1, 1, 1, 1, 1, 1, 1, 1, 1, 1, 1, 1, 1, 1, 1, 1, 1],\n",
       "        [1, 1, 1, 1, 1, 1, 1, 1, 1, 1, 1, 1, 1, 1, 1, 1, 1, 1, 1, 1]]),\n",
       " 'his_mask': array([ True,  True,  True,  True,  True,  True,  True,  True,  True,\n",
       "         True]),\n",
       " 'labels': [1, 0, 0, 0, 0]}"
      ]
     },
     "metadata": {},
     "execution_count": 5
    }
   ],
   "metadata": {}
  },
  {
   "cell_type": "code",
   "execution_count": 6,
   "source": [
    "b[10]"
   ],
   "outputs": [
    {
     "output_type": "execute_result",
     "data": {
      "text/plain": [
       "{'user_index': array([10]),\n",
       " 'cdd_id': array([45975, 33900,     0,     0,     0]),\n",
       " 'his_id': array([21323, 18967, 18909, 15911,  4045, 21717,  8587, 24359, 14485,\n",
       "        16311]),\n",
       " 'cdd_encoded_index': array([[8840, 1003,   11, 1254,    9,  307, 1511,    4, 1394,  315, 1237,\n",
       "           12,  598,   31,  322,    1,    1,    1,    1,    1],\n",
       "        [1803, 2838,    4,  124,  219,   55,  120,    4,  371,  556,  391,\n",
       "            4,  433,   16, 2920,    1,    1,    1,    1,    1],\n",
       "        [   1,    1,    1,    1,    1,    1,    1,    1,    1,    1,    1,\n",
       "            1,    1,    1,    1,    1,    1,    1,    1,    1],\n",
       "        [   1,    1,    1,    1,    1,    1,    1,    1,    1,    1,    1,\n",
       "            1,    1,    1,    1,    1,    1,    1,    1,    1],\n",
       "        [   1,    1,    1,    1,    1,    1,    1,    1,    1,    1,    1,\n",
       "            1,    1,    1,    1,    1,    1,    1,    1,    1]]),\n",
       " 'his_encoded_index': array([[ 2637,  5755,    11,   798,  1406,    22,  3509,   582,   777,\n",
       "           886,     1,     1,     1,     1,     1,     1,     1,     1,\n",
       "             1,     1],\n",
       "        [ 6946,   101, 37247,   141,     4,  1316,  6439,    13,   323,\n",
       "           766,     1,     1,     1,     1,     1,     1,     1,     1,\n",
       "             1,     1],\n",
       "        [10687,  1036,   646,   850,  2196,    16, 12958,   594,     1,\n",
       "             1,     1,     1,     1,     1,     1,     1,     1,     1,\n",
       "             1,     1],\n",
       "        [ 3382,  5327,  1848,   930,   524, 13975,  2237,   973,     1,\n",
       "             1,     1,     1,     1,     1,     1,     1,     1,     1,\n",
       "             1,     1],\n",
       "        [  244,    24,   127,  3179,  7438, 14591,   274,    42,     1,\n",
       "             1,     1,     1,     1,     1,     1,     1,     1,     1,\n",
       "             1,     1],\n",
       "        [ 9300, 11191,  2052,     9,    30,  1363,  7058,     1,     1,\n",
       "             1,     1,     1,     1,     1,     1,     1,     1,     1,\n",
       "             1,     1],\n",
       "        [ 7414,   155,    13,  2920,     9, 23254,  2481,  3941, 22755,\n",
       "           650, 15726, 12410,     1,     1,     1,     1,     1,     1,\n",
       "             1,     1],\n",
       "        [ 3270, 25835,   116,    13,   526,    60,   152,     1,     1,\n",
       "             1,     1,     1,     1,     1,     1,     1,     1,     1,\n",
       "             1,     1],\n",
       "        [ 4350,  5274, 12343,   479,     6,   910,  8143,    22,  2995,\n",
       "          1550,     1,     1,     1,     1,     1,     1,     1,     1,\n",
       "             1,     1],\n",
       "        [  125,  1089,  4042,    60,   101,    16,   235,  1131,  1225,\n",
       "             1,     1,     1,     1,     1,     1,     1,     1,     1,\n",
       "             1,     1]]),\n",
       " 'cdd_attn_mask': array([[1, 1, 1, 1, 1, 1, 1, 1, 1, 1, 1, 1, 1, 1, 1, 0, 0, 0, 0, 0],\n",
       "        [1, 1, 1, 1, 1, 1, 1, 1, 1, 1, 1, 1, 1, 1, 1, 0, 0, 0, 0, 0],\n",
       "        [0, 0, 0, 0, 0, 0, 0, 0, 0, 0, 0, 0, 0, 0, 0, 0, 0, 0, 0, 0],\n",
       "        [0, 0, 0, 0, 0, 0, 0, 0, 0, 0, 0, 0, 0, 0, 0, 0, 0, 0, 0, 0],\n",
       "        [0, 0, 0, 0, 0, 0, 0, 0, 0, 0, 0, 0, 0, 0, 0, 0, 0, 0, 0, 0]]),\n",
       " 'his_attn_mask': array([[1, 1, 1, 1, 1, 1, 1, 1, 1, 1, 0, 0, 0, 0, 0, 0, 0, 0, 0, 0],\n",
       "        [1, 1, 1, 1, 1, 1, 1, 1, 1, 1, 0, 0, 0, 0, 0, 0, 0, 0, 0, 0],\n",
       "        [1, 1, 1, 1, 1, 1, 1, 1, 0, 0, 0, 0, 0, 0, 0, 0, 0, 0, 0, 0],\n",
       "        [1, 1, 1, 1, 1, 1, 1, 1, 0, 0, 0, 0, 0, 0, 0, 0, 0, 0, 0, 0],\n",
       "        [1, 1, 1, 1, 1, 1, 1, 1, 0, 0, 0, 0, 0, 0, 0, 0, 0, 0, 0, 0],\n",
       "        [1, 1, 1, 1, 1, 1, 1, 0, 0, 0, 0, 0, 0, 0, 0, 0, 0, 0, 0, 0],\n",
       "        [1, 1, 1, 1, 1, 1, 1, 1, 1, 1, 1, 1, 0, 0, 0, 0, 0, 0, 0, 0],\n",
       "        [1, 1, 1, 1, 1, 1, 1, 0, 0, 0, 0, 0, 0, 0, 0, 0, 0, 0, 0, 0],\n",
       "        [1, 1, 1, 1, 1, 1, 1, 1, 1, 1, 0, 0, 0, 0, 0, 0, 0, 0, 0, 0],\n",
       "        [1, 1, 1, 1, 1, 1, 1, 1, 1, 0, 0, 0, 0, 0, 0, 0, 0, 0, 0, 0]]),\n",
       " 'his_mask': array([ True,  True,  True,  True,  True,  True,  True,  True,  True,\n",
       "         True]),\n",
       " 'labels': [1, 0, 0, 0, 0]}"
      ]
     },
     "metadata": {},
     "execution_count": 6
    }
   ],
   "metadata": {}
  },
  {
   "cell_type": "code",
   "execution_count": 7,
   "source": [
    "from torch.utils.data.distributed import DistributedSampler\r\n",
    "s = DistributedSampler(a, num_replicas=2, rank=0, shuffle=False)"
   ],
   "outputs": [],
   "metadata": {}
  },
  {
   "cell_type": "code",
   "execution_count": 8,
   "source": [
    "loader_train = DataLoader(a, batch_size=config.batch_size, pin_memory=False, num_workers=0, drop_last=False, shuffle=False, collate_fn=my_collate, sampler=None)\r\n",
    "record = next(iter(loader_train))"
   ],
   "outputs": [],
   "metadata": {}
  },
  {
   "cell_type": "code",
   "execution_count": 8,
   "source": [
    "loader_train = DataLoader(b, batch_size=config.batch_size, pin_memory=False, num_workers=0, drop_last=False, shuffle=False, collate_fn=my_collate, sampler=None)\r\n",
    "record = next(iter(loader_train))"
   ],
   "outputs": [],
   "metadata": {}
  },
  {
   "cell_type": "code",
   "execution_count": 11,
   "source": [
    "record['cdd_attn_mask'].shape, record['cdd_encoded_index'].shape"
   ],
   "outputs": [
    {
     "output_type": "execute_result",
     "data": {
      "text/plain": [
       "(torch.Size([10, 5, 20]), torch.Size([10, 5, 20]))"
      ]
     },
     "metadata": {},
     "execution_count": 11
    }
   ],
   "metadata": {}
  },
  {
   "cell_type": "code",
   "execution_count": null,
   "source": [],
   "outputs": [],
   "metadata": {}
  }
 ],
 "metadata": {
  "orig_nbformat": 4,
  "language_info": {
   "name": "python",
   "version": "3.8.8",
   "mimetype": "text/x-python",
   "codemirror_mode": {
    "name": "ipython",
    "version": 3
   },
   "pygments_lexer": "ipython3",
   "nbconvert_exporter": "python",
   "file_extension": ".py"
  },
  "kernelspec": {
   "name": "python3",
   "display_name": "Python 3.8.8 64-bit ('base': conda)"
  },
  "interpreter": {
   "hash": "01f651214b0df947376b22bdce96981aa6546e177d04daceb10ed93c0185908c"
  }
 },
 "nbformat": 4,
 "nbformat_minor": 2
}