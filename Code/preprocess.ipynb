{
 "cells": [
  {
   "cell_type": "code",
   "execution_count": 1,
   "source": [
    "import re\n",
    "import os\n",
    "import pickle\n",
    "import numpy as np\n",
    "import pandas as pd\n",
    "import json\n",
    "import logging\n",
    "import torch\n",
    "import math\n",
    "import time\n",
    "from tqdm import tqdm_notebook as tqdm\n",
    "from datetime import datetime\n",
    "from torch.utils.data import Dataset\n",
    "from utils.utils import newsample, getId2idx, tokenize, getVocab, my_collate, Partition_Sampler\n",
    "from data.configs.demo import config\n",
    "from torch.utils.data import DataLoader\n",
    "from collections import defaultdict\n",
    "from transformers import AutoTokenizer, AutoModel\n",
    "from utils.MIND import MIND, MIND_news, MIND_history\n",
    "from utils.Manager import Manager\n",
    "\n",
    "logger = logging.getLogger(__name__)"
   ],
   "outputs": [],
   "metadata": {}
  },
  {
   "cell_type": "code",
   "execution_count": null,
   "source": [
    "# t = AutoTokenizer.from_pretrained('bert-base-uncased', cache_dir=config.path + \"bert_cache/\")\n",
    "# t2 = AutoTokenizer.from_pretrained('microsoft/deberta-base', cache_dir=config.path + \"bert_cache/\")\n",
    "# t3 = AutoTokenizer.from_pretrained('google/bigbird-roberta-base', cache_dir=config.path + \"bert_cache/\")"
   ],
   "outputs": [],
   "metadata": {}
  },
  {
   "cell_type": "code",
   "execution_count": 2,
   "source": [
    "# config.reducer = 'bm25'\n",
    "# config.reducer = 'bow'\n",
    "# config.reducer = 'matching'\n",
    "# config.reducer = 'first'\n",
    "\n",
    "# config.signal_length = 10\n",
    "config.scale = 'large'\n",
    "config.impr_size = 1000\n",
    "config.mode = 'encode'\n",
    "config.news = None\n",
    "# config.fast = True\n",
    "# config.news = 21563\n",
    "\n",
    "# config.bert = 'microsoft/deberta-base'\n",
    "# config.embedding = 'deberta'\n",
    "\n",
    "# config.bert = 'bert-base-uncased\n",
    "# config.embedding = 'bert'\n",
    "\n",
    "manager = Manager(config)\n",
    "# file_directory = manager.path + \"MIND/MIND{}_{}/\".format(manager.scale, manager.mode)\n",
    "file_directory = manager.path + \"MIND/MIND{}_dev/\".format(manager.scale)\n",
    "# manager.gather_same_user_impr()\n",
    "\n",
    "a = MIND_history(manager, file_directory)\n",
    "# b = MIND_news(manager)"
   ],
   "outputs": [
    {
     "output_type": "stream",
     "name": "stderr",
     "text": [
      "[2021-11-05 05:29:09,615] INFO (utils.MIND) process NO.0 loading cached user behavior from data/cache/bert/MINDlarge_dev/1000/behaviors.pkl\n",
      "[2021-11-05 05:29:12,983] INFO (utils.MIND) process NO.0 loading cached news tokenization from data/cache/bert/MINDlarge_dev/news.pkl\n",
      "[2021-11-05 05:29:13,922] INFO (utils.utils) deduplicating...\n"
     ]
    }
   ],
   "metadata": {}
  },
  {
   "cell_type": "code",
   "execution_count": 4,
   "source": [
    "a[1]"
   ],
   "outputs": [
    {
     "output_type": "execute_result",
     "data": {
      "text/plain": [
       "{'impr_index': 2,\n",
       " 'user_id': 516861,\n",
       " 'his_id': array([62326, 56055, 50011, 56063, 14115, 18785, 39544, 19156, 27416,\n",
       "        52335,  8319, 14915,   940,   872, 18691, 23304, 45940, 49597,\n",
       "        56185, 13217, 21563, 58333, 35183,  9354, 30137, 44644, 47782,\n",
       "        55564, 12334, 34692, 53057, 49667, 38773,  5266, 27909, 53101,\n",
       "        46648, 27154, 41911, 37117,  3043, 45472, 47277, 29900, 56863,\n",
       "        46850, 56989, 34069, 30705, 45279]),\n",
       " 'his_encoded_index': array([[  101,  3340,  2040, ...,     0,     0,     0],\n",
       "        [  101,  2450,  1010, ...,     0,     0,     0],\n",
       "        [  101,  2152,  2082, ...,     0,     0,     0],\n",
       "        ...,\n",
       "        [  101,  1018,  2152, ...,     0,     0,     0],\n",
       "        [  101,  2125,  1011, ...,  1996, 20587,  2056],\n",
       "        [  101,  1015,  2757, ...,     0,     0,     0]]),\n",
       " 'his_attn_mask': array([[1, 1, 1, ..., 0, 0, 0],\n",
       "        [1, 1, 1, ..., 0, 0, 0],\n",
       "        [1, 1, 1, ..., 0, 0, 0],\n",
       "        ...,\n",
       "        [1, 1, 1, ..., 0, 0, 0],\n",
       "        [1, 1, 1, ..., 1, 1, 1],\n",
       "        [1, 1, 1, ..., 0, 0, 0]]),\n",
       " 'his_mask': tensor([[1.],\n",
       "         [1.],\n",
       "         [1.],\n",
       "         [1.],\n",
       "         [1.],\n",
       "         [1.],\n",
       "         [1.],\n",
       "         [1.],\n",
       "         [1.],\n",
       "         [1.],\n",
       "         [1.],\n",
       "         [1.],\n",
       "         [1.],\n",
       "         [1.],\n",
       "         [1.],\n",
       "         [1.],\n",
       "         [1.],\n",
       "         [1.],\n",
       "         [1.],\n",
       "         [1.],\n",
       "         [1.],\n",
       "         [1.],\n",
       "         [1.],\n",
       "         [1.],\n",
       "         [1.],\n",
       "         [1.],\n",
       "         [1.],\n",
       "         [1.],\n",
       "         [1.],\n",
       "         [1.],\n",
       "         [1.],\n",
       "         [1.],\n",
       "         [1.],\n",
       "         [1.],\n",
       "         [1.],\n",
       "         [1.],\n",
       "         [1.],\n",
       "         [1.],\n",
       "         [1.],\n",
       "         [1.],\n",
       "         [1.],\n",
       "         [1.],\n",
       "         [1.],\n",
       "         [1.],\n",
       "         [1.],\n",
       "         [1.],\n",
       "         [1.],\n",
       "         [1.],\n",
       "         [1.],\n",
       "         [1.]]),\n",
       " 'label': array([0, 0, 0, 0, 1, 0, 0, 0, 0, 0, 0, 0, 0, 0, 0, 0, 0, 0, 0, 0, 0, 0,\n",
       "        0, 1, 0, 0, 0, 0, 0, 0, 0, 0, 0, 0, 0, 0, 0, 0, 0, 0, 0, 0, 0, 0,\n",
       "        0, 0, 0, 0, 0, 0, 0, 0, 1, 0, 0, 0, 0, 0, 0, 0, 0, 0, 0, 0, 0, 0,\n",
       "        0, 0, 0, 0, 0, 0, 0, 0, 0, 0, 0, 0, 0, 0, 0, 0, 0, 0, 0, 0, 0, 0,\n",
       "        0, 0, 0, 1, 0, 0, 0, 1, 0, 0, 0, 0, 0, 0, 0, 0, 0, 0, 0, 0, 0, 0,\n",
       "        0, 0, 0, 0, 0, 0, 0, 0, 0, 0, 0, 0, 0, 0, 0, 0, 0, 1, 0, 0, 0, 0,\n",
       "        0, 0, 0, 0, 0, 1, 0, 0, 0, 1, 0, 0, 0, 1, 0, 0, 0, 0, 0, 0, 0, 0,\n",
       "        0, 0, 0, 0, 0, 0, 0, 0, 0, 0, 0, 1, 0, 0, 0, 0, 0, 0, 0, 0, 0, 0,\n",
       "        1, 0, 0, 0, 0, 0, 0, 0, 0, 0, 0, 0, 0, 0, 0, 0, 0, 0, 0, 0, 0, 0,\n",
       "        0, 0, 0, 0, 0, 0, 0, 0, 0, 0, 0, 0, 0, 0, 0, 0, 0]),\n",
       " 'his_refined_mask': array([[1, 1, 1, ..., 0, 0, 0],\n",
       "        [1, 1, 0, ..., 0, 0, 0],\n",
       "        [1, 1, 1, ..., 0, 0, 0],\n",
       "        ...,\n",
       "        [1, 1, 1, ..., 0, 0, 0],\n",
       "        [1, 1, 0, ..., 0, 1, 0],\n",
       "        [1, 1, 1, ..., 0, 0, 0]])}"
      ]
     },
     "metadata": {},
     "execution_count": 4
    }
   ],
   "metadata": {}
  },
  {
   "cell_type": "code",
   "execution_count": 20,
   "source": [
    "f = open('/data/v-pezhang/Data/MIND/MINDlarge_dev/behaviors.tsv','r')\n",
    "count = 1\n",
    "for line in f:\n",
    "    if count == 127187:\n",
    "        x = line.split('\\t')\n",
    "        print(line)\n",
    "    count += 1\n",
    "f.close()"
   ],
   "outputs": [
    {
     "output_type": "stream",
     "name": "stdout",
     "text": [
      "162371\tU213018\t11/15/2019 3:31:11 AM\tN104299 N113326 N99768 N126397 N47349 N15819 N30521 N97343 N123633 N36663 N67779 N85005 N454 N10711 N80686 N112324 N121098 N98238 N29941 N116801 N36246 N32721 N25818 N42209 N47193 N94659 N90686 N25894 N6195 N47118 N12252 N78429 N100233 N21707 N6799 N88769 N65757 N41300 N80126 N79834 N122561 N25463 N91580 N120705 N4289 N115671 N94872 N2927 N106025 N20441 N78936 N58184 N101718 N66190 N125867 N26043 N67061 N46137 N9892 N67133 N128175 N97753 N47193 N82603 N96616 N103634 N93049 N17355 N44524 N92646 N61712 N114848 N113688 N38388 N5674 N44148 N11266 N38845 N114568 N34519 N10923 N38845 N9690 N43402 N99458 N24327 N93987 N57217 N18966 N71977 N119590 N54618 N50729 N93493 N84799 N44826 N99305 N113698 N23386 N578 N33512 N44176 N41377 N24446 N48926 N71650 N126608 N75220 N91968 N88466 N9651 N115658 N92277 N90939 N49747 N1713 N85594 N58220 N63476 N102145 N119891 N114787 N26948 N82649 N102489 N107322 N95066 N84423 N37530 N31323 N84436 N98042\tN97743-0 N114057-0 N75646-0 N46380-0 N124659-0 N110603-0 N64041-0 N32993-0 N29461-0 N18876-0 N43355-0 N40357-0 N58823-0 N39630-0 N46716-0 N122640-0 N24735-0 N30532-0 N22627-0 N6624-0 N121411-0 N92199-0 N45845-0 N99184-0 N4331-0 N35236-0 N126091-0 N61933-0 N78291-0 N88596-0 N90206-0 N24668-0 N106619-0 N36807-0 N83212-0 N130048-0 N104161-0 N22562-0 N607-0 N121440-0 N95388-0 N279-0 N117580-0 N16716-0 N34629-0 N123328-0 N102123-0 N94211-0 N84706-1 N18190-0 N50175-0 N106659-0 N83374-0 N14675-0 N26667-0 N7907-0 N14066-0 N103133-0 N122944-0 N3601-0 N67706-0 N68048-0 N87928-0 N17973-0 N126404-0 N33901-0 N48360-0 N364-0 N18761-0 N84235-0 N15861-0 N28837-0 N56887-0 N40795-0 N77503-0 N6745-0 N22177-0 N45020-0 N12966-0 N44453-0 N59619-0 N105956-0 N26122-0 N28067-0 N28056-0 N20250-0 N3623-0 N105029-0 N102426-0 N63342-0 N80770-0 N123968-0 N110439-0 N72977-0 N97722-0 N30955-0 N67588-0 N35415-0 N112128-0 N119526-0 N52813-0 N20802-0 N34254-0 N48523-0 N46403-0 N28518-0 N50730-0 N29160-0 N50458-0 N880-0 N29050-0 N19162-0 N19834-0 N73154-0 N92300-0 N5521-0 N27669-0 N102304-0 N25728-0 N61964-0 N63322-0 N115416-0 N91506-0 N8749-0 N39484-0 N113117-0 N65017-0 N61579-0 N25814-0 N82137-0 N110025-0 N56451-0 N46894-0 N106307-0 N119378-0 N48205-0 N116064-0 N43800-0 N1767-0 N107472-0 N65446-0 N70883-0 N76254-0 N109852-0 N60732-0 N123683-0 N83824-0 N96351-0 N1497-0 N7728-0 N33011-0 N43000-0 N97912-0 N79480-0 N41889-0 N59297-0 N28930-0 N36014-0 N19630-0 N103369-0 N83598-0 N17431-0 N72919-0 N29477-0 N56133-0 N66366-0 N125720-0 N98519-0 N39877-0 N40742-0 N106306-0 N51048-0 N110709-0 N118623-0 N56565-0 N4910-0 N13297-0 N8599-0 N82573-0 N82503-0 N27481-0 N28861-0 N27368-0 N67307-0 N59288-0 N106409-0 N4154-0 N76209-0 N29016-0 N60394-0 N54939-0 N77024-1 N14857-0 N19365-0 N106885-0 N52019-0 N27683-0 N70024-0 N73833-0 N112378-0 N57001-0 N64785-0 N104644-0 N61950-0 N7082-0 N69938-0 N128412-0 N23431-0 N87775-0 N55801-0 N129503-0 N33378-0 N82169-0 N95801-0 N39770-0 N61057-0 N72651-0 N4378-0 N25249-0 N9989-0 N33539-0 N2362-0 N46771-0 N127585-0 N127089-0 N130076-0 N48841-0 N80814-0 N79817-0 N18258-0 N23748-0 N76610-0 N14804-0 N61786-0 N126738-0 N19460-0 N44264-0 N110485-0 N17110-0 N74101-0 N56974-0 N62800-0 N87470-0 N18623-0 N24165-0 N107893-0 N74951-0 N126351-0 N73313-0 N100425-0 N20871-0 N94594-1 N104665-0 N16161-0 N117994-0 N117695-0 N18405-0 N110073-0 N41737-0 N23418-0 N48883-0 N128631-0 N112641-0 N109136-0 N2297-0 N9250-0 N49048-0 N30339-0 N15125-0 N127357-0 N54368-0 N91390-0 N12384-0 N19635-0 N95341-0 N19569-0 N98252-0 N12852-0 N127270-0 N76189-0 N63359-0 N112128-0 N17804-0 N46716-0 N48841-0 N106409-0 N80814-0 N98519-0 N61801-0 N40742-0 N61057-0 N41989-0 N76665-0 N74101-0 N18190-0 N48360-0 N15861-0 N95388-0 N2297-0 N83598-0 N100425-0 N125720-0 N24017-0 N88596-0 N27669-0 N52019-0 N40795-0 N29123-0 N102304-0 N2362-0 N73313-0 N119378-0 N126091-0 N64785-0 N39877-0 N57663-0 N47548-0 N96351-0 N30955-0 N54939-0 N6745-0 N73295-0 N56565-0 N20250-0 N91958-0 N94973-0 N33901-0 N35236-0 N117695-0 N29477-0 N30371-0 N41889-0 N76254-1 N59288-0 N77503-0 N26667-0 N4378-0 N65446-0 N82573-0 N107324-0 N67588-0 N112641-0 N122640-0 N39484-0 N83824-0 N72977-0 N68048-0 N27368-0 N92199-0 N128045-1 N14675-0 N70883-0 N34254-0 N32993-0 N20223-0 N51048-0 N17973-0 N121440-0 N104054-0 N109852-0 N67307-0 N54368-1 N70024-0 N5521-0 N107472-0 N52813-0 N24165-0 N21365-0 N61950-0 N41737-0 N112378-0 N117802-0 N29050-0 N63342-0 N126351-0 N106659-0 N51022-0 N72651-0 N24668-0 N26122-0 N110439-0 N56133-0 N57001-0 N14857-0 N39770-0 N123968-0 N91506-0 N4910-0 N127585-0 N92300-0 N46771-0 N76209-0 N46894-0 N80770-0 N61964-0 N66366-0 N86509-0 N64041-0 N117066-0 N880-0 N1923-0 N92462-0 N41089-0 N124858-0 N59297-0 N83374-0 N127357-0 N62800-0 N50175-0 N9989-0 N30339-0 N22177-0 N7907-0 N129503-0 N18258-0 N110709-0 N33539-0 N65017-0 N87928-0 N44453-0 N94594-0 N46403-0 N23418-0 N130076-0 N18356-0 N56451-0 N128631-0 N14804-0 N98252-0 N128583-0 N20802-0 N36010-0 N1210-0 N45845-0 N121411-0 N28056-0 N11793-0 N106885-0 N19365-0 N117580-0 N102123-0 N94211-0 N18761-0 N119526-0 N59619-0 N55801-0 N76858-0 N50458-0 N76189-0 N61579-0 N79817-0 N103133-0 N126404-0 N104161-0 N104644-0 N23748-0 N87470-0 N69938-0 N33378-0 N17110-0 N14612-0 N1497-0 N32757-0 N122944-0 N83903-0 N27034-0 N28837-0 N49048-0 N39630-0 N19569-0 N87236-0 N121138-0 N124659-0 N19635-0 N3623-0 N29461-0 N8599-0 N56887-0 N110485-0 N29160-0 N35304-0 N107893-0 N19586-0 N43000-0 N86444-0 N44264-0 N24958-0 N95370-0 N22562-0 N8749-0 N25814-0 N71001-0 N35415-0 N51632-0 N48205-0 N95541-0 N16185-0 N26633-0 N1767-0 N79736-0 N7728-0 N82137-0 N43355-0 N79480-0 N117698-0 N128412-0 N106619-0 N86278-0 N86509-0 N14719-0 N61933-0 N1497-0 N29050-0 N75646-0 N24165-0 N35236-0 N15424-0 N82548-0 N74101-0 N117580-0 N126351-0 N126091-0 N16161-0 N45845-0 N73303-0 N49048-0 N29477-0 N4910-0 N19270-0 N105956-0 N76665-0 N11793-0 N113680-0 N28518-0 N93873-0 N127270-0 N33901-0 N59134-0 N123209-0 N32259-0 N9496-0 N128412-0 N105029-0 N104161-0 N12852-0 N40795-0 N95388-0 N28861-0 N94594-0 N26342-0 N12384-0 N119526-0 N21365-0 N63342-0 N4378-0 N112128-0 N122944-0 N107893-0 N28962-0 N7907-0 N79817-0 N34254-0 N41737-0 N98252-0 N17973-0 N110073-0 N91390-0 N73154-0 N23294-0 N96351-0 N30582-0 N110485-1 N18258-0 N10623-0 N32757-0 N67588-0 N48883-0 N122640-0 N126404-0 N1186-0 N14066-0 N37648-0 N123968-0 N129503-0 N24017-0 N97912-0 N11437-0 N4331-0 N41889-0 N87236-0 N46894-0 N68048-0 N57001-0 N27368-0 N87928-0 N104054-0 N29160-0 N33539-0 N91307-0 N116564-0 N19586-0 N62800-0 N48523-0 N33011-0 N86444-0 N56133-0 N7728-0 N1767-0 N39484-0 N13432-0 N15861-0 N8599-0 N57663-0 N128631-0 N94217-0 N364-0 N18405-0 N64041-0 N72919-0 N69938-0 N124858-0 N24958-0 N100425-0 N27471-0 N9447-0 N48205-0 N19834-0 N14857-0 N22627-0 N127252-0 N50458-0 N3737-0 N14675-0 N39630-0 N23418-1 N107921-0 N51022-0 N52019-0 N20223-0 N95303-0 N46403-0 N72977-0 N446-0 N92300-0 N42518-0 N112378-0 N128045-0 N20250-0 N58465-0 N49086-0 N4504-0 N91506-0 N44493-0 N26633-0 N241-0 N61057-0 N73313-0 N45020-0 N15125-0 N95541-0 N116064-0 N76189-0 N107324-0 N127357-0 N5521-0 N76681-0 N83903-0 N5755-0 N70883-0 N94973-0 N25814-0 N120265-0 N23748-0 N59619-0 N41089-0 N3623-0 N80908-0 N27034-0 N40742-0 N48360-0 N65017-0 N30955-0 N77503-0 N41989-0 N117411-0 N70024-0 N282-0 N76858-0 N83598-0 N12216-0 N28930-0 N121440-0 N33378-0 N2362-0 N25621-0 N18761-0 N39770-0 N124659-1 N44264-0 N35304-0 N2297-0 N77062-0 N25249-0 N65446-0 N21356-0 N28837-0 N56451-0 N39877-0 N78841-0 N29016-0 N83732-0 N110967-0 N52813-0 N103382-0 N34629-0 N110603-0 N56887-0 N82137-0 N106306-0 N97743-0 N18356-0 N91958-0 N46931-0 N14804-0 N130076-0 N94211-0 N8749-0 N9989-0 N107472-0 N54368-0 N61801-0 N100738-0 N104644-0 N1923-0 N117802-0 N26667-0 N121138-0 N988-0 N92199-0 N112641-0 N108805-0 N110439-0 N18190-0 N19635-0 N116267-0 N43355-0 N55801-0 N54939-0 N56565-0 N78291-0 N29123-0 N30532-0 N64785-0 N109852-0 N128583-0 N25728-0 N24668-0 N17431-0 N32993-0 N95370-0 N44453-0 N103133-0 N4384-0 N61964-0 N117695-0 N83824-0 N3601-0 N59288-0 N123683-0 N30371-0 N90206-0 N9250-0 N48841-0 N50175-0 N51048-0 N19365-0 N56999-0 N102304-0 N82573-0 N28067-0 N86278-0 N73295-0 N43000-0 N28056-0 N102123-0 N52388-0 N22562-0 N43000-0 N279-0 N32757-0 N79817-0 N127270-0 N128631-0 N54368-0 N79671-0 N57663-0 N25814-0 N108805-0 N14804-0 N61057-0 N13432-0 N73295-0 N48833-0 N110485-0 N117695-0 N27034-0 N94594-0 N15125-0 N83732-0 N83598-0 N44493-0 N72977-0 N92462-0 N1210-0 N26703-0 N46716-0 N76189-0 N78291-0 N100425-0 N25249-0 N78841-0 N14066-0 N27270-0 N27669-0 N59619-0 N110439-0 N65446-0 N56887-0 N33539-0 N1186-0 N128583-0 N33378-0 N126404-0 N62800-0 N32286-0 N21365-0 N57001-0 N282-0 N83374-1 N9250-0 N446-0 N26342-0 N87775-0 N5521-0 N56565-0 N87236-0 N56451-0 N37648-0 N44264-0 N17804-0 N107472-0 N105956-0 N22562-0 N42518-0 N82548-0 N27414-0 N17106-0 N77062-0 N93873-0 N26667-0 N91506-0 N95801-0 N40795-0 N71001-0 N110709-0 N28837-0 N32993-0 N70024-0 N61801-0 N24668-0 N121440-0 N122640-0 N4378-0 N117802-0 N3737-0 N24017-0 N98725-0 N86278-0 N110967-0 N83212-0 N364-0 N124858-0 N61950-0 N35415-0 N36134-0 N91731-0 N55801-0 N64785-0 N56999-0 N4331-0 N73303-0 N124659-0 N70883-0 N120749-0 N18258-0 N46403-0 N4910-0 N129503-0 N9667-0 N91390-0 N74101-0 N48883-0 N14719-0 N25621-0 N49048-0 N17973-0 N43355-0 N48205-0 N112641-0 N39770-0 N112378-0 N68624-0 N110025-0 N11437-0 N32259-0 N19635-0 N86444-0 N2362-0 N48360-0 N39877-0 N44453-0 N16161-0 N65017-0 N122944-0 N69938-0 N95541-0 N91307-0 N17014-0 N123209-0 N77503-0 N28518-0 N5755-0 N76665-0 N1497-0 N30532-0 N19586-0 N17488-0 N21356-0 N109136-0 N121375-0 N52388-0 N25728-1 N39630-0 N95370-0 N28962-0 N32433-0 N90206-0 N40742-0 N117580-0 N74823-0 N96351-0 N14675-0 N9989-0 N104054-0 N20250-0 N130076-0 N41889-0 N13521-0 N18761-0 N11793-0 N80456-0 N26122-0 N103382-0 N68048-0 N7382-0 N73313-0 N107324-0 N67588-0 N94973-0 N8749-0 N52813-0 N34548-0 N24165-0 N41989-0 N29477-0 N35304-0 N50730-0 N91865-0 N72781-0 N988-0 N113680-0 N73154-0 N46894-0 N34254-0 N112128-0 N20223-0 N18190-0 N18405-0 N76681-0 N125720-0 N106885-0 N8599-0 N130132-0 N51152-0 N48841-0 N83903-0 N2059-0 N23294-0 N94211-0 N23748-0 N15861-0 N50175-0 N19365-0 N92199-0 N56133-0 N87928-0 N89348-0 N120265-0 N33901-0 N14857-0 N98252-0 N12384-0 N15424-0 N2297-0 N9447-0 N127252-0 N60732-0 N91958-0 N30582-0 N35236-0 N30955-0 N28861-0 N128412-0 N29160-0 N29050-0 N47548-0 N92300-0 N24958-0 N110308-0 N97912-0 N72919-0 N127357-0 N79480-0 N30532-0 N105956-0 N35304-0 N61933-0 N39770-0 N3663-0 N27414-0 N56887-0 N43355-0 N118880-0 N83374-0 N18258-0 N26703-0 N48883-0 N86067-0 N129416-0 N110025-1 N80456-0 N33378-0 N94973-0 N123209-0 N110308-0 N40795-0 N120086-0 N89348-0 N81032-0 N27669-0 N27270-0 N120066-0 N8515-0 N112378-0 N14612-0 N29160-1 N70024-0 N42208-0 N1923-0 N58823-0 N52617-0 N11760-0 N34548-0 N18356-0 N117802-0 N91737-0 N100425-0 N82548-1 N38555-0 N55801-0 N120089-0 N107521-0 N28930-0 N122249-0 N103830-0 N39877-0 N98252-0 N28873-0 N67588-0 N71171-0 N64109-0 N69938-0 N105029-0 N116877-0 N87928-0 N91865-0 N101364-0 N89764-0 N4384-0 N72054-0 N112536-0 N2756-0 N1689-0 N24958-0 N73833-0 N13188-0 N86287-0 N40742-0 N98018-0 N27478-0 N7382-0 N26667-0 N2645-0 N83491-0 N32286-0 N30206-0 N91268-0 N86444-0 N127089-0 N87236-0 N14675-0 N20399-0 N19569-0 N122775-0 N68471-0 N125720-0 N48833-0 N32433-0 N102530-0 N51573-0 N96351-0 N34044-0 N92199-0 N104054-0 N70883-0 N43000-0 N56505-0 N79372-0 N130132-0 N9250-0 N21356-0 N44493-0 N23452-0 N48476-0 N31094-1 N95801-0 N17488-0 N22562-0 N68048-0 N83598-0 N70038-0 N92462-0 N26342-0 N62456-0 N13432-0 N128583-0 N4378-0 N18110-0 N116267-0 N9471-0 N49048-0 N107472-0 N64785-0 N14719-0 N54368-0 N92905-0 N91307-0 N110967-0 N86782-0 N126472-0 N53018-1 N32757-0 N103036-0 N122944-0 N92476-0 N20272-0 N52388-0 N70459-0 N79671-0 N93879-0 N33539-0 N18405-0 N63206-0 N29016-0 N96406-0 N48523-0 N130076-0\n",
      "\n"
     ]
    }
   ],
   "metadata": {}
  },
  {
   "cell_type": "code",
   "execution_count": 21,
   "source": [
    "len(x[-1].split())"
   ],
   "outputs": [
    {
     "output_type": "execute_result",
     "data": {
      "text/plain": [
       "1187"
      ]
     },
     "metadata": {},
     "execution_count": 21
    }
   ],
   "metadata": {}
  },
  {
   "cell_type": "code",
   "execution_count": 26,
   "source": [
    "uindexes[127186]"
   ],
   "outputs": [
    {
     "output_type": "execute_result",
     "data": {
      "text/plain": [
       "120778"
      ]
     },
     "metadata": {},
     "execution_count": 26
    }
   ],
   "metadata": {}
  },
  {
   "cell_type": "code",
   "execution_count": 29,
   "source": [
    "imprs[127188]"
   ],
   "outputs": [
    {
     "output_type": "execute_result",
     "data": {
      "text/plain": [
       "(127187, [65537, 67421, 65556, 66259, 69492], [1, 0, 0, 0, 0])"
      ]
     },
     "metadata": {},
     "execution_count": 29
    }
   ],
   "metadata": {}
  },
  {
   "cell_type": "code",
   "execution_count": null,
   "source": [
    "# manager.construct_whole_dataset()"
   ],
   "outputs": [],
   "metadata": {}
  },
  {
   "cell_type": "code",
   "execution_count": 2,
   "source": [
    "behaviors = pickle.load(open('data/cache/bert/MINDlarge_dev/1000/behaviors.pkl','rb'))\n",
    "# news = pickle.load(open('data/cache/bert/MINDdemo_train/news.pkl','rb'))\n",
    "# news = pickle.load(open('data/cache/bert/MINDlarge_train/news.pkl','rb'))\n",
    "# enc = news['encoded_news']"
   ],
   "outputs": [],
   "metadata": {}
  },
  {
   "cell_type": "code",
   "execution_count": 3,
   "source": [
    "uindexes = behaviors['uindexes']\n",
    "histories = behaviors['histories']\n",
    "imprs = behaviors['imprs']"
   ],
   "outputs": [],
   "metadata": {}
  },
  {
   "cell_type": "code",
   "execution_count": 31,
   "source": [
    "uindexes[224411]"
   ],
   "outputs": [
    {
     "output_type": "execute_result",
     "data": {
      "text/plain": [
       "195921"
      ]
     },
     "metadata": {},
     "execution_count": 31
    }
   ],
   "metadata": {}
  },
  {
   "cell_type": "code",
   "execution_count": null,
   "source": [
    "len(\"N77613 N5324 N88129 N26834 N121794 N85484 N16078 N85722 N74147 N99932 N67397 N121551 N82799 N67770 N9375 N65119 N9375 N124922 N70796 N127337 N85056 N127659 N126802 N62383 N88290 N115743 N122766 N60882 N29907 N8427 N25353 N45946 N122920 N26947 N107290 N77265 N108319\".split())"
   ],
   "outputs": [],
   "metadata": {}
  },
  {
   "cell_type": "code",
   "execution_count": null,
   "source": [
    "news = pickle.load(open('/data/workspace/Peitian/Code/Document-Reduction/Code/data/cache/bert/MINDdemo_train/news.pkl', 'rb'))\n",
    "ids = news['encoded_news']\n",
    "subwords = news['subwords_all']\n",
    "\n",
    "index = 37405\n",
    "news = t.convert_ids_to_tokens(a.encoded_news_original[index])\n",
    "mask = a.attn_mask_original[index]\n",
    "subword = a.subwords_original[index]\n",
    "\n",
    "for i,j,k in zip(news,mask,subword):\n",
    "    print(i,j,k)"
   ],
   "outputs": [],
   "metadata": {}
  },
  {
   "cell_type": "code",
   "execution_count": null,
   "source": [
    "# bm25, entity, first\n",
    "index = 1\n",
    "\n",
    "# news = t.convert_ids_to_tokens(a[index]['his_encoded_index'][1])\n",
    "# mask = a[index]['his_attn_mask'][1]\n",
    "# word = manager.convert_tokens_to_words(news)\n",
    "# subword = a[index]['his_subword_index'][1]\n",
    "\n",
    "# for i,j,k in zip(news,mask,subword):\n",
    "#     print(i,j,k)\n",
    "res = a[index]\n",
    "ids = res['cdd_id'][1]\n",
    "news = t.convert_ids_to_tokens(res['cdd_encoded_index'][1])\n",
    "mask = res['cdd_attn_mask'][1]\n",
    "# word = manager.convert_tokens_to_words(news)\n",
    "# subword = res['cdd_subword_index'][1]\n",
    "print(ids)\n",
    "for i,j,k in zip(news,mask):\n",
    "    print(i,j,k)"
   ],
   "outputs": [],
   "metadata": {}
  },
  {
   "cell_type": "code",
   "execution_count": null,
   "source": [
    "news = t.convert_ids_to_tokens(a[0]['his_encoded_index'][1])\n",
    "mask = a[0]['his_attn_mask'][1]\n",
    "word = manager.convert_tokens_to_words(news)\n",
    "# subword = a[0]['his_subword_index'][1]\n",
    "dedup = a[0]['his_refined_mask'][1]\n",
    "\n",
    "for i,j,k in zip(news,mask,dedup):\n",
    "    print(i,j,k)"
   ],
   "outputs": [],
   "metadata": {}
  },
  {
   "cell_type": "code",
   "execution_count": null,
   "source": [],
   "outputs": [],
   "metadata": {}
  }
 ],
 "metadata": {
  "orig_nbformat": 4,
  "language_info": {
   "name": "python",
   "version": "3.8.11",
   "mimetype": "text/x-python",
   "codemirror_mode": {
    "name": "ipython",
    "version": 3
   },
   "pygments_lexer": "ipython3",
   "nbconvert_exporter": "python",
   "file_extension": ".py"
  },
  "kernelspec": {
   "name": "python3",
   "display_name": "Python 3.8.11 64-bit"
  },
  "interpreter": {
   "hash": "0f43efc2da5f33d61ae1bd929e6c7df9dd2aa7f250aadb5586d31de3e27bb6a5"
  }
 },
 "nbformat": 4,
 "nbformat_minor": 2
}