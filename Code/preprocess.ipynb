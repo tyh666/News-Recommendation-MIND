{
 "cells": [
  {
   "cell_type": "markdown",
   "source": [],
   "metadata": {}
  },
  {
   "cell_type": "code",
   "execution_count": 6,
   "source": [
    "from transformers import AutoModel,BertModel\r\n",
    "\r\n",
    "b = BertModel.from_pretrained('bert-base-uncased')"
   ],
   "outputs": [
    {
     "output_type": "stream",
     "name": "stderr",
     "text": [
      "Some weights of the model checkpoint at bert-base-uncased were not used when initializing BertModel: ['cls.seq_relationship.weight', 'cls.predictions.transform.LayerNorm.weight', 'cls.predictions.transform.LayerNorm.bias', 'cls.predictions.decoder.weight', 'cls.predictions.transform.dense.bias', 'cls.predictions.transform.dense.weight', 'cls.seq_relationship.bias', 'cls.predictions.bias']\n",
      "- This IS expected if you are initializing BertModel from the checkpoint of a model trained on another task or with another architecture (e.g. initializing a BertForSequenceClassification model from a BertForPreTraining model).\n",
      "- This IS NOT expected if you are initializing BertModel from the checkpoint of a model that you expect to be exactly identical (initializing a BertForSequenceClassification model from a BertForSequenceClassification model).\n"
     ]
    }
   ],
   "metadata": {}
  },
  {
   "cell_type": "code",
   "execution_count": 7,
   "source": [
    "b.embeddings"
   ],
   "outputs": [
    {
     "output_type": "execute_result",
     "data": {
      "text/plain": [
       "BertEmbeddings(\n",
       "  (word_embeddings): Embedding(30522, 768, padding_idx=0)\n",
       "  (position_embeddings): Embedding(512, 768)\n",
       "  (token_type_embeddings): Embedding(2, 768)\n",
       "  (LayerNorm): LayerNorm((768,), eps=1e-12, elementwise_affine=True)\n",
       "  (dropout): Dropout(p=0.1, inplace=False)\n",
       ")"
      ]
     },
     "metadata": {},
     "execution_count": 7
    }
   ],
   "metadata": {}
  },
  {
   "cell_type": "code",
   "execution_count": null,
   "source": [
    "import numpy as np\r\n",
    "import re\r\n",
    "from torch.utils.data import Dataset\r\n",
    "from utils.utils import newsample, getId2idx, my_collate\r\n",
    "from data.configs.demo import config\r\n",
    "from torch.utils.data import DataLoader"
   ],
   "outputs": [],
   "metadata": {}
  },
  {
   "cell_type": "code",
   "execution_count": 12,
   "source": [
    "class MIND_bert(Dataset):\r\n",
    "    \"\"\" Map Style Dataset for MIND, use bert tokenizer\r\n",
    "\r\n",
    "    Args:\r\n",
    "        config(dict): pre-defined dictionary of hyper parameters\r\n",
    "        news_file(str): path of news_file\r\n",
    "        behaviors_file(str): path of behaviors_file\r\n",
    "        shuffle(bool): whether to shuffle the order of impressions\r\n",
    "    \"\"\"\r\n",
    "\r\n",
    "    def __init__(self, config, news_file, behaviors_file, shuffle_pos=False, validate=False):\r\n",
    "        from transformers import BertTokenizerFast\r\n",
    "        # initiate the whole iterator\r\n",
    "        self.npratio = config.npratio\r\n",
    "        self.shuffle_pos = shuffle_pos\r\n",
    "\r\n",
    "        self.news_file = news_file\r\n",
    "        self.behaviors_file = behaviors_file\r\n",
    "        self.col_spliter = '\\t'\r\n",
    "        self.batch_size = config.batch_size\r\n",
    "        self.title_size = config.title_size\r\n",
    "        self.abs_size = config.abs_size\r\n",
    "        self.his_size = config.his_size\r\n",
    "\r\n",
    "        self.k = config.k\r\n",
    "        self.mode = re.search(\r\n",
    "            'MIND/.*_(.*)/news', news_file).group(1)\r\n",
    "\r\n",
    "        # there are only two types of vocabulary\r\n",
    "        self.tokenizer = BertTokenizerFast.from_pretrained('bert-base-uncased')\r\n",
    "\r\n",
    "        self.nid2index = getId2idx(\r\n",
    "            'data/dictionaries/nid2idx_{}_{}.json'.format(config.scale, self.mode))\r\n",
    "        self.uid2index = getId2idx(\r\n",
    "            'data/dictionaries/uid2idx_{}.json'.format(config.scale))\r\n",
    "        if validate:\r\n",
    "            self.mode = 'dev'\r\n",
    "\r\n",
    "        self.init_news()\r\n",
    "        self.init_behaviors()\r\n",
    "\r\n",
    "    def init_news(self):\r\n",
    "        \"\"\"\r\n",
    "            init news information given news file, such as news_title_array.\r\n",
    "        \"\"\"\r\n",
    "\r\n",
    "        # VERY IMPORTANT!!! FIXME\r\n",
    "        # The nid2idx dictionary must follow the original order of news in news.tsv\r\n",
    "\r\n",
    "        documents = ['hello BERT']\r\n",
    "\r\n",
    "        with open(self.news_file, \"r\", encoding='utf-8') as rd:\r\n",
    "            for idx in rd:\r\n",
    "                nid, vert, subvert, title, ab, url, _, _ = idx.strip(\"\\n\").split(self.col_spliter)\r\n",
    "                # concat all fields to form the document\r\n",
    "                # try:\r\n",
    "                #     self.tokenizer.tokenize(' '.join([title, ab, vert, subvert]))\r\n",
    "                # except:\r\n",
    "                #     print(' '.join([title, ab, vert, subvert]))\r\n",
    "                documents.append(' '.join([title, ab, vert, subvert]))\r\n",
    "\r\n",
    "        encoded_dict = self.tokenizer(documents, add_special_tokens=False, padding=True, truncation=True, max_length=512, return_tensors='np')\r\n",
    "        self.encoded_news = encoded_dict.input_ids\r\n",
    "        self.attn_mask = encoded_dict.attention_mask\r\n",
    "\r\n",
    "\r\n",
    "    def init_behaviors(self):\r\n",
    "        \"\"\"\r\n",
    "            init behavior logs given behaviors file.\r\n",
    "        \"\"\"\r\n",
    "        # list of list of history news index\r\n",
    "        self.histories = []\r\n",
    "        # list of user index\r\n",
    "        self.uindexes = []\r\n",
    "        # list of list of history padding length\r\n",
    "        self.his_pad = []\r\n",
    "        # list of impression indexes\r\n",
    "        # self.impr_indexes = []\r\n",
    "\r\n",
    "        impr_index = 0\r\n",
    "\r\n",
    "        # only store positive behavior\r\n",
    "        if self.mode == 'train':\r\n",
    "            # list of list of clicked candidate news index along with its impression index\r\n",
    "            self.imprs = []\r\n",
    "            # dictionary of list of unclicked candidate news index\r\n",
    "            self.negtives = {}\r\n",
    "\r\n",
    "            with open(self.behaviors_file, \"r\", encoding='utf-8') as rd:\r\n",
    "                for idx in rd:\r\n",
    "                    _, uid, time, history, impr = idx.strip(\"\\n\").split(self.col_spliter)\r\n",
    "                    # important to subtract 1 because all list related to behaviors start from 0\r\n",
    "\r\n",
    "                    history = [self.nid2index[i] for i in history.split()]\r\n",
    "                    if self.k:\r\n",
    "                        # guarantee there are at least k history not masked\r\n",
    "                        self.his_pad.append(\r\n",
    "                            min(max(self.his_size - len(history), 0), self.his_size - self.k))\r\n",
    "                    else:\r\n",
    "                        self.his_pad.append(max(self.his_size - len(history), 0))\r\n",
    "\r\n",
    "                    # tailor user's history or pad 0\r\n",
    "                    history = history[:self.his_size] + [0] * (self.his_size - len(history))\r\n",
    "                    impr_news = [self.nid2index[i.split(\"-\")[0]] for i in impr.split()]\r\n",
    "                    labels = [int(i.split(\"-\")[1]) for i in impr.split()]\r\n",
    "                    # user will always in uid2index\r\n",
    "                    uindex = self.uid2index[uid]\r\n",
    "\r\n",
    "                    # store negative samples of each impression\r\n",
    "                    negatives = []\r\n",
    "\r\n",
    "                    for news, label in zip(impr_news, labels):\r\n",
    "                        if label == 1:\r\n",
    "                            self.imprs.append((impr_index, news))\r\n",
    "                        else:\r\n",
    "                            negatives.append(news)\r\n",
    "\r\n",
    "                    # 1 impression correspond to 1 of each of the following properties\r\n",
    "                    self.histories.append(history)\r\n",
    "                    self.negtives[impr_index] = negatives\r\n",
    "                    self.uindexes.append(uindex)\r\n",
    "\r\n",
    "                    impr_index += 1\r\n",
    "\r\n",
    "        # store every behavior\r\n",
    "        elif self.mode == 'dev':\r\n",
    "            # list of every candidate news index along with its impression index and label\r\n",
    "            self.imprs = []\r\n",
    "\r\n",
    "            with open(self.behaviors_file, \"r\", encoding='utf-8') as rd:\r\n",
    "                for idx in rd:\r\n",
    "                    _, uid, time, history, impr = idx.strip(\"\\n\").split(self.col_spliter)\r\n",
    "\r\n",
    "                    history = [self.nid2index[i] for i in history.split()]\r\n",
    "                    if self.k:\r\n",
    "                        # guarantee there are at least k history not masked\r\n",
    "                        self.his_pad.append(\r\n",
    "                            min(max(self.his_size - len(history), 0), self.his_size - self.k))\r\n",
    "                    else:\r\n",
    "                        self.his_pad.append(max(self.his_size - len(history), 0))\r\n",
    "\r\n",
    "                    # tailor user's history or pad 0\r\n",
    "                    history = history[:self.his_size] + [0] * (self.his_size - len(history))\r\n",
    "                    impr_news = [self.nid2index[i.split(\"-\")[0]] for i in impr.split()]\r\n",
    "                    labels = [int(i.split(\"-\")[1]) for i in impr.split()]\r\n",
    "                    # user will always in uid2index\r\n",
    "                    uindex = self.uid2index[uid]\r\n",
    "\r\n",
    "                    # store every impression\r\n",
    "                    for news, label in zip(impr_news, labels):\r\n",
    "                        self.imprs.append((impr_index, news, label))\r\n",
    "\r\n",
    "                    # 1 impression correspond to 1 of each of the following properties\r\n",
    "                    self.histories.append(history)\r\n",
    "                    self.uindexes.append(uindex)\r\n",
    "\r\n",
    "                    impr_index += 1\r\n",
    "\r\n",
    "        # store every behavior\r\n",
    "        elif self.mode == 'test':\r\n",
    "            # list of every candidate news index along with its impression index and label\r\n",
    "            self.imprs = []\r\n",
    "\r\n",
    "            with open(self.behaviors_file, \"r\", encoding='utf-8') as rd:\r\n",
    "                for idx in rd:\r\n",
    "                    _, uid, time, history, impr = idx.strip(\"\\n\").split(self.col_spliter)\r\n",
    "\r\n",
    "                    history = [self.nid2index[i] for i in history.split()]\r\n",
    "                    if self.k:\r\n",
    "                        # guarantee there are at least k history not masked\r\n",
    "                        self.his_pad.append(\r\n",
    "                            min(max(self.his_size - len(history), 0), self.his_size - self.k))\r\n",
    "                    else:\r\n",
    "                        self.his_pad.append(max(self.his_size - len(history), 0))\r\n",
    "\r\n",
    "                    # tailor user's history or pad 0\r\n",
    "                    history = history[:self.his_size] + [0] * (self.his_size - len(history))\r\n",
    "                    impr_news = [self.nid2index[i] for i in impr.split()]\r\n",
    "                    # user will always in uid2index\r\n",
    "                    uindex = self.uid2index[uid]\r\n",
    "\r\n",
    "                    # store every impression\r\n",
    "                    for news in impr_news:\r\n",
    "                        self.imprs.append((impr_index, news))\r\n",
    "\r\n",
    "                    # 1 impression correspond to 1 of each of the following properties\r\n",
    "                    self.histories.append(history)\r\n",
    "                    self.uindexes.append(uindex)\r\n",
    "\r\n",
    "                    impr_index += 1\r\n",
    "\r\n",
    "\r\n",
    "    def __len__(self):\r\n",
    "        \"\"\"\r\n",
    "            return length of the whole dataset\r\n",
    "        \"\"\"\r\n",
    "        return len(self.imprs)\r\n",
    "\r\n",
    "    def __getitem__(self,index):\r\n",
    "        \"\"\" return data\r\n",
    "        Args:\r\n",
    "            index: the index for stored impression\r\n",
    "\r\n",
    "        Returns:\r\n",
    "            back_dic: dictionary of data slice\r\n",
    "        \"\"\"\r\n",
    "\r\n",
    "        impr = self.imprs[index] # (impression_index, news_index)\r\n",
    "        impr_index = impr[0]\r\n",
    "        impr_news = impr[1]\r\n",
    "\r\n",
    "\r\n",
    "        user_index = [self.uindexes[impr_index]]\r\n",
    "\r\n",
    "        # each time called to return positive one sample and its negative samples\r\n",
    "        if self.mode == 'train':\r\n",
    "            # user's unclicked news in the same impression\r\n",
    "            negs = self.negtives[impr_index]\r\n",
    "            neg_list, neg_pad = newsample(negs, self.npratio)\r\n",
    "\r\n",
    "            cdd_ids = [impr_news] + neg_list\r\n",
    "            label = [1] + [0] * self.npratio\r\n",
    "\r\n",
    "            if self.shuffle_pos:\r\n",
    "                s = np.arange(0, len(label), 1)\r\n",
    "                np.random.shuffle(s)\r\n",
    "                cdd_ids = np.asarray(cdd_ids)[s]\r\n",
    "                label = np.asarray(label)[s]\r\n",
    "\r\n",
    "            # true means the corresponding history news is padded\r\n",
    "            his_mask = np.zeros((self.his_size, 1), dtype=bool)\r\n",
    "            his_ids = self.histories[impr_index]\r\n",
    "\r\n",
    "            # in case the user has no history records, do not mask\r\n",
    "            if self.his_pad[impr_index] == self.his_size or self.his_pad[impr_index] == 0:\r\n",
    "                his_mask = his_mask\r\n",
    "            else:\r\n",
    "                his_mask[-self.his_pad[impr_index]:] = [True]\r\n",
    "\r\n",
    "            # pad in candidate\r\n",
    "            # candidate_mask = [1] * neg_pad + [0] * (self.npratio + 1 - neg_pad)\r\n",
    "\r\n",
    "            cdd_encoded_index = self.encoded_news[cdd_ids]\r\n",
    "            his_encoded_index = self.encoded_news[his_ids]\r\n",
    "            cdd_attn_mask = self.attn_mask[cdd_ids]\r\n",
    "            his_attn_mask = self.attn_mask[his_ids]\r\n",
    "\r\n",
    "            back_dic = {\r\n",
    "                \"user_index\": np.asarray(user_index),\r\n",
    "                # \"cdd_mask\": np.asarray(neg_pad),\r\n",
    "                'cdd_id': np.asarray(cdd_ids),\r\n",
    "                'his_id': np.asarray(his_ids),\r\n",
    "                \"cdd_encoded_index\": cdd_encoded_index,\r\n",
    "                \"his_encoded_index\": his_encoded_index,\r\n",
    "                \"cdd_attn_mask\": cdd_attn_mask,\r\n",
    "                \"his_attn_mask\": his_attn_mask,\r\n",
    "                \"his_mask\": his_mask,\r\n",
    "                \"labels\": label\r\n",
    "            }\r\n",
    "\r\n",
    "            return back_dic\r\n",
    "\r\n",
    "        # each time called return one sample, and no labels\r\n",
    "        elif self.mode == 'dev':\r\n",
    "            cdd_ids = [impr_news]\r\n",
    "\r\n",
    "            # true means the corresponding history news is padded\r\n",
    "            his_mask = np.zeros((self.his_size, 1), dtype=bool)\r\n",
    "            his_ids = self.histories[impr_index]\r\n",
    "\r\n",
    "            user_index = [self.uindexes[impr_index]]\r\n",
    "            label = impr[2]\r\n",
    "\r\n",
    "            # in case the user has no history records, do not mask\r\n",
    "            if self.his_pad[impr_index] == self.his_size or self.his_pad[impr_index] == 0:\r\n",
    "                his_mask = his_mask\r\n",
    "            else:\r\n",
    "                his_mask[-self.his_pad[impr_index]:] = [True]\r\n",
    "\r\n",
    "            cdd_encoded_index = self.encoded_news[cdd_ids]\r\n",
    "            his_encoded_index = self.encoded_news[his_ids]\r\n",
    "            cdd_attn_mask = self.attn_mask[cdd_ids]\r\n",
    "            his_attn_mask = self.attn_mask[his_ids]\r\n",
    "\r\n",
    "            back_dic = {\r\n",
    "                \"impression_index\": impr_index + 1,\r\n",
    "                \"user_index\": np.asarray(user_index),\r\n",
    "                'cdd_id': np.asarray(cdd_ids),\r\n",
    "                'his_id': np.asarray(his_ids),\r\n",
    "                \"cdd_encoded_index\": cdd_encoded_index,\r\n",
    "                \"his_encoded_index\": his_encoded_index,\r\n",
    "                \"cdd_attn_mask\": cdd_attn_mask,\r\n",
    "                \"his_attn_mask\": his_attn_mask,\r\n",
    "                \"his_mask\": his_mask,\r\n",
    "                \"labels\": np.asarray([label])\r\n",
    "            }\r\n",
    "            return back_dic\r\n",
    "\r\n",
    "        elif self.mode == 'test':\r\n",
    "            cdd_ids = [impr_news]\r\n",
    "\r\n",
    "            # true means the corresponding history news is padded\r\n",
    "            his_mask = np.zeros((self.his_size, 1), dtype=bool)\r\n",
    "            his_ids = self.histories[impr_index]\r\n",
    "\r\n",
    "            user_index = [self.uindexes[impr_index]]\r\n",
    "\r\n",
    "            # in case the user has no history records, do not mask\r\n",
    "            if self.his_pad[impr_index] == self.his_size or self.his_pad[impr_index] == 0:\r\n",
    "                his_mask = his_mask\r\n",
    "            else:\r\n",
    "                his_mask[-self.his_pad[impr_index]:] = [True]\r\n",
    "\r\n",
    "            cdd_encoded_index = self.encoded_news[cdd_ids]\r\n",
    "            his_encoded_index = self.encoded_news[his_ids]\r\n",
    "            cdd_attn_mask = self.attn_mask[cdd_ids]\r\n",
    "            his_attn_mask = self.attn_mask[his_ids]\r\n",
    "\r\n",
    "            back_dic = {\r\n",
    "                \"impression_index\": impr_index + 1,\r\n",
    "                \"user_index\": np.asarray(user_index),\r\n",
    "                'cdd_id': np.asarray(cdd_ids),\r\n",
    "                'his_id': np.asarray(his_ids),\r\n",
    "                \"cdd_encoded_index\": cdd_encoded_index,\r\n",
    "                \"his_encoded_index\": his_encoded_index,\r\n",
    "                \"cdd_attn_mask\": cdd_attn_mask,\r\n",
    "                \"his_attn_mask\": his_attn_mask,\r\n",
    "                \"his_mask\": his_mask\r\n",
    "            }\r\n",
    "            return back_dic\r\n",
    "\r\n",
    "        else:\r\n",
    "            raise ValueError(\"Mode {} not defined\".format(self.mode))\r\n"
   ],
   "outputs": [],
   "metadata": {}
  },
  {
   "cell_type": "code",
   "execution_count": 13,
   "source": [
    "train_path = \"C:/MIND/MINDdemo_train/\"\r\n",
    "a = MIND_bert(config, train_path + 'news.tsv', train_path + 'behaviors.tsv')"
   ],
   "outputs": [],
   "metadata": {}
  },
  {
   "cell_type": "code",
   "execution_count": 15,
   "source": [
    "a[10]['cdd_encoded_index'].shape"
   ],
   "outputs": [
    {
     "output_type": "execute_result",
     "data": {
      "text/plain": [
       "(5, 512)"
      ]
     },
     "metadata": {},
     "execution_count": 15
    }
   ],
   "metadata": {}
  },
  {
   "cell_type": "code",
   "execution_count": null,
   "source": [
    "loader_train = DataLoader(a, batch_size=config.batch_size, pin_memory=False, num_workers=0, drop_last=False, shuffle=False, collate_fn=my_collate)"
   ],
   "outputs": [],
   "metadata": {}
  },
  {
   "cell_type": "code",
   "execution_count": null,
   "source": [
    "next(iter(loader_train))"
   ],
   "outputs": [],
   "metadata": {}
  },
  {
   "cell_type": "code",
   "execution_count": 17,
   "source": [
    "from transformers import BertTokenizerFast\r\n",
    "tok = BertTokenizerFast.from_pretrained('bert-base-uncased')"
   ],
   "outputs": [
    {
     "output_type": "execute_result",
     "data": {
      "text/plain": [
       "['i', 'love', 'you', 'you', 'love']"
      ]
     },
     "metadata": {},
     "execution_count": 17
    }
   ],
   "metadata": {}
  },
  {
   "cell_type": "code",
   "execution_count": 19,
   "source": [
    "import torch"
   ],
   "outputs": [],
   "metadata": {}
  },
  {
   "cell_type": "code",
   "execution_count": 1,
   "source": [
    "from models.Encoders.CNN import CNN_Encoder\r\n",
    "from models.Encoders.FIM import FIM_Encoder"
   ],
   "outputs": [],
   "metadata": {}
  },
  {
   "cell_type": "code",
   "execution_count": 2,
   "source": [
    "a = CNN_Encoder()"
   ],
   "outputs": [
    {
     "output_type": "error",
     "ename": "TypeError",
     "evalue": "__init__() missing 1 required positional argument: 'config'",
     "traceback": [
      "\u001b[1;31m---------------------------------------------------------------------------\u001b[0m",
      "\u001b[1;31mTypeError\u001b[0m                                 Traceback (most recent call last)",
      "\u001b[1;32m<ipython-input-2-d948ec75f5f3>\u001b[0m in \u001b[0;36m<module>\u001b[1;34m\u001b[0m\n\u001b[1;32m----> 1\u001b[1;33m \u001b[0ma\u001b[0m \u001b[1;33m=\u001b[0m \u001b[0mCNN_Encoder\u001b[0m\u001b[1;33m(\u001b[0m\u001b[1;33m)\u001b[0m\u001b[1;33m\u001b[0m\u001b[1;33m\u001b[0m\u001b[0m\n\u001b[0m",
      "\u001b[1;31mTypeError\u001b[0m: __init__() missing 1 required positional argument: 'config'"
     ]
    }
   ],
   "metadata": {}
  },
  {
   "cell_type": "code",
   "execution_count": 1,
   "source": [
    "from models.Encoders.FIM import FIM_Encoder\r\n",
    "import torch\r\n",
    "from data.configs.demo import config\r\n",
    "config.embedding_dim = 5\r\n",
    "config.hidden_dim = 6\r\n",
    "a = torch.rand(2,3,4,5)\r\n",
    "\r\n",
    "enc = FIM_Encoder(config)\r\n",
    "b = enc(a)"
   ],
   "outputs": [],
   "metadata": {}
  },
  {
   "cell_type": "code",
   "execution_count": 3,
   "source": [
    "b[0].size(),b[1].size()"
   ],
   "outputs": [
    {
     "output_type": "execute_result",
     "data": {
      "text/plain": [
       "(torch.Size([2, 3, 4, 3, 6]), torch.Size([2, 3, 6]))"
      ]
     },
     "metadata": {},
     "execution_count": 3
    }
   ],
   "metadata": {}
  },
  {
   "cell_type": "code",
   "execution_count": null,
   "source": [],
   "outputs": [],
   "metadata": {}
  }
 ],
 "metadata": {
  "orig_nbformat": 4,
  "language_info": {
   "name": "python",
   "version": "3.8.8",
   "mimetype": "text/x-python",
   "codemirror_mode": {
    "name": "ipython",
    "version": 3
   },
   "pygments_lexer": "ipython3",
   "nbconvert_exporter": "python",
   "file_extension": ".py"
  },
  "kernelspec": {
   "name": "python3",
   "display_name": "Python 3.8.8 64-bit ('base': conda)"
  },
  "interpreter": {
   "hash": "01f651214b0df947376b22bdce96981aa6546e177d04daceb10ed93c0185908c"
  }
 },
 "nbformat": 4,
 "nbformat_minor": 2
}