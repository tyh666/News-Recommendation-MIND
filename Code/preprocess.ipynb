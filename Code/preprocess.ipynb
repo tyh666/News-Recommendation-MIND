{
 "cells": [
  {
   "cell_type": "code",
   "execution_count": 1,
   "source": [
    "import re\n",
    "import os\n",
    "import pickle\n",
    "import numpy as np\n",
    "import pandas as pd\n",
    "import json\n",
    "import logging\n",
    "import torch\n",
    "import math\n",
    "import time\n",
    "from torch.utils.data import Dataset\n",
    "from utils.utils import newsample, getId2idx, tokenize, getVocab, my_collate, Partition_Sampler\n",
    "from data.configs.demo import config\n",
    "from torch.utils.data import DataLoader\n",
    "from collections import defaultdict\n",
    "from transformers import BertTokenizer,BertModel,BertTokenizerFast,DebertaTokenizer,DebertaTokenizerFast, AutoTokenizer\n",
    "from utils.MIND import MIND\n",
    "from utils.Manager import Manager\n",
    "\n",
    "logger = logging.getLogger(__name__)"
   ],
   "outputs": [],
   "metadata": {}
  },
  {
   "cell_type": "code",
   "execution_count": 16,
   "source": [
    "# t = AutoTokenizer.from_pretrained('bert-base-uncased', cache_dir=config.path + \"bert_cache/\")\n",
    "t2 = DebertaTokenizerFast.from_pretrained('microsoft/deberta-base', cache_dir=config.path + \"bert_cache/\")"
   ],
   "outputs": [],
   "metadata": {}
  },
  {
   "cell_type": "code",
   "execution_count": 22,
   "source": [
    "output = t2(\"a b c d e f g h i g k l.\",truncation=True,padding='max_length',max_length=20)"
   ],
   "outputs": [],
   "metadata": {}
  },
  {
   "cell_type": "code",
   "execution_count": 21,
   "source": [
    "t2.convert_ids_to_tokens(output['input_ids'])"
   ],
   "outputs": [
    {
     "output_type": "execute_result",
     "data": {
      "text/plain": [
       "['[CLS]', 'a', 'Ġb', 'Ġc', '[SEP]']"
      ]
     },
     "metadata": {},
     "execution_count": 21
    }
   ],
   "metadata": {}
  },
  {
   "cell_type": "code",
   "execution_count": 3,
   "source": [
    "# config.reducer = 'bm25'\n",
    "# config.reducer = 'bow'\n",
    "# config.reducer = 'matching'\n",
    "\n",
    "# config.signal_length = 10\n",
    "# config.scale = 'large'\n",
    "# config.impr_size = 100\n",
    "# config.mode = 'test'\n",
    "\n",
    "# config.bert = 'microsoft/deberta-base'\n",
    "# config.embedding = 'deberta'\n",
    "\n",
    "# config.bert = 'bert-base-uncased\n",
    "# config.embedding = 'bert'\n",
    "\n",
    "manager = Manager(config)\n",
    "path = manager.path + 'MIND/MINDdemo_train/'\n",
    "a = MIND(manager, path + 'news.tsv', path + 'behaviors.tsv')"
   ],
   "outputs": [
    {
     "output_type": "stream",
     "name": "stderr",
     "text": [
      "[2021-09-26 13:50:20,835] INFO (utils.MIND) encoding user behaviors of ../../../Data/MIND/MINDdemo_train/behaviors.tsv...\n",
      "2000it [00:00, 20005.65it/s]\n",
      "[2021-09-26 13:50:30,742] INFO (utils.MIND) encoding news of ../../../Data/MIND/MINDdemo_train/news.tsv...\n",
      "51282it [00:19, 2645.57it/s]\n",
      "[2021-09-26 13:50:50,157] INFO (utils.utils) computing BM25 scores...\n",
      "[2021-09-26 13:50:53,032] INFO (utils.MIND) tokenizing news...\n",
      "100%|██████████████████████████████████████████████████████████████████████████████████████████████████████████| 51283/51283 [01:12<00:00, 705.01it/s]\n",
      "[2021-09-26 13:52:43,422] INFO (utils.MIND) process NO.0 loading cached user behavior from data/cache/bert/MINDdemo_train/10/behaviors..pkl\n",
      "[2021-09-26 13:52:43,436] INFO (utils.MIND) process NO.0 loading cached news tokenization from data/cache/bert/MINDdemo_train/news.pkl\n",
      "[2021-09-26 13:52:44,190] INFO (utils.utils) deduplicating...\n"
     ]
    }
   ],
   "metadata": {}
  },
  {
   "cell_type": "code",
   "execution_count": 14,
   "source": [
    "news = t.convert_ids_to_tokens(a[0]['his_encoded_index'][1])\n",
    "mask = a[0]['his_attn_mask'][1]\n",
    "word = manager.convert_tokens_to_words(news)\n",
    "subword = a[0]['his_subword_index'][1]\n",
    "dedup = a[0]['his_refined_mask'][1]\n",
    "\n",
    "for i,j,k,z in zip(news,mask,subword,dedup):\n",
    "    print(i,j,k,z)"
   ],
   "outputs": [
    {
     "output_type": "stream",
     "name": "stdout",
     "text": [
      "[CLS] 1 [0 0] 1\n",
      "former 1 [1 1] 1\n",
      "us 1 [2 2] 1\n",
      "senator 1 [3 3] 1\n",
      "kay 1 [4 4] 1\n",
      "ha 1 [5 5] 1\n",
      "##gan 1 [5 6] 1\n",
      "dead 1 [6 7] 1\n",
      "at 1 [7 8] 1\n",
      "66 1 [8 9] 1\n",
      "former 1 [ 9 10] 0\n",
      "u 1 [10 11] 1\n",
      ". 1 [11 12] 0\n",
      "s 1 [12 13] 1\n",
      ". 1 [13 14] 0\n",
      "sen 1 [14 15] 1\n",
      ". 1 [15 16] 0\n",
      "kay 1 [16 17] 0\n",
      "ha 1 [17 18] 0\n",
      "##gan 1 [17 19] 0\n",
      ", 1 [18 20] 0\n",
      "a 1 [19 21] 1\n",
      "one 1 [20 22] 1\n",
      "- 1 [21 23] 0\n",
      "time 1 [22 24] 1\n",
      "capitol 1 [23 25] 1\n",
      "hill 1 [24 26] 1\n",
      "intern 1 [25 27] 1\n",
      "who 1 [26 28] 1\n",
      "went 1 [27 29] 1\n",
      "on 1 [28 30] 1\n",
      "to 1 [29 31] 1\n",
      "become 1 [30 32] 1\n",
      "north 1 [31 33] 1\n",
      "carolina 1 [32 34] 1\n",
      "##s 1 [32 35] 1\n",
      "first 1 [33 36] 1\n",
      "democratic 1 [34 37] 1\n",
      "female 1 [35 38] 1\n",
      "senator 1 [36 39] 0\n",
      ", 1 [37 40] 0\n",
      "died 1 [38 41] 1\n",
      "monday 1 [39 42] 1\n",
      "at 1 [40 43] 0\n",
      "her 1 [41 44] 1\n",
      "greensboro 1 [42 45] 1\n",
      "home 1 [43 46] 1\n",
      ". 1 [44 47] 0\n",
      "she 1 [45 48] 1\n",
      "was 1 [46 49] 1\n",
      "66 1 [47 50] 0\n",
      ". 1 [48 51] 0\n",
      "news 1 [49 52] 1\n",
      "##pol 1 [49 53] 1\n",
      "##itic 1 [49 54] 1\n",
      "##s 1 [49 55] 0\n",
      "[SEP] 1 [50 56] 1\n",
      "[PAD] 0 [0 0] 0\n",
      "[PAD] 0 [0 0] 0\n",
      "[PAD] 0 [0 0] 0\n",
      "[PAD] 0 [0 0] 0\n",
      "[PAD] 0 [0 0] 0\n",
      "[PAD] 0 [0 0] 0\n",
      "[PAD] 0 [0 0] 0\n",
      "[PAD] 0 [0 0] 0\n",
      "[PAD] 0 [0 0] 0\n",
      "[PAD] 0 [0 0] 0\n",
      "[PAD] 0 [0 0] 0\n",
      "[PAD] 0 [0 0] 0\n",
      "[PAD] 0 [0 0] 0\n",
      "[PAD] 0 [0 0] 0\n",
      "[PAD] 0 [0 0] 0\n",
      "[PAD] 0 [0 0] 0\n",
      "[PAD] 0 [0 0] 0\n",
      "[PAD] 0 [0 0] 0\n",
      "[PAD] 0 [0 0] 0\n",
      "[PAD] 0 [0 0] 0\n",
      "[PAD] 0 [0 0] 0\n",
      "[PAD] 0 [0 0] 0\n",
      "[PAD] 0 [0 0] 0\n",
      "[PAD] 0 [0 0] 0\n",
      "[PAD] 0 [0 0] 0\n",
      "[PAD] 0 [0 0] 0\n",
      "[PAD] 0 [0 0] 0\n",
      "[PAD] 0 [0 0] 0\n",
      "[PAD] 0 [0 0] 0\n",
      "[PAD] 0 [0 0] 0\n",
      "[PAD] 0 [0 0] 0\n",
      "[PAD] 0 [0 0] 0\n",
      "[PAD] 0 [0 0] 0\n",
      "[PAD] 0 [0 0] 0\n",
      "[PAD] 0 [0 0] 0\n",
      "[PAD] 0 [0 0] 0\n",
      "[PAD] 0 [0 0] 0\n",
      "[PAD] 0 [0 0] 0\n",
      "[PAD] 0 [0 0] 0\n",
      "[PAD] 0 [0 0] 0\n",
      "[PAD] 0 [0 0] 0\n",
      "[PAD] 0 [0 0] 0\n",
      "[PAD] 0 [0 0] 0\n"
     ]
    }
   ],
   "metadata": {}
  },
  {
   "cell_type": "code",
   "execution_count": 3,
   "source": [
    "x = a[1]\n",
    "x['user_index']"
   ],
   "outputs": [
    {
     "output_type": "execute_result",
     "data": {
      "text/plain": [
       "2"
      ]
     },
     "metadata": {},
     "execution_count": 3
    }
   ],
   "metadata": {}
  },
  {
   "cell_type": "code",
   "execution_count": null,
   "source": [
    "cdd = x['cdd_encoded_index'][0]"
   ],
   "outputs": [],
   "metadata": {}
  },
  {
   "cell_type": "code",
   "execution_count": null,
   "source": [
    "subword = x['cdd_subword_index'][0]"
   ],
   "outputs": [],
   "metadata": {}
  },
  {
   "cell_type": "code",
   "execution_count": null,
   "source": [
    "manager.convert_tokens_to_words(t.convert_ids_to_tokens(cdd))"
   ],
   "outputs": [],
   "metadata": {}
  },
  {
   "cell_type": "code",
   "execution_count": null,
   "source": [
    "subword"
   ],
   "outputs": [],
   "metadata": {}
  },
  {
   "cell_type": "code",
   "execution_count": null,
   "source": [
    "t.convert_ids_to_tokens(cdd)"
   ],
   "outputs": [],
   "metadata": {}
  },
  {
   "cell_type": "code",
   "execution_count": null,
   "source": [
    "t.convert_ids_to_tokens([   1, 7565,   16, 4690,    0,    0,    0,    0])"
   ],
   "outputs": [],
   "metadata": {}
  },
  {
   "cell_type": "code",
   "execution_count": null,
   "source": [
    "tokens = t.tokenize(\"[CLS] I love you embeddings.\")\n",
    "tokens"
   ],
   "outputs": [],
   "metadata": {}
  },
  {
   "cell_type": "code",
   "execution_count": null,
   "source": [
    "news = pickle.load(open('/data/workspace/Peitian/Code/Document-Reduction/Code/data/cache/deberta/MINDdemo_train/news.pkl', 'rb'))\n",
    "ids = news['encoded_news']\n",
    "subwords = news['subwords_all']"
   ],
   "outputs": [],
   "metadata": {}
  },
  {
   "cell_type": "code",
   "execution_count": null,
   "source": [
    "t.convert_tokens_to_ids([i for i in r\"[.&*()+=/\\<>,!?;:~`@#$%^]\"])"
   ],
   "outputs": [],
   "metadata": {}
  },
  {
   "cell_type": "code",
   "execution_count": null,
   "source": [],
   "outputs": [],
   "metadata": {}
  }
 ],
 "metadata": {
  "orig_nbformat": 4,
  "language_info": {
   "name": "python",
   "version": "3.8.11",
   "mimetype": "text/x-python",
   "codemirror_mode": {
    "name": "ipython",
    "version": 3
   },
   "pygments_lexer": "ipython3",
   "nbconvert_exporter": "python",
   "file_extension": ".py"
  },
  "kernelspec": {
   "name": "python3",
   "display_name": "Python 3.8.11 64-bit (conda)"
  },
  "interpreter": {
   "hash": "decb58d8582e8bebc2c9af4e5243ce054f2f8013c5b7e79ffbf7b8b9f3c0761b"
  }
 },
 "nbformat": 4,
 "nbformat_minor": 2
}