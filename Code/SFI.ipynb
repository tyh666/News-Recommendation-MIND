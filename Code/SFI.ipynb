{
 "cells": [
  {
   "cell_type": "code",
   "execution_count": 1,
   "source": [
    "import logging\r\n",
    "import math,random\r\n",
    "import time\r\n",
    "\r\n",
    "import torch\r\n",
    "import torch.nn as nn\r\n",
    "import torch.nn.functional as F\r\n",
    "\r\n",
    "from models.Attention import Attention\r\n",
    "from models.Embeddings.BERT import BERT_Embedding\r\n",
    "from models.Embeddings.GLOVE import GLOVE_Embedding\r\n",
    "from models.Encoders.CNN import CNN_Encoder\r\n",
    "from models.Encoders.FIM import FIM_Encoder\r\n",
    "from models.Encoders.RNN import RNN_User_Encoder\r\n",
    "from models.Interactors.CNN import CNN_Interactor\r\n",
    "from models.Interactors.FIM import FIM_Interactor\r\n",
    "from models.Interactors.KNRM import KNRM_Interactor\r\n",
    "from models.Interactors.BERT import BERT_Interactor\r\n",
    "\r\n",
    "from models.ESM import ESM\r\n",
    "\r\n",
    "from data.configs.demo import config\r\n",
    "from utils.utils import prepare\r\n",
    "from utils.Manager import Manager\r\n",
    "\r\n",
    "from models.Modules.DRM import DRM_Matching"
   ],
   "outputs": [],
   "metadata": {}
  },
  {
   "cell_type": "code",
   "execution_count": 2,
   "source": [
    "config.his_size = 10\r\n",
    "config.embedding = 'glove'\r\n",
    "config.hidden_dim = 200\r\n",
    "config.learning_rate = 1e-3\r\n",
    "\r\n",
    "config.path = \"C:/\"\r\n",
    "\r\n",
    "manager = Manager(config)\r\n",
    "\r\n",
    "vocab, loaders = prepare(manager)\r\n",
    "record = next(iter(loaders[0]))"
   ],
   "outputs": [
    {
     "output_type": "stream",
     "name": "stderr",
     "text": [
      "[2021-08-09 13:00:17,280] INFO (root) Hyper Parameters are scale:demo, mode:tune, epochs:8, batch_size:10, k:3, threshold:0, title_length:20, abs_length:40, signal_length:50, npratio:4, his_size:10, dropout_p:0.2, device:cpu, learning_rate:0.001, metrics:auc,mean_mrr,ndcg@5,ndcg@10, embedding:glove, embedding_dim:300, hidden_dim:200, rank:0, world_size:0, step:[0], seeds:42, interval:10, val_freq:2, schedule:None, path:../../Data/, tb:False, bert:bert-base-uncased, cdd_size:5\n",
      "[2021-08-09 13:00:17,281] INFO (root) preparing dataset...\n",
      "[2021-08-09 13:00:17,483] INFO (torchtext.vocab) Downloading vectors from http://nlp.stanford.edu/data/glove.840B.300d.zip\n",
      "../../Data/.vector_cache\\glove.840B.300d.zip:   0%|          | 2.15M/2.18G [00:03<30:11, 1.20MB/s]"
     ]
    }
   ],
   "metadata": {}
  },
  {
   "cell_type": "code",
   "execution_count": null,
   "source": [],
   "outputs": [],
   "metadata": {}
  }
 ],
 "metadata": {
  "orig_nbformat": 4,
  "language_info": {
   "name": "python",
   "version": "3.8.8",
   "mimetype": "text/x-python",
   "codemirror_mode": {
    "name": "ipython",
    "version": 3
   },
   "pygments_lexer": "ipython3",
   "nbconvert_exporter": "python",
   "file_extension": ".py"
  },
  "kernelspec": {
   "name": "python3",
   "display_name": "Python 3.8.8 64-bit ('base': conda)"
  },
  "interpreter": {
   "hash": "01f651214b0df947376b22bdce96981aa6546e177d04daceb10ed93c0185908c"
  }
 },
 "nbformat": 4,
 "nbformat_minor": 2
}