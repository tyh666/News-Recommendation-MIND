{
 "cells": [
  {
   "cell_type": "code",
   "execution_count": 5,
   "source": [
    "import re\n",
    "import math\n",
    "from collections import defaultdict\n",
    "from nltk.stem import PorterStemmer \n",
    "class Retriever(object):\n",
    "\tdef __init__(self, inverted_index):\n",
    "\t\t\"\"\"\n",
    "\t\tArgs:\n",
    "\t\t\tdocuments: inverted index of documents sorted by score\n",
    "\t\t\"\"\"\n",
    "\t\tself.inverted_index = inverted_index \n",
    "\t\tself.stemmer = PorterStemmer()\n",
    "\n",
    "\tdef __call__(self, query):\n",
    "\t\tscore_all = defaultdict(float)\n",
    "\t\tfor word in query:\n",
    "\t\t\tstem_word = self.stemmer.stem(w)\n",
    "\t\t\tfor doc,score in self.inverted_index[stem_word].items():\n",
    "\t\t\t\tscore_all[doc] += score\n",
    "\n",
    "\t\tscore_all = dict(sorted(score_all.items(), key=lambda x: x[1]))\n",
    "\t\t\n",
    "\t\treturn list(score_all.keys())"
   ],
   "outputs": [],
   "metadata": {}
  },
  {
   "cell_type": "code",
   "execution_count": null,
   "source": [],
   "outputs": [],
   "metadata": {}
  }
 ],
 "metadata": {
  "orig_nbformat": 4,
  "language_info": {
   "name": "python",
   "version": "3.8.11",
   "mimetype": "text/x-python",
   "codemirror_mode": {
    "name": "ipython",
    "version": 3
   },
   "pygments_lexer": "ipython3",
   "nbconvert_exporter": "python",
   "file_extension": ".py"
  },
  "kernelspec": {
   "name": "python3",
   "display_name": "Python 3.8.11 64-bit (conda)"
  },
  "interpreter": {
   "hash": "0f43efc2da5f33d61ae1bd929e6c7df9dd2aa7f250aadb5586d31de3e27bb6a5"
  }
 },
 "nbformat": 4,
 "nbformat_minor": 2
}