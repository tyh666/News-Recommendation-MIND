{
 "cells": [
  {
   "cell_type": "code",
   "execution_count": null,
   "source": [
    "import logging\n",
    "import math,random\n",
    "import time\n",
    "\n",
    "import torch\n",
    "import torch.nn as nn\n",
    "import torch.nn.functional as F\n",
    "\n",
    "from models.Attention import Attention\n",
    "from models.Embeddings.BERT import BERT_Embedding\n",
    "from models.Embeddings.GLOVE import GLOVE_Embedding\n",
    "from models.Encoders.CNN import CNN_Encoder\n",
    "from models.Encoders.RNN import RNN_User_Encoder\n",
    "from models.Interactors.CNN import CNN_Interactor\n",
    "from models.Interactors.FIM import FIM_Interactor\n",
    "from models.Interactors.KNRM import KNRM_Interactor\n",
    "from models.Interactors.BERT_Overlook import BERT_Interactor\n",
    "from models.Interactors.BERT_Onepass import BERT_Interactor\n",
    "\n",
    "from models.ESM import ESM\n",
    "\n",
    "from data.configs.demo import config\n",
    "from utils.utils import prepare\n",
    "from utils.Manager import Manager\n",
    "\n",
    "from models.Modules.DRM import DRM_Matching\n",
    "# from models.Modules.TFM import TFM"
   ],
   "outputs": [],
   "metadata": {}
  },
  {
   "cell_type": "code",
   "execution_count": null,
   "source": [
    "config.his_size = 10\n",
    "config.embedding = 'bert'\n",
    "config.hidden_dim = 768\n",
    "config.device = 1\n",
    "config.learning_rate = 1e-6\n",
    "\n",
    "# config.path = \"C:/\"\n",
    "\n",
    "manager = Manager(config)\n",
    "\n",
    "vocab, loaders = prepare(manager)\n",
    "record = next(iter(loaders[0]))"
   ],
   "outputs": [],
   "metadata": {}
  },
  {
   "cell_type": "code",
   "execution_count": null,
   "source": [
    "embedding = BERT_Embedding(manager)\n",
    "encoderN = CNN_Encoder(manager)\n",
    "encoderU = RNN_User_Encoder(manager)\n",
    "docReducer = DRM_Matching(manager)\n",
    "# termFuser = TFM(manager.his_size, manager.k)\n",
    "# interactor = CNN_Interactor(manager)\n",
    "\n",
    "interactor = BERT_Interactor(manager)\n",
    "\n",
    "esm = ESM(manager, embedding, encoderN, encoderU, docReducer, None, interactor).to(manager.device)"
   ],
   "outputs": [],
   "metadata": {}
  },
  {
   "cell_type": "code",
   "execution_count": 20,
   "source": [
    "name_p = list(esm.named_parameters())\n",
    "p = list(esm.parameters())"
   ],
   "outputs": [],
   "metadata": {}
  },
  {
   "cell_type": "code",
   "execution_count": 22,
   "source": [
    "p[3].shape"
   ],
   "outputs": [
    {
     "output_type": "execute_result",
     "data": {
      "text/plain": [
       "torch.Size([1, 768])"
      ]
     },
     "metadata": {},
     "execution_count": 22
    }
   ],
   "metadata": {}
  },
  {
   "cell_type": "code",
   "execution_count": 24,
   "source": [
    "name_p[3][1].shape"
   ],
   "outputs": [
    {
     "output_type": "execute_result",
     "data": {
      "text/plain": [
       "torch.Size([1, 768])"
      ]
     },
     "metadata": {},
     "execution_count": 24
    }
   ],
   "metadata": {}
  },
  {
   "cell_type": "code",
   "execution_count": 33,
   "source": [
    "from itertools import chain\n",
    "base_params = chain(*[v.named_parameters() for k,v in esm.named_children() if k not in ['embedding','interactor']])"
   ],
   "outputs": [],
   "metadata": {}
  },
  {
   "cell_type": "code",
   "execution_count": 26,
   "source": [
    "[n[0] for n in name_p]"
   ],
   "outputs": [
    {
     "output_type": "execute_result",
     "data": {
      "text/plain": [
       "['embedding.embedding.weight',\n",
       " 'embedding.layerNorm.weight',\n",
       " 'embedding.layerNorm.bias',\n",
       " 'encoderN.query_words',\n",
       " 'encoderN.wordQueryProject.weight',\n",
       " 'encoderN.wordQueryProject.bias',\n",
       " 'encoderN.CNN.weight',\n",
       " 'encoderN.CNN.bias',\n",
       " 'encoderN.layerNorm.weight',\n",
       " 'encoderN.layerNorm.bias',\n",
       " 'encoderU.lstm.weight_ih_l0',\n",
       " 'encoderU.lstm.weight_hh_l0',\n",
       " 'encoderU.lstm.bias_ih_l0',\n",
       " 'encoderU.lstm.bias_hh_l0',\n",
       " 'interactor.order_embedding',\n",
       " 'interactor.cdd_pos_embedding',\n",
       " 'interactor.pst_pos_embedding',\n",
       " 'interactor.sep_embedding',\n",
       " 'interactor.cls_embedding',\n",
       " 'interactor.bert.layer.0.attention.self.query.weight',\n",
       " 'interactor.bert.layer.0.attention.self.query.bias',\n",
       " 'interactor.bert.layer.0.attention.self.key.weight',\n",
       " 'interactor.bert.layer.0.attention.self.key.bias',\n",
       " 'interactor.bert.layer.0.attention.self.value.weight',\n",
       " 'interactor.bert.layer.0.attention.self.value.bias',\n",
       " 'interactor.bert.layer.0.attention.output.dense.weight',\n",
       " 'interactor.bert.layer.0.attention.output.dense.bias',\n",
       " 'interactor.bert.layer.0.attention.output.LayerNorm.weight',\n",
       " 'interactor.bert.layer.0.attention.output.LayerNorm.bias',\n",
       " 'interactor.bert.layer.0.intermediate.dense.weight',\n",
       " 'interactor.bert.layer.0.intermediate.dense.bias',\n",
       " 'interactor.bert.layer.0.output.dense.weight',\n",
       " 'interactor.bert.layer.0.output.dense.bias',\n",
       " 'interactor.bert.layer.0.output.LayerNorm.weight',\n",
       " 'interactor.bert.layer.0.output.LayerNorm.bias',\n",
       " 'interactor.bert.layer.1.attention.self.query.weight',\n",
       " 'interactor.bert.layer.1.attention.self.query.bias',\n",
       " 'interactor.bert.layer.1.attention.self.key.weight',\n",
       " 'interactor.bert.layer.1.attention.self.key.bias',\n",
       " 'interactor.bert.layer.1.attention.self.value.weight',\n",
       " 'interactor.bert.layer.1.attention.self.value.bias',\n",
       " 'interactor.bert.layer.1.attention.output.dense.weight',\n",
       " 'interactor.bert.layer.1.attention.output.dense.bias',\n",
       " 'interactor.bert.layer.1.attention.output.LayerNorm.weight',\n",
       " 'interactor.bert.layer.1.attention.output.LayerNorm.bias',\n",
       " 'interactor.bert.layer.1.intermediate.dense.weight',\n",
       " 'interactor.bert.layer.1.intermediate.dense.bias',\n",
       " 'interactor.bert.layer.1.output.dense.weight',\n",
       " 'interactor.bert.layer.1.output.dense.bias',\n",
       " 'interactor.bert.layer.1.output.LayerNorm.weight',\n",
       " 'interactor.bert.layer.1.output.LayerNorm.bias',\n",
       " 'interactor.bert.layer.2.attention.self.query.weight',\n",
       " 'interactor.bert.layer.2.attention.self.query.bias',\n",
       " 'interactor.bert.layer.2.attention.self.key.weight',\n",
       " 'interactor.bert.layer.2.attention.self.key.bias',\n",
       " 'interactor.bert.layer.2.attention.self.value.weight',\n",
       " 'interactor.bert.layer.2.attention.self.value.bias',\n",
       " 'interactor.bert.layer.2.attention.output.dense.weight',\n",
       " 'interactor.bert.layer.2.attention.output.dense.bias',\n",
       " 'interactor.bert.layer.2.attention.output.LayerNorm.weight',\n",
       " 'interactor.bert.layer.2.attention.output.LayerNorm.bias',\n",
       " 'interactor.bert.layer.2.intermediate.dense.weight',\n",
       " 'interactor.bert.layer.2.intermediate.dense.bias',\n",
       " 'interactor.bert.layer.2.output.dense.weight',\n",
       " 'interactor.bert.layer.2.output.dense.bias',\n",
       " 'interactor.bert.layer.2.output.LayerNorm.weight',\n",
       " 'interactor.bert.layer.2.output.LayerNorm.bias',\n",
       " 'interactor.bert.layer.3.attention.self.query.weight',\n",
       " 'interactor.bert.layer.3.attention.self.query.bias',\n",
       " 'interactor.bert.layer.3.attention.self.key.weight',\n",
       " 'interactor.bert.layer.3.attention.self.key.bias',\n",
       " 'interactor.bert.layer.3.attention.self.value.weight',\n",
       " 'interactor.bert.layer.3.attention.self.value.bias',\n",
       " 'interactor.bert.layer.3.attention.output.dense.weight',\n",
       " 'interactor.bert.layer.3.attention.output.dense.bias',\n",
       " 'interactor.bert.layer.3.attention.output.LayerNorm.weight',\n",
       " 'interactor.bert.layer.3.attention.output.LayerNorm.bias',\n",
       " 'interactor.bert.layer.3.intermediate.dense.weight',\n",
       " 'interactor.bert.layer.3.intermediate.dense.bias',\n",
       " 'interactor.bert.layer.3.output.dense.weight',\n",
       " 'interactor.bert.layer.3.output.dense.bias',\n",
       " 'interactor.bert.layer.3.output.LayerNorm.weight',\n",
       " 'interactor.bert.layer.3.output.LayerNorm.bias',\n",
       " 'interactor.bert.layer.4.attention.self.query.weight',\n",
       " 'interactor.bert.layer.4.attention.self.query.bias',\n",
       " 'interactor.bert.layer.4.attention.self.key.weight',\n",
       " 'interactor.bert.layer.4.attention.self.key.bias',\n",
       " 'interactor.bert.layer.4.attention.self.value.weight',\n",
       " 'interactor.bert.layer.4.attention.self.value.bias',\n",
       " 'interactor.bert.layer.4.attention.output.dense.weight',\n",
       " 'interactor.bert.layer.4.attention.output.dense.bias',\n",
       " 'interactor.bert.layer.4.attention.output.LayerNorm.weight',\n",
       " 'interactor.bert.layer.4.attention.output.LayerNorm.bias',\n",
       " 'interactor.bert.layer.4.intermediate.dense.weight',\n",
       " 'interactor.bert.layer.4.intermediate.dense.bias',\n",
       " 'interactor.bert.layer.4.output.dense.weight',\n",
       " 'interactor.bert.layer.4.output.dense.bias',\n",
       " 'interactor.bert.layer.4.output.LayerNorm.weight',\n",
       " 'interactor.bert.layer.4.output.LayerNorm.bias',\n",
       " 'interactor.bert.layer.5.attention.self.query.weight',\n",
       " 'interactor.bert.layer.5.attention.self.query.bias',\n",
       " 'interactor.bert.layer.5.attention.self.key.weight',\n",
       " 'interactor.bert.layer.5.attention.self.key.bias',\n",
       " 'interactor.bert.layer.5.attention.self.value.weight',\n",
       " 'interactor.bert.layer.5.attention.self.value.bias',\n",
       " 'interactor.bert.layer.5.attention.output.dense.weight',\n",
       " 'interactor.bert.layer.5.attention.output.dense.bias',\n",
       " 'interactor.bert.layer.5.attention.output.LayerNorm.weight',\n",
       " 'interactor.bert.layer.5.attention.output.LayerNorm.bias',\n",
       " 'interactor.bert.layer.5.intermediate.dense.weight',\n",
       " 'interactor.bert.layer.5.intermediate.dense.bias',\n",
       " 'interactor.bert.layer.5.output.dense.weight',\n",
       " 'interactor.bert.layer.5.output.dense.bias',\n",
       " 'interactor.bert.layer.5.output.LayerNorm.weight',\n",
       " 'interactor.bert.layer.5.output.LayerNorm.bias',\n",
       " 'interactor.bert.layer.6.attention.self.query.weight',\n",
       " 'interactor.bert.layer.6.attention.self.query.bias',\n",
       " 'interactor.bert.layer.6.attention.self.key.weight',\n",
       " 'interactor.bert.layer.6.attention.self.key.bias',\n",
       " 'interactor.bert.layer.6.attention.self.value.weight',\n",
       " 'interactor.bert.layer.6.attention.self.value.bias',\n",
       " 'interactor.bert.layer.6.attention.output.dense.weight',\n",
       " 'interactor.bert.layer.6.attention.output.dense.bias',\n",
       " 'interactor.bert.layer.6.attention.output.LayerNorm.weight',\n",
       " 'interactor.bert.layer.6.attention.output.LayerNorm.bias',\n",
       " 'interactor.bert.layer.6.intermediate.dense.weight',\n",
       " 'interactor.bert.layer.6.intermediate.dense.bias',\n",
       " 'interactor.bert.layer.6.output.dense.weight',\n",
       " 'interactor.bert.layer.6.output.dense.bias',\n",
       " 'interactor.bert.layer.6.output.LayerNorm.weight',\n",
       " 'interactor.bert.layer.6.output.LayerNorm.bias',\n",
       " 'interactor.bert.layer.7.attention.self.query.weight',\n",
       " 'interactor.bert.layer.7.attention.self.query.bias',\n",
       " 'interactor.bert.layer.7.attention.self.key.weight',\n",
       " 'interactor.bert.layer.7.attention.self.key.bias',\n",
       " 'interactor.bert.layer.7.attention.self.value.weight',\n",
       " 'interactor.bert.layer.7.attention.self.value.bias',\n",
       " 'interactor.bert.layer.7.attention.output.dense.weight',\n",
       " 'interactor.bert.layer.7.attention.output.dense.bias',\n",
       " 'interactor.bert.layer.7.attention.output.LayerNorm.weight',\n",
       " 'interactor.bert.layer.7.attention.output.LayerNorm.bias',\n",
       " 'interactor.bert.layer.7.intermediate.dense.weight',\n",
       " 'interactor.bert.layer.7.intermediate.dense.bias',\n",
       " 'interactor.bert.layer.7.output.dense.weight',\n",
       " 'interactor.bert.layer.7.output.dense.bias',\n",
       " 'interactor.bert.layer.7.output.LayerNorm.weight',\n",
       " 'interactor.bert.layer.7.output.LayerNorm.bias',\n",
       " 'interactor.bert.layer.8.attention.self.query.weight',\n",
       " 'interactor.bert.layer.8.attention.self.query.bias',\n",
       " 'interactor.bert.layer.8.attention.self.key.weight',\n",
       " 'interactor.bert.layer.8.attention.self.key.bias',\n",
       " 'interactor.bert.layer.8.attention.self.value.weight',\n",
       " 'interactor.bert.layer.8.attention.self.value.bias',\n",
       " 'interactor.bert.layer.8.attention.output.dense.weight',\n",
       " 'interactor.bert.layer.8.attention.output.dense.bias',\n",
       " 'interactor.bert.layer.8.attention.output.LayerNorm.weight',\n",
       " 'interactor.bert.layer.8.attention.output.LayerNorm.bias',\n",
       " 'interactor.bert.layer.8.intermediate.dense.weight',\n",
       " 'interactor.bert.layer.8.intermediate.dense.bias',\n",
       " 'interactor.bert.layer.8.output.dense.weight',\n",
       " 'interactor.bert.layer.8.output.dense.bias',\n",
       " 'interactor.bert.layer.8.output.LayerNorm.weight',\n",
       " 'interactor.bert.layer.8.output.LayerNorm.bias',\n",
       " 'interactor.bert.layer.9.attention.self.query.weight',\n",
       " 'interactor.bert.layer.9.attention.self.query.bias',\n",
       " 'interactor.bert.layer.9.attention.self.key.weight',\n",
       " 'interactor.bert.layer.9.attention.self.key.bias',\n",
       " 'interactor.bert.layer.9.attention.self.value.weight',\n",
       " 'interactor.bert.layer.9.attention.self.value.bias',\n",
       " 'interactor.bert.layer.9.attention.output.dense.weight',\n",
       " 'interactor.bert.layer.9.attention.output.dense.bias',\n",
       " 'interactor.bert.layer.9.attention.output.LayerNorm.weight',\n",
       " 'interactor.bert.layer.9.attention.output.LayerNorm.bias',\n",
       " 'interactor.bert.layer.9.intermediate.dense.weight',\n",
       " 'interactor.bert.layer.9.intermediate.dense.bias',\n",
       " 'interactor.bert.layer.9.output.dense.weight',\n",
       " 'interactor.bert.layer.9.output.dense.bias',\n",
       " 'interactor.bert.layer.9.output.LayerNorm.weight',\n",
       " 'interactor.bert.layer.9.output.LayerNorm.bias',\n",
       " 'interactor.bert.layer.10.attention.self.query.weight',\n",
       " 'interactor.bert.layer.10.attention.self.query.bias',\n",
       " 'interactor.bert.layer.10.attention.self.key.weight',\n",
       " 'interactor.bert.layer.10.attention.self.key.bias',\n",
       " 'interactor.bert.layer.10.attention.self.value.weight',\n",
       " 'interactor.bert.layer.10.attention.self.value.bias',\n",
       " 'interactor.bert.layer.10.attention.output.dense.weight',\n",
       " 'interactor.bert.layer.10.attention.output.dense.bias',\n",
       " 'interactor.bert.layer.10.attention.output.LayerNorm.weight',\n",
       " 'interactor.bert.layer.10.attention.output.LayerNorm.bias',\n",
       " 'interactor.bert.layer.10.intermediate.dense.weight',\n",
       " 'interactor.bert.layer.10.intermediate.dense.bias',\n",
       " 'interactor.bert.layer.10.output.dense.weight',\n",
       " 'interactor.bert.layer.10.output.dense.bias',\n",
       " 'interactor.bert.layer.10.output.LayerNorm.weight',\n",
       " 'interactor.bert.layer.10.output.LayerNorm.bias',\n",
       " 'interactor.bert.layer.11.attention.self.query.weight',\n",
       " 'interactor.bert.layer.11.attention.self.query.bias',\n",
       " 'interactor.bert.layer.11.attention.self.key.weight',\n",
       " 'interactor.bert.layer.11.attention.self.key.bias',\n",
       " 'interactor.bert.layer.11.attention.self.value.weight',\n",
       " 'interactor.bert.layer.11.attention.self.value.bias',\n",
       " 'interactor.bert.layer.11.attention.output.dense.weight',\n",
       " 'interactor.bert.layer.11.attention.output.dense.bias',\n",
       " 'interactor.bert.layer.11.attention.output.LayerNorm.weight',\n",
       " 'interactor.bert.layer.11.attention.output.LayerNorm.bias',\n",
       " 'interactor.bert.layer.11.intermediate.dense.weight',\n",
       " 'interactor.bert.layer.11.intermediate.dense.bias',\n",
       " 'interactor.bert.layer.11.output.dense.weight',\n",
       " 'interactor.bert.layer.11.output.dense.bias',\n",
       " 'interactor.bert.layer.11.output.LayerNorm.weight',\n",
       " 'interactor.bert.layer.11.output.LayerNorm.bias',\n",
       " 'learningToRank.0.weight',\n",
       " 'learningToRank.0.bias',\n",
       " 'learningToRank.2.weight',\n",
       " 'learningToRank.2.bias']"
      ]
     },
     "metadata": {},
     "execution_count": 26
    }
   ],
   "metadata": {}
  },
  {
   "cell_type": "code",
   "execution_count": 34,
   "source": [
    "my_name = [x[0] for x in list(base_params)]"
   ],
   "outputs": [],
   "metadata": {}
  },
  {
   "cell_type": "code",
   "execution_count": 36,
   "source": [
    "next(esm.parameters())"
   ],
   "outputs": [
    {
     "output_type": "execute_result",
     "data": {
      "text/plain": [
       "Parameter containing:\n",
       "tensor([[-0.0102, -0.0615, -0.0265,  ..., -0.0199, -0.0372, -0.0098],\n",
       "        [-0.0117, -0.0600, -0.0323,  ..., -0.0168, -0.0401, -0.0107],\n",
       "        [-0.0198, -0.0627, -0.0326,  ..., -0.0165, -0.0420, -0.0032],\n",
       "        ...,\n",
       "        [-0.0218, -0.0556, -0.0135,  ..., -0.0043, -0.0151, -0.0249],\n",
       "        [-0.0462, -0.0565, -0.0019,  ...,  0.0157, -0.0139, -0.0095],\n",
       "        [ 0.0015, -0.0821, -0.0160,  ..., -0.0081, -0.0475,  0.0753]],\n",
       "       device='cuda:1', requires_grad=True)"
      ]
     },
     "metadata": {},
     "execution_count": 36
    }
   ],
   "metadata": {}
  },
  {
   "cell_type": "code",
   "execution_count": 37,
   "source": [
    "from itertools import cycle\n",
    "c = cycle(base_params)"
   ],
   "outputs": [],
   "metadata": {}
  },
  {
   "cell_type": "code",
   "execution_count": 40,
   "source": [
    "list(c)"
   ],
   "outputs": [
    {
     "output_type": "execute_result",
     "data": {
      "text/plain": [
       "[]"
      ]
     },
     "metadata": {},
     "execution_count": 40
    }
   ],
   "metadata": {}
  },
  {
   "cell_type": "code",
   "execution_count": null,
   "source": [],
   "outputs": [],
   "metadata": {}
  }
 ],
 "metadata": {
  "orig_nbformat": 4,
  "language_info": {
   "name": "python",
   "version": "3.8.11",
   "mimetype": "text/x-python",
   "codemirror_mode": {
    "name": "ipython",
    "version": 3
   },
   "pygments_lexer": "ipython3",
   "nbconvert_exporter": "python",
   "file_extension": ".py"
  },
  "kernelspec": {
   "name": "python3",
   "display_name": "Python 3.8.11 64-bit (conda)"
  },
  "interpreter": {
   "hash": "decb58d8582e8bebc2c9af4e5243ce054f2f8013c5b7e79ffbf7b8b9f3c0761b"
  }
 },
 "nbformat": 4,
 "nbformat_minor": 2
}