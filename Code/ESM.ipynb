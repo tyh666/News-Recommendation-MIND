{
 "cells": [
  {
   "cell_type": "code",
   "execution_count": null,
   "source": [
    "import logging\n",
    "import math,random\n",
    "import time\n",
    "\n",
    "import torch\n",
    "import torch.nn as nn\n",
    "import torch.nn.functional as F\n",
    "\n",
    "from models.Attention import Attention\n",
    "from models.Embeddings.BERT import BERT_Embedding\n",
    "from models.Embeddings.GLOVE import GLOVE_Embedding\n",
    "from models.Encoders.CNN import CNN_Encoder\n",
    "from models.Encoders.RNN import RNN_User_Encoder\n",
    "from models.Interactors.CNN import CNN_Interactor\n",
    "from models.Interactors.FIM import FIM_Interactor\n",
    "from models.Interactors.KNRM import KNRM_Interactor\n",
    "from models.Interactors.BERT_Overlook import BERT_Interactor\n",
    "from models.Interactors.BERT_Onepass import BERT_Interactor\n",
    "\n",
    "from models.ESM import ESM\n",
    "\n",
    "from data.configs.demo import config\n",
    "from utils.utils import prepare\n",
    "from utils.Manager import Manager\n",
    "\n",
    "from models.Modules.DRM import DRM_Matching\n",
    "# from models.Modules.TFM import TFM"
   ],
   "outputs": [],
   "metadata": {}
  },
  {
   "cell_type": "code",
   "execution_count": null,
   "source": [
    "config.his_size = 10\n",
    "config.embedding = 'bert'\n",
    "config.hidden_dim = 768\n",
    "config.device = 1\n",
    "config.learning_rate = 1e-6\n",
    "\n",
    "# config.path = \"C:/\"\n",
    "config.mode = 'dev'\n",
    "\n",
    "manager = Manager(config)\n",
    "\n",
    "vocab, loaders = prepare(manager)\n",
    "record = next(iter(loaders[0]))"
   ],
   "outputs": [],
   "metadata": {}
  },
  {
   "cell_type": "code",
   "execution_count": null,
   "source": [
    "embedding = BERT_Embedding(manager)\n",
    "encoderN = CNN_Encoder(manager)\n",
    "encoderU = RNN_User_Encoder(manager)\n",
    "docReducer = DRM_Matching(manager)\n",
    "# termFuser = TFM(manager.his_size, manager.k)\n",
    "# interactor = CNN_Interactor(manager)\n",
    "\n",
    "interactor = BERT_Interactor(manager)\n",
    "\n",
    "esm = ESM(manager, embedding, encoderN, encoderU, docReducer, None, interactor).to(manager.device)"
   ],
   "outputs": [],
   "metadata": {}
  },
  {
   "cell_type": "code",
   "execution_count": null,
   "source": [
    "record"
   ],
   "outputs": [],
   "metadata": {}
  },
  {
   "cell_type": "code",
   "execution_count": null,
   "source": [
    "esm.eval()"
   ],
   "outputs": [],
   "metadata": {}
  },
  {
   "cell_type": "code",
   "execution_count": null,
   "source": [],
   "outputs": [],
   "metadata": {}
  },
  {
   "cell_type": "code",
   "execution_count": null,
   "source": [],
   "outputs": [],
   "metadata": {}
  }
 ],
 "metadata": {
  "orig_nbformat": 4,
  "language_info": {
   "name": "python",
   "version": "3.8.11",
   "mimetype": "text/x-python",
   "codemirror_mode": {
    "name": "ipython",
    "version": 3
   },
   "pygments_lexer": "ipython3",
   "nbconvert_exporter": "python",
   "file_extension": ".py"
  },
  "kernelspec": {
   "name": "python3",
   "display_name": "Python 3.8.11 64-bit (conda)"
  },
  "interpreter": {
   "hash": "decb58d8582e8bebc2c9af4e5243ce054f2f8013c5b7e79ffbf7b8b9f3c0761b"
  }
 },
 "nbformat": 4,
 "nbformat_minor": 2
}