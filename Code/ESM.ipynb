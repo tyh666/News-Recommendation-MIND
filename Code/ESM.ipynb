{
 "cells": [
  {
   "cell_type": "code",
   "execution_count": 1,
   "source": [
    "import logging\r\n",
    "import math,random\r\n",
    "import time\r\n",
    "\r\n",
    "import torch\r\n",
    "import torch.nn as nn\r\n",
    "import torch.nn.functional as F\r\n",
    "\r\n",
    "from models.Attention import Attention\r\n",
    "from models.Embeddings.BERT import BERT_Embedding\r\n",
    "from models.Embeddings.GLOVE import GLOVE_Embedding\r\n",
    "from models.Encoders.CNN import CNN_Encoder\r\n",
    "from models.Encoders.RNN import RNN_User_Encoder\r\n",
    "from models.Interactors.CNN import CNN_Interactor\r\n",
    "from models.Interactors.FIM import FIM_Interactor\r\n",
    "from models.Interactors.KNRM import KNRM_Interactor\r\n",
    "from models.Interactors.BERT import BERT_Interactor\r\n",
    "\r\n",
    "from models.ESM import ESM\r\n",
    "from models.base_model import BaseModel\r\n",
    "\r\n",
    "from data.configs.demo import config\r\n",
    "from utils.utils import prepare\r\n",
    "\r\n",
    "from models.base_model import BaseModel\r\n",
    "from models.Modules.DRM import DRM_Matching\r\n",
    "# from models.Modules.TFM import TFM"
   ],
   "outputs": [],
   "metadata": {}
  },
  {
   "cell_type": "code",
   "execution_count": 2,
   "source": [
    "config.npratio = 1\r\n",
    "config.batch_size = 2\r\n",
    "config.his_size = 2\r\n",
    "config.k = 3\r\n",
    "config.embedding = 'bert'\r\n",
    "config.bert = 'bert-base-uncased'\r\n",
    "config.hidden_dim = 768\r\n",
    "\r\n",
    "vocab, loaders = prepare(config, path=\"C:/MIND\", cache=\"data/.vector_cache\")\r\n",
    "record = next(iter(loaders[0]))"
   ],
   "outputs": [
    {
     "output_type": "stream",
     "name": "stderr",
     "text": [
      "[2021-08-03 19:51:32,732] INFO (root) Hyper Parameters are scale:demo, mode:train, batch_size:2, title_size:20, abs_size:40, his_size:2, learning_rate:0.001, vert_num:18, subvert_num:293, npratio:1, dropout_p:0.2, embedding_dim:300, hidden_dim:768, query_dim:200, head_num:16, epochs:8, metrics:auc,mean_mrr,ndcg@5,ndcg@10, device:cpu, k:3, step:[0], interval:10, val_freq:2, schedule:None, embedding:bert, bert:bert-base-uncased\n",
      "[2021-08-03 19:51:32,733] INFO (root) preparing dataset...\n"
     ]
    }
   ],
   "metadata": {}
  },
  {
   "cell_type": "code",
   "execution_count": 5,
   "source": [
    "embedding = BERT_Embedding(config)\r\n",
    "encoderN = CNN_Encoder(config)\r\n",
    "encoderU = RNN_User_Encoder(encoderN.hidden_dim)\r\n",
    "docReducer = DRM_Matching(config.k)\r\n",
    "# termFuser = TFM(config.his_size, config.k)\r\n",
    "# interactor = CNN_Interactor(config)\r\n",
    "interactor = BERT_Interactor(config)\r\n",
    "\r\n",
    "esm = ESM(config, embedding, encoderN, encoderU, docReducer, None, interactor).to(config.device)"
   ],
   "outputs": [
    {
     "output_type": "stream",
     "name": "stderr",
     "text": [
      "Some weights of the model checkpoint at bert-base-uncased were not used when initializing BertModel: ['cls.predictions.bias', 'cls.predictions.transform.dense.bias', 'cls.seq_relationship.bias', 'cls.predictions.decoder.weight', 'cls.seq_relationship.weight', 'cls.predictions.transform.dense.weight', 'cls.predictions.transform.LayerNorm.weight', 'cls.predictions.transform.LayerNorm.bias']\n",
      "- This IS expected if you are initializing BertModel from the checkpoint of a model trained on another task or with another architecture (e.g. initializing a BertForSequenceClassification model from a BertForPreTraining model).\n",
      "- This IS NOT expected if you are initializing BertModel from the checkpoint of a model that you expect to be exactly identical (initializing a BertForSequenceClassification model from a BertForSequenceClassification model).\n",
      "Some weights of the model checkpoint at bert-base-uncased were not used when initializing BertModel: ['cls.predictions.bias', 'cls.predictions.transform.dense.bias', 'cls.seq_relationship.bias', 'cls.predictions.decoder.weight', 'cls.seq_relationship.weight', 'cls.predictions.transform.dense.weight', 'cls.predictions.transform.LayerNorm.weight', 'cls.predictions.transform.LayerNorm.bias']\n",
      "- This IS expected if you are initializing BertModel from the checkpoint of a model trained on another task or with another architecture (e.g. initializing a BertForSequenceClassification model from a BertForPreTraining model).\n",
      "- This IS NOT expected if you are initializing BertModel from the checkpoint of a model that you expect to be exactly identical (initializing a BertForSequenceClassification model from a BertForSequenceClassification model).\n"
     ]
    }
   ],
   "metadata": {}
  },
  {
   "cell_type": "code",
   "execution_count": 6,
   "source": [
    "esm(record)"
   ],
   "outputs": [
    {
     "output_type": "execute_result",
     "data": {
      "text/plain": [
       "tensor([[-0.6933, -0.6930],\n",
       "        [-0.6905, -0.6958]], grad_fn=<LogSoftmaxBackward>)"
      ]
     },
     "metadata": {},
     "execution_count": 6
    }
   ],
   "metadata": {}
  },
  {
   "cell_type": "code",
   "execution_count": 8,
   "source": [
    "config.epochs = 8\r\n",
    "config.val_freq = 2\r\n",
    "esm.tune(config, loaders)"
   ],
   "outputs": [
    {
     "output_type": "stream",
     "name": "stderr",
     "text": [
      "[2021-08-03 19:54:22,571] INFO (models.base_model) training...\n"
     ]
    },
    {
     "output_type": "error",
     "ename": "AttributeError",
     "evalue": "type object 'config' has no attribute 'spadam'",
     "traceback": [
      "\u001b[1;31m---------------------------------------------------------------------------\u001b[0m",
      "\u001b[1;31mAttributeError\u001b[0m                            Traceback (most recent call last)",
      "\u001b[1;32m<ipython-input-8-15104d24c81c>\u001b[0m in \u001b[0;36m<module>\u001b[1;34m\u001b[0m\n\u001b[0;32m      1\u001b[0m \u001b[0mconfig\u001b[0m\u001b[1;33m.\u001b[0m\u001b[0mepochs\u001b[0m \u001b[1;33m=\u001b[0m \u001b[1;36m8\u001b[0m\u001b[1;33m\u001b[0m\u001b[1;33m\u001b[0m\u001b[0m\n\u001b[0;32m      2\u001b[0m \u001b[0mconfig\u001b[0m\u001b[1;33m.\u001b[0m\u001b[0mval_freq\u001b[0m \u001b[1;33m=\u001b[0m \u001b[1;36m2\u001b[0m\u001b[1;33m\u001b[0m\u001b[1;33m\u001b[0m\u001b[0m\n\u001b[1;32m----> 3\u001b[1;33m \u001b[0mesm\u001b[0m\u001b[1;33m.\u001b[0m\u001b[0mtune\u001b[0m\u001b[1;33m(\u001b[0m\u001b[0mconfig\u001b[0m\u001b[1;33m,\u001b[0m \u001b[0mloaders\u001b[0m\u001b[1;33m)\u001b[0m\u001b[1;33m\u001b[0m\u001b[1;33m\u001b[0m\u001b[0m\n\u001b[0m",
      "\u001b[1;32mc:\\Repos\\Document-Reduction\\Code\\models\\base_model.py\u001b[0m in \u001b[0;36mtune\u001b[1;34m(self, config, loaders, tb)\u001b[0m\n\u001b[0;32m    486\u001b[0m         \u001b[0mlogger\u001b[0m\u001b[1;33m.\u001b[0m\u001b[0minfo\u001b[0m\u001b[1;33m(\u001b[0m\u001b[1;34m\"training...\"\u001b[0m\u001b[1;33m)\u001b[0m\u001b[1;33m\u001b[0m\u001b[1;33m\u001b[0m\u001b[0m\n\u001b[0;32m    487\u001b[0m         \u001b[0mloss_func\u001b[0m \u001b[1;33m=\u001b[0m \u001b[0mself\u001b[0m\u001b[1;33m.\u001b[0m\u001b[0m_get_loss\u001b[0m\u001b[1;33m(\u001b[0m\u001b[1;33m)\u001b[0m\u001b[1;33m\u001b[0m\u001b[1;33m\u001b[0m\u001b[0m\n\u001b[1;32m--> 488\u001b[1;33m         \u001b[0moptimizers\u001b[0m\u001b[1;33m,\u001b[0m \u001b[0mschedulers\u001b[0m \u001b[1;33m=\u001b[0m \u001b[0mself\u001b[0m\u001b[1;33m.\u001b[0m\u001b[0m_get_optim\u001b[0m\u001b[1;33m(\u001b[0m\u001b[0mconfig\u001b[0m\u001b[1;33m,\u001b[0m \u001b[0mloaders\u001b[0m\u001b[1;33m[\u001b[0m\u001b[1;36m0\u001b[0m\u001b[1;33m]\u001b[0m\u001b[1;33m)\u001b[0m\u001b[1;33m\u001b[0m\u001b[1;33m\u001b[0m\u001b[0m\n\u001b[0m\u001b[0;32m    489\u001b[0m \u001b[1;33m\u001b[0m\u001b[0m\n\u001b[0;32m    490\u001b[0m         res = self._run_tune(loaders, optimizers, loss_func, config, schedulers=schedulers,\n",
      "\u001b[1;32mc:\\Repos\\Document-Reduction\\Code\\models\\base_model.py\u001b[0m in \u001b[0;36m_get_optim\u001b[1;34m(self, config, loader_train)\u001b[0m\n\u001b[0;32m    156\u001b[0m         \u001b[0mlearning_rate\u001b[0m \u001b[1;33m=\u001b[0m \u001b[0mconfig\u001b[0m\u001b[1;33m.\u001b[0m\u001b[0mlearning_rate\u001b[0m\u001b[1;33m\u001b[0m\u001b[1;33m\u001b[0m\u001b[0m\n\u001b[0;32m    157\u001b[0m \u001b[1;33m\u001b[0m\u001b[0m\n\u001b[1;32m--> 158\u001b[1;33m         \u001b[1;32mif\u001b[0m \u001b[0mconfig\u001b[0m\u001b[1;33m.\u001b[0m\u001b[0mspadam\u001b[0m\u001b[1;33m:\u001b[0m\u001b[1;33m\u001b[0m\u001b[1;33m\u001b[0m\u001b[0m\n\u001b[0m\u001b[0;32m    159\u001b[0m             optimizer_param = optim.Adam(\n\u001b[0;32m    160\u001b[0m                 parameter(self, [\"encoder.embedding.weight\",\"encoder.user_embedding.weight\"], exclude=True), lr=learning_rate)\n",
      "\u001b[1;31mAttributeError\u001b[0m: type object 'config' has no attribute 'spadam'"
     ]
    }
   ],
   "metadata": {}
  },
  {
   "cell_type": "code",
   "execution_count": 11,
   "source": [],
   "outputs": [
    {
     "output_type": "stream",
     "name": "stdout",
     "text": [
      "torch.Size([2, 2, 512, 1, 768]) torch.Size([2, 2, 768])\n"
     ]
    }
   ],
   "metadata": {}
  },
  {
   "cell_type": "code",
   "execution_count": null,
   "source": [],
   "outputs": [],
   "metadata": {}
  }
 ],
 "metadata": {
  "orig_nbformat": 4,
  "language_info": {
   "name": "python",
   "version": "3.8.8",
   "mimetype": "text/x-python",
   "codemirror_mode": {
    "name": "ipython",
    "version": 3
   },
   "pygments_lexer": "ipython3",
   "nbconvert_exporter": "python",
   "file_extension": ".py"
  },
  "kernelspec": {
   "name": "python3",
   "display_name": "Python 3.8.8 64-bit ('base': conda)"
  },
  "interpreter": {
   "hash": "01f651214b0df947376b22bdce96981aa6546e177d04daceb10ed93c0185908c"
  }
 },
 "nbformat": 4,
 "nbformat_minor": 2
}