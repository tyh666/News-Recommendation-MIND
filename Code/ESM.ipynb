{
 "cells": [
  {
   "cell_type": "code",
   "execution_count": 1,
   "source": [
    "import logging\n",
    "import math,random\n",
    "import time\n",
    "\n",
    "import torch\n",
    "import torch.nn as nn\n",
    "import torch.nn.functional as F\n",
    "\n",
    "from models.Attention import Attention\n",
    "from models.Embeddings.BERT import BERT_Embedding\n",
    "from models.Embeddings.GLOVE import GLOVE_Embedding\n",
    "from models.Encoders.CNN import CNN_Encoder\n",
    "from models.Encoders.RNN import RNN_User_Encoder\n",
    "from models.Interactors.CNN import CNN_Interactor\n",
    "from models.Interactors.FIM import FIM_Interactor\n",
    "from models.Interactors.KNRM import KNRM_Interactor\n",
    "from models.Interactors.BERT_Overlook import BERT_Interactor\n",
    "from models.Interactors.BERT_Onepass import BERT_Interactor\n",
    "\n",
    "from models.ESM import ESM\n",
    "\n",
    "from data.configs.demo import config\n",
    "from utils.utils import prepare\n",
    "from utils.Manager import Manager\n",
    "\n",
    "from models.Modules.DRM import DRM_Matching\n",
    "# from models.Modules.TFM import TFM"
   ],
   "outputs": [],
   "metadata": {}
  },
  {
   "cell_type": "code",
   "execution_count": 2,
   "source": [
    "config.his_size = 10\n",
    "config.embedding = 'bert'\n",
    "config.hidden_dim = 768\n",
    "config.device = 0\n",
    "config.learning_rate = 1e-6\n",
    "\n",
    "# config.path = \"C:/\"\n",
    "\n",
    "manager = Manager(config)\n",
    "\n",
    "vocab, loaders = prepare(manager)\n",
    "record = next(iter(loaders[0]))"
   ],
   "outputs": [
    {
     "output_type": "stream",
     "name": "stderr",
     "text": [
      "[2021-08-13 12:15:30,084] INFO (root) Hyper Parameters are scale:demo\n",
      "mode:tune\n",
      "epochs:8\n",
      "batch_size:10\n",
      "k:3\n",
      "threshold:0\n",
      "title_length:20\n",
      "abs_length:40\n",
      "signal_length:50\n",
      "npratio:4\n",
      "his_size:10\n",
      "dropout_p:0.2\n",
      "device:0\n",
      "lr:0.0001\n",
      "bert_lr:3e-05\n",
      "metrics:auc,mean_mrr,ndcg@5,ndcg@10\n",
      "embedding:bert\n",
      "embedding_dim:300\n",
      "hidden_dim:768\n",
      "rank:0\n",
      "world_size:0\n",
      "step:[0]\n",
      "seeds:42\n",
      "interval:10\n",
      "val_freq:2\n",
      "schedule:None\n",
      "path:../../../Data/\n",
      "tb:False\n",
      "bert:bert-base-uncased\n",
      "learning_rate:1e-06\n",
      "cdd_size:5\n",
      "[2021-08-13 12:15:30,085] INFO (root) preparing dataset...\n",
      "Traceback (most recent call last):\n",
      "  File \"/data/workspace/Peitian/nn/lib/python3.8/multiprocessing/queues.py\", line 245, in _feed\n",
      "    send_bytes(obj)\n",
      "  File \"/data/workspace/Peitian/nn/lib/python3.8/multiprocessing/connection.py\", line 200, in send_bytes\n",
      "    self._send_bytes(m[offset:offset + size])\n",
      "  File \"/data/workspace/Peitian/nn/lib/python3.8/multiprocessing/connection.py\", line 411, in _send_bytes\n",
      "    self._send(header + buf)\n",
      "  File \"/data/workspace/Peitian/nn/lib/python3.8/multiprocessing/connection.py\", line 368, in _send\n",
      "    n = write(self._handle, buf)\n",
      "BrokenPipeError: [Errno 32] Broken pipe\n"
     ]
    }
   ],
   "metadata": {}
  },
  {
   "cell_type": "code",
   "execution_count": 3,
   "source": [
    "embedding = BERT_Embedding(manager)\n",
    "encoderN = CNN_Encoder(manager)\n",
    "encoderU = RNN_User_Encoder(manager)\n",
    "docReducer = DRM_Matching(manager)\n",
    "# termFuser = TFM(manager.his_size, manager.k)\n",
    "# interactor = CNN_Interactor(manager)\n",
    "\n",
    "interactor = BERT_Interactor(manager)\n",
    "\n",
    "esm = ESM(manager, embedding, encoderN, encoderU, docReducer, None, interactor).to(manager.device)"
   ],
   "outputs": [
    {
     "output_type": "stream",
     "name": "stderr",
     "text": [
      "Some weights of the model checkpoint at bert-base-uncased were not used when initializing BertModel: ['cls.predictions.transform.LayerNorm.weight', 'cls.predictions.bias', 'cls.predictions.transform.dense.weight', 'cls.seq_relationship.bias', 'cls.predictions.transform.dense.bias', 'cls.predictions.decoder.weight', 'cls.seq_relationship.weight', 'cls.predictions.transform.LayerNorm.bias']\n",
      "- This IS expected if you are initializing BertModel from the checkpoint of a model trained on another task or with another architecture (e.g. initializing a BertForSequenceClassification model from a BertForPreTraining model).\n",
      "- This IS NOT expected if you are initializing BertModel from the checkpoint of a model that you expect to be exactly identical (initializing a BertForSequenceClassification model from a BertForSequenceClassification model).\n"
     ]
    },
    {
     "output_type": "stream",
     "name": "stdout",
     "text": [
      "torch.Size([1, 1, 255, 286])\n",
      "torch.Size([1, 1, 255, 286])\n",
      "torch.Size([1, 1, 255, 286])\n",
      "torch.Size([1, 1, 255, 286])\n",
      "torch.Size([1, 1, 255, 286])\n",
      "torch.Size([1, 1, 255, 286])\n",
      "torch.Size([1, 1, 255, 286])\n",
      "torch.Size([1, 1, 255, 286])\n",
      "torch.Size([1, 1, 255, 286])\n",
      "torch.Size([1, 1, 255, 286])\n",
      "torch.Size([1, 1, 255, 286])\n",
      "torch.Size([1, 1, 255, 286])\n"
     ]
    },
    {
     "output_type": "stream",
     "name": "stderr",
     "text": [
      "Some weights of the model checkpoint at bert-base-uncased were not used when initializing BertModel: ['cls.predictions.transform.LayerNorm.weight', 'cls.predictions.bias', 'cls.predictions.transform.dense.weight', 'cls.seq_relationship.bias', 'cls.predictions.transform.dense.bias', 'cls.predictions.decoder.weight', 'cls.seq_relationship.weight', 'cls.predictions.transform.LayerNorm.bias']\n",
      "- This IS expected if you are initializing BertModel from the checkpoint of a model trained on another task or with another architecture (e.g. initializing a BertForSequenceClassification model from a BertForPreTraining model).\n",
      "- This IS NOT expected if you are initializing BertModel from the checkpoint of a model that you expect to be exactly identical (initializing a BertForSequenceClassification model from a BertForSequenceClassification model).\n"
     ]
    }
   ],
   "metadata": {}
  },
  {
   "cell_type": "code",
   "execution_count": 55,
   "source": [
    "esm(record)"
   ],
   "outputs": [
    {
     "output_type": "stream",
     "name": "stdout",
     "text": [
      "torch.Size([10, 12, 255, 286]) torch.Size([10, 255, 768])\n",
      "torch.Size([10, 12, 255, 286]) torch.Size([10, 255, 768])\n",
      "torch.Size([10, 12, 255, 286]) torch.Size([10, 255, 768])\n",
      "torch.Size([10, 12, 255, 286]) torch.Size([10, 255, 768])\n",
      "torch.Size([10, 12, 255, 286]) torch.Size([10, 255, 768])\n",
      "torch.Size([10, 12, 255, 286]) torch.Size([10, 255, 768])\n",
      "torch.Size([10, 12, 255, 286]) torch.Size([10, 255, 768])\n",
      "torch.Size([10, 12, 255, 286]) torch.Size([10, 255, 768])\n",
      "torch.Size([10, 12, 255, 286]) torch.Size([10, 255, 768])\n",
      "torch.Size([10, 12, 255, 286]) torch.Size([10, 255, 768])\n",
      "torch.Size([10, 12, 255, 286]) torch.Size([10, 255, 768])\n",
      "torch.Size([10, 12, 255, 286]) torch.Size([10, 255, 768])\n"
     ]
    },
    {
     "output_type": "execute_result",
     "data": {
      "text/plain": [
       "tensor([[-1.5928, -1.6315, -1.6174, -1.6188, -1.5873],\n",
       "        [-1.5925, -1.6351, -1.6020, -1.6149, -1.6032],\n",
       "        [-1.6179, -1.6158, -1.6147, -1.5849, -1.6142],\n",
       "        [-1.6177, -1.6194, -1.6119, -1.6025, -1.5959],\n",
       "        [-1.6067, -1.6000, -1.6189, -1.6146, -1.6071],\n",
       "        [-1.5975, -1.6161, -1.6081, -1.6426, -1.5839],\n",
       "        [-1.6091, -1.6012, -1.6302, -1.6339, -1.5740],\n",
       "        [-1.5911, -1.6234, -1.5883, -1.6226, -1.6225],\n",
       "        [-1.6263, -1.6003, -1.6142, -1.5960, -1.6107],\n",
       "        [-1.6253, -1.6533, -1.5789, -1.6061, -1.5855]], device='cuda:0',\n",
       "       grad_fn=<LogSoftmaxBackward>)"
      ]
     },
     "metadata": {},
     "execution_count": 55
    }
   ],
   "metadata": {}
  },
  {
   "cell_type": "code",
   "execution_count": 4,
   "source": [
    "manager.tune(esm,loaders)"
   ],
   "outputs": [
    {
     "output_type": "stream",
     "name": "stderr",
     "text": [
      "[2021-08-13 12:17:05,269] INFO (utils.Manager) training...\n",
      "  0%|          | 0/29 [00:00<?, ?it/s]"
     ]
    },
    {
     "output_type": "stream",
     "name": "stdout",
     "text": [
      "torch.Size([10, 12, 255, 286]) torch.Size([10, 255, 768])\n",
      "torch.Size([10, 12, 255, 286]) torch.Size([10, 255, 768])\n",
      "torch.Size([10, 12, 255, 286]) torch.Size([10, 255, 768])\n",
      "torch.Size([10, 12, 255, 286]) torch.Size([10, 255, 768])\n",
      "torch.Size([10, 12, 255, 286]) torch.Size([10, 255, 768])\n",
      "torch.Size([10, 12, 255, 286]) torch.Size([10, 255, 768])\n",
      "torch.Size([10, 12, 255, 286]) torch.Size([10, 255, 768])\n",
      "torch.Size([10, 12, 255, 286]) torch.Size([10, 255, 768])\n",
      "torch.Size([10, 12, 255, 286]) torch.Size([10, 255, 768])\n",
      "torch.Size([10, 12, 255, 286]) torch.Size([10, 255, 768])\n",
      "torch.Size([10, 12, 255, 286]) torch.Size([10, 255, 768])\n",
      "torch.Size([10, 12, 255, 286]) torch.Size([10, 255, 768])\n"
     ]
    },
    {
     "output_type": "stream",
     "name": "stderr",
     "text": [
      "epoch 1 , step 0 , loss: inf:   3%|▎         | 1/29 [00:00<00:18,  1.54it/s]"
     ]
    },
    {
     "output_type": "stream",
     "name": "stdout",
     "text": [
      "torch.Size([10, 12, 255, 286]) torch.Size([10, 255, 768])\n",
      "torch.Size([10, 12, 255, 286]) torch.Size([10, 255, 768])\n",
      "torch.Size([10, 12, 255, 286]) torch.Size([10, 255, 768])\n",
      "torch.Size([10, 12, 255, 286]) torch.Size([10, 255, 768])\n",
      "torch.Size([10, 12, 255, 286]) torch.Size([10, 255, 768])\n",
      "torch.Size([10, 12, 255, 286]) torch.Size([10, 255, 768])\n",
      "torch.Size([10, 12, 255, 286]) torch.Size([10, 255, 768])\n",
      "torch.Size([10, 12, 255, 286]) torch.Size([10, 255, 768])\n",
      "torch.Size([10, 12, 255, 286]) torch.Size([10, 255, 768])\n",
      "torch.Size([10, 12, 255, 286]) torch.Size([10, 255, 768])\n",
      "torch.Size([10, 12, 255, 286]) torch.Size([10, 255, 768])\n",
      "torch.Size([10, 12, 255, 286]) torch.Size([10, 255, 768])\n"
     ]
    },
    {
     "output_type": "stream",
     "name": "stderr",
     "text": [
      "epoch 1 , step 0 , loss: inf:   7%|▋         | 2/29 [00:00<00:12,  2.24it/s]"
     ]
    },
    {
     "output_type": "stream",
     "name": "stdout",
     "text": [
      "torch.Size([10, 12, 255, 286]) torch.Size([10, 255, 768])\n",
      "torch.Size([10, 12, 255, 286]) torch.Size([10, 255, 768])\n",
      "torch.Size([10, 12, 255, 286]) torch.Size([10, 255, 768])\n",
      "torch.Size([10, 12, 255, 286]) torch.Size([10, 255, 768])\n",
      "torch.Size([10, 12, 255, 286]) torch.Size([10, 255, 768])\n",
      "torch.Size([10, 12, 255, 286]) torch.Size([10, 255, 768])\n",
      "torch.Size([10, 12, 255, 286]) torch.Size([10, 255, 768])\n",
      "torch.Size([10, 12, 255, 286]) torch.Size([10, 255, 768])\n",
      "torch.Size([10, 12, 255, 286]) torch.Size([10, 255, 768])\n",
      "torch.Size([10, 12, 255, 286]) torch.Size([10, 255, 768])\n",
      "torch.Size([10, 12, 255, 286]) torch.Size([10, 255, 768])\n",
      "torch.Size([10, 12, 255, 286]) torch.Size([10, 255, 768])\n"
     ]
    },
    {
     "output_type": "stream",
     "name": "stderr",
     "text": [
      "epoch 1 , step 0 , loss: inf:  10%|█         | 3/29 [00:01<00:09,  2.66it/s]"
     ]
    },
    {
     "output_type": "stream",
     "name": "stdout",
     "text": [
      "torch.Size([10, 12, 255, 286]) torch.Size([10, 255, 768])\n",
      "torch.Size([10, 12, 255, 286]) torch.Size([10, 255, 768])\n",
      "torch.Size([10, 12, 255, 286]) torch.Size([10, 255, 768])\n",
      "torch.Size([10, 12, 255, 286]) torch.Size([10, 255, 768])\n",
      "torch.Size([10, 12, 255, 286]) torch.Size([10, 255, 768])\n",
      "torch.Size([10, 12, 255, 286]) torch.Size([10, 255, 768])\n",
      "torch.Size([10, 12, 255, 286]) torch.Size([10, 255, 768])\n",
      "torch.Size([10, 12, 255, 286]) torch.Size([10, 255, 768])\n",
      "torch.Size([10, 12, 255, 286]) torch.Size([10, 255, 768])\n",
      "torch.Size([10, 12, 255, 286]) torch.Size([10, 255, 768])\n",
      "torch.Size([10, 12, 255, 286]) torch.Size([10, 255, 768])\n",
      "torch.Size([10, 12, 255, 286]) torch.Size([10, 255, 768])\n"
     ]
    },
    {
     "output_type": "stream",
     "name": "stderr",
     "text": [
      "epoch 1 , step 0 , loss: inf:  14%|█▍        | 4/29 [00:01<00:08,  2.93it/s]"
     ]
    },
    {
     "output_type": "stream",
     "name": "stdout",
     "text": [
      "torch.Size([10, 12, 255, 286]) torch.Size([10, 255, 768])\n",
      "torch.Size([10, 12, 255, 286]) torch.Size([10, 255, 768])\n",
      "torch.Size([10, 12, 255, 286]) torch.Size([10, 255, 768])\n",
      "torch.Size([10, 12, 255, 286]) torch.Size([10, 255, 768])\n",
      "torch.Size([10, 12, 255, 286]) torch.Size([10, 255, 768])\n",
      "torch.Size([10, 12, 255, 286]) torch.Size([10, 255, 768])\n",
      "torch.Size([10, 12, 255, 286]) torch.Size([10, 255, 768])\n",
      "torch.Size([10, 12, 255, 286]) torch.Size([10, 255, 768])\n",
      "torch.Size([10, 12, 255, 286]) torch.Size([10, 255, 768])\n",
      "torch.Size([10, 12, 255, 286]) torch.Size([10, 255, 768])\n",
      "torch.Size([10, 12, 255, 286]) torch.Size([10, 255, 768])\n",
      "torch.Size([10, 12, 255, 286]) torch.Size([10, 255, 768])\n"
     ]
    },
    {
     "output_type": "stream",
     "name": "stderr",
     "text": [
      "epoch 1 , step 0 , loss: inf:  17%|█▋        | 5/29 [00:01<00:07,  3.14it/s]"
     ]
    },
    {
     "output_type": "stream",
     "name": "stdout",
     "text": [
      "torch.Size([10, 12, 255, 286]) torch.Size([10, 255, 768])\n",
      "torch.Size([10, 12, 255, 286]) torch.Size([10, 255, 768])\n",
      "torch.Size([10, 12, 255, 286]) torch.Size([10, 255, 768])\n",
      "torch.Size([10, 12, 255, 286]) torch.Size([10, 255, 768])\n",
      "torch.Size([10, 12, 255, 286]) torch.Size([10, 255, 768])\n",
      "torch.Size([10, 12, 255, 286]) torch.Size([10, 255, 768])\n",
      "torch.Size([10, 12, 255, 286]) torch.Size([10, 255, 768])\n",
      "torch.Size([10, 12, 255, 286]) torch.Size([10, 255, 768])\n",
      "torch.Size([10, 12, 255, 286]) torch.Size([10, 255, 768])\n",
      "torch.Size([10, 12, 255, 286]) torch.Size([10, 255, 768])\n",
      "torch.Size([10, 12, 255, 286]) torch.Size([10, 255, 768])\n",
      "torch.Size([10, 12, 255, 286]) torch.Size([10, 255, 768])\n"
     ]
    },
    {
     "output_type": "stream",
     "name": "stderr",
     "text": [
      "epoch 1 , step 0 , loss: inf:  21%|██        | 6/29 [00:01<00:06,  3.30it/s]"
     ]
    },
    {
     "output_type": "stream",
     "name": "stdout",
     "text": [
      "torch.Size([10, 12, 255, 286]) torch.Size([10, 255, 768])\n",
      "torch.Size([10, 12, 255, 286]) torch.Size([10, 255, 768])\n",
      "torch.Size([10, 12, 255, 286]) torch.Size([10, 255, 768])\n",
      "torch.Size([10, 12, 255, 286]) torch.Size([10, 255, 768])\n",
      "torch.Size([10, 12, 255, 286]) torch.Size([10, 255, 768])\n",
      "torch.Size([10, 12, 255, 286]) torch.Size([10, 255, 768])\n",
      "torch.Size([10, 12, 255, 286]) torch.Size([10, 255, 768])\n",
      "torch.Size([10, 12, 255, 286]) torch.Size([10, 255, 768])\n",
      "torch.Size([10, 12, 255, 286]) torch.Size([10, 255, 768])\n",
      "torch.Size([10, 12, 255, 286]) torch.Size([10, 255, 768])\n",
      "torch.Size([10, 12, 255, 286]) torch.Size([10, 255, 768])\n",
      "torch.Size([10, 12, 255, 286]) torch.Size([10, 255, 768])\n"
     ]
    },
    {
     "output_type": "stream",
     "name": "stderr",
     "text": [
      "epoch 1 , step 0 , loss: inf:  24%|██▍       | 7/29 [00:02<00:06,  3.41it/s]"
     ]
    },
    {
     "output_type": "stream",
     "name": "stdout",
     "text": [
      "torch.Size([10, 12, 255, 286]) torch.Size([10, 255, 768])\n",
      "torch.Size([10, 12, 255, 286]) torch.Size([10, 255, 768])\n",
      "torch.Size([10, 12, 255, 286]) torch.Size([10, 255, 768])\n",
      "torch.Size([10, 12, 255, 286]) torch.Size([10, 255, 768])\n",
      "torch.Size([10, 12, 255, 286]) torch.Size([10, 255, 768])\n",
      "torch.Size([10, 12, 255, 286]) torch.Size([10, 255, 768])\n",
      "torch.Size([10, 12, 255, 286]) torch.Size([10, 255, 768])\n",
      "torch.Size([10, 12, 255, 286]) torch.Size([10, 255, 768])\n",
      "torch.Size([10, 12, 255, 286]) torch.Size([10, 255, 768])\n",
      "torch.Size([10, 12, 255, 286]) torch.Size([10, 255, 768])\n",
      "torch.Size([10, 12, 255, 286]) torch.Size([10, 255, 768])\n",
      "torch.Size([10, 12, 255, 286]) torch.Size([10, 255, 768])\n"
     ]
    },
    {
     "output_type": "stream",
     "name": "stderr",
     "text": [
      "epoch 1 , step 0 , loss: inf:  28%|██▊       | 8/29 [00:02<00:06,  3.50it/s]"
     ]
    },
    {
     "output_type": "stream",
     "name": "stdout",
     "text": [
      "torch.Size([10, 12, 255, 286]) torch.Size([10, 255, 768])\n",
      "torch.Size([10, 12, 255, 286]) torch.Size([10, 255, 768])\n",
      "torch.Size([10, 12, 255, 286]) torch.Size([10, 255, 768])\n",
      "torch.Size([10, 12, 255, 286]) torch.Size([10, 255, 768])\n",
      "torch.Size([10, 12, 255, 286]) torch.Size([10, 255, 768])\n",
      "torch.Size([10, 12, 255, 286]) torch.Size([10, 255, 768])\n",
      "torch.Size([10, 12, 255, 286]) torch.Size([10, 255, 768])\n",
      "torch.Size([10, 12, 255, 286]) torch.Size([10, 255, 768])\n",
      "torch.Size([10, 12, 255, 286]) torch.Size([10, 255, 768])\n",
      "torch.Size([10, 12, 255, 286]) torch.Size([10, 255, 768])\n",
      "torch.Size([10, 12, 255, 286]) torch.Size([10, 255, 768])\n",
      "torch.Size([10, 12, 255, 286]) torch.Size([10, 255, 768])\n"
     ]
    },
    {
     "output_type": "stream",
     "name": "stderr",
     "text": [
      "epoch 1 , step 0 , loss: inf:  31%|███       | 9/29 [00:02<00:05,  3.58it/s]"
     ]
    },
    {
     "output_type": "stream",
     "name": "stdout",
     "text": [
      "torch.Size([10, 12, 255, 286]) torch.Size([10, 255, 768])\n",
      "torch.Size([10, 12, 255, 286]) torch.Size([10, 255, 768])\n",
      "torch.Size([10, 12, 255, 286]) torch.Size([10, 255, 768])\n",
      "torch.Size([10, 12, 255, 286]) torch.Size([10, 255, 768])\n",
      "torch.Size([10, 12, 255, 286]) torch.Size([10, 255, 768])\n",
      "torch.Size([10, 12, 255, 286]) torch.Size([10, 255, 768])\n",
      "torch.Size([10, 12, 255, 286]) torch.Size([10, 255, 768])\n",
      "torch.Size([10, 12, 255, 286]) torch.Size([10, 255, 768])\n",
      "torch.Size([10, 12, 255, 286]) torch.Size([10, 255, 768])\n",
      "torch.Size([10, 12, 255, 286]) torch.Size([10, 255, 768])\n",
      "torch.Size([10, 12, 255, 286]) torch.Size([10, 255, 768])\n",
      "torch.Size([10, 12, 255, 286]) torch.Size([10, 255, 768])\n"
     ]
    },
    {
     "output_type": "stream",
     "name": "stderr",
     "text": [
      "epoch 1 , step 0 , loss: inf:  34%|███▍      | 10/29 [00:02<00:05,  3.64it/s]"
     ]
    },
    {
     "output_type": "stream",
     "name": "stdout",
     "text": [
      "torch.Size([10, 12, 255, 286]) torch.Size([10, 255, 768])\n",
      "torch.Size([10, 12, 255, 286]) torch.Size([10, 255, 768])\n",
      "torch.Size([10, 12, 255, 286]) torch.Size([10, 255, 768])\n",
      "torch.Size([10, 12, 255, 286]) torch.Size([10, 255, 768])\n",
      "torch.Size([10, 12, 255, 286]) torch.Size([10, 255, 768])\n",
      "torch.Size([10, 12, 255, 286]) torch.Size([10, 255, 768])\n",
      "torch.Size([10, 12, 255, 286]) torch.Size([10, 255, 768])\n",
      "torch.Size([10, 12, 255, 286]) torch.Size([10, 255, 768])\n",
      "torch.Size([10, 12, 255, 286]) torch.Size([10, 255, 768])\n",
      "torch.Size([10, 12, 255, 286]) torch.Size([10, 255, 768])\n",
      "torch.Size([10, 12, 255, 286]) torch.Size([10, 255, 768])\n",
      "torch.Size([10, 12, 255, 286]) torch.Size([10, 255, 768])\n"
     ]
    },
    {
     "output_type": "stream",
     "name": "stderr",
     "text": [
      "epoch 1 , step 10 , loss: 1.7657:  38%|███▊      | 11/29 [00:02<00:04,  3.69it/s]"
     ]
    },
    {
     "output_type": "stream",
     "name": "stdout",
     "text": [
      "torch.Size([10, 12, 255, 286]) torch.Size([10, 255, 768])\n",
      "torch.Size([10, 12, 255, 286]) torch.Size([10, 255, 768])\n",
      "torch.Size([10, 12, 255, 286]) torch.Size([10, 255, 768])\n",
      "torch.Size([10, 12, 255, 286]) torch.Size([10, 255, 768])\n",
      "torch.Size([10, 12, 255, 286]) torch.Size([10, 255, 768])\n",
      "torch.Size([10, 12, 255, 286]) torch.Size([10, 255, 768])\n",
      "torch.Size([10, 12, 255, 286]) torch.Size([10, 255, 768])\n",
      "torch.Size([10, 12, 255, 286]) torch.Size([10, 255, 768])\n",
      "torch.Size([10, 12, 255, 286]) torch.Size([10, 255, 768])\n",
      "torch.Size([10, 12, 255, 286]) torch.Size([10, 255, 768])\n",
      "torch.Size([10, 12, 255, 286]) torch.Size([10, 255, 768])\n",
      "torch.Size([10, 12, 255, 286]) torch.Size([10, 255, 768])\n"
     ]
    },
    {
     "output_type": "stream",
     "name": "stderr",
     "text": [
      "epoch 1 , step 10 , loss: 1.7657:  41%|████▏     | 12/29 [00:03<00:04,  3.74it/s]"
     ]
    },
    {
     "output_type": "stream",
     "name": "stdout",
     "text": [
      "torch.Size([10, 12, 255, 286]) torch.Size([10, 255, 768])\n",
      "torch.Size([10, 12, 255, 286]) torch.Size([10, 255, 768])\n",
      "torch.Size([10, 12, 255, 286]) torch.Size([10, 255, 768])\n",
      "torch.Size([10, 12, 255, 286]) torch.Size([10, 255, 768])\n",
      "torch.Size([10, 12, 255, 286]) torch.Size([10, 255, 768])\n",
      "torch.Size([10, 12, 255, 286]) torch.Size([10, 255, 768])\n",
      "torch.Size([10, 12, 255, 286]) torch.Size([10, 255, 768])\n",
      "torch.Size([10, 12, 255, 286]) torch.Size([10, 255, 768])\n",
      "torch.Size([10, 12, 255, 286]) torch.Size([10, 255, 768])\n",
      "torch.Size([10, 12, 255, 286]) torch.Size([10, 255, 768])\n",
      "torch.Size([10, 12, 255, 286]) torch.Size([10, 255, 768])\n",
      "torch.Size([10, 12, 255, 286]) torch.Size([10, 255, 768])\n"
     ]
    },
    {
     "output_type": "stream",
     "name": "stderr",
     "text": [
      "epoch 1 , step 10 , loss: 1.7657:  45%|████▍     | 13/29 [00:03<00:04,  3.78it/s]"
     ]
    },
    {
     "output_type": "stream",
     "name": "stdout",
     "text": [
      "torch.Size([10, 12, 255, 286]) torch.Size([10, 255, 768])\n",
      "torch.Size([10, 12, 255, 286]) torch.Size([10, 255, 768])\n",
      "torch.Size([10, 12, 255, 286]) torch.Size([10, 255, 768])\n",
      "torch.Size([10, 12, 255, 286]) torch.Size([10, 255, 768])\n",
      "torch.Size([10, 12, 255, 286]) torch.Size([10, 255, 768])\n",
      "torch.Size([10, 12, 255, 286]) torch.Size([10, 255, 768])\n",
      "torch.Size([10, 12, 255, 286]) torch.Size([10, 255, 768])\n",
      "torch.Size([10, 12, 255, 286]) torch.Size([10, 255, 768])\n",
      "torch.Size([10, 12, 255, 286]) torch.Size([10, 255, 768])\n",
      "torch.Size([10, 12, 255, 286]) torch.Size([10, 255, 768])\n",
      "torch.Size([10, 12, 255, 286]) torch.Size([10, 255, 768])\n",
      "torch.Size([10, 12, 255, 286]) torch.Size([10, 255, 768])\n"
     ]
    },
    {
     "output_type": "stream",
     "name": "stderr",
     "text": [
      "[2021-08-13 12:17:08,958] INFO (utils.Manager) evaluating...\n"
     ]
    },
    {
     "output_type": "stream",
     "name": "stdout",
     "text": [
      "\n",
      "\n"
     ]
    },
    {
     "output_type": "stream",
     "name": "stderr",
     "text": [
      "  0%|          | 0/313 [00:00<?, ?it/s]\n",
      "epoch 1 , step 10 , loss: 1.7657:  45%|████▍     | 13/29 [00:04<00:05,  3.00it/s]\n"
     ]
    },
    {
     "output_type": "error",
     "ename": "RuntimeError",
     "evalue": "Sizes of tensors must match except in dimension 1. Got 1 and 5 (The offending index is 0)",
     "traceback": [
      "\u001b[0;31m---------------------------------------------------------------------------\u001b[0m",
      "\u001b[0;31mRuntimeError\u001b[0m                              Traceback (most recent call last)",
      "\u001b[0;32m/tmp/ipykernel_231807/584770030.py\u001b[0m in \u001b[0;36m<module>\u001b[0;34m\u001b[0m\n\u001b[0;32m----> 1\u001b[0;31m \u001b[0mmanager\u001b[0m\u001b[0;34m.\u001b[0m\u001b[0mtune\u001b[0m\u001b[0;34m(\u001b[0m\u001b[0mesm\u001b[0m\u001b[0;34m,\u001b[0m\u001b[0mloaders\u001b[0m\u001b[0;34m)\u001b[0m\u001b[0;34m\u001b[0m\u001b[0;34m\u001b[0m\u001b[0m\n\u001b[0m",
      "\u001b[0;32m/data/workspace/Peitian/Code/Document-Reduction/Code/utils/Manager.py\u001b[0m in \u001b[0;36mtune\u001b[0;34m(self, model, loaders)\u001b[0m\n\u001b[1;32m    507\u001b[0m         \u001b[0moptimizers\u001b[0m\u001b[0;34m,\u001b[0m \u001b[0mschedulers\u001b[0m \u001b[0;34m=\u001b[0m \u001b[0mself\u001b[0m\u001b[0;34m.\u001b[0m\u001b[0m_get_optim\u001b[0m\u001b[0;34m(\u001b[0m\u001b[0mmodel\u001b[0m\u001b[0;34m,\u001b[0m \u001b[0mloaders\u001b[0m\u001b[0;34m[\u001b[0m\u001b[0;36m0\u001b[0m\u001b[0;34m]\u001b[0m\u001b[0;34m)\u001b[0m\u001b[0;34m\u001b[0m\u001b[0;34m\u001b[0m\u001b[0m\n\u001b[1;32m    508\u001b[0m \u001b[0;34m\u001b[0m\u001b[0m\n\u001b[0;32m--> 509\u001b[0;31m         res = self._tune(model, loaders, optimizers, loss_func, schedulers=schedulers,\n\u001b[0m\u001b[1;32m    510\u001b[0m                         writer=writer, interval=self.interval, save_step=int(len(loaders[0])/self.val_freq)-1, dist=(self.world_size > 1))\n\u001b[1;32m    511\u001b[0m \u001b[0;34m\u001b[0m\u001b[0m\n",
      "\u001b[0;32m/data/workspace/Peitian/Code/Document-Reduction/Code/utils/Manager.py\u001b[0m in \u001b[0;36m_tune\u001b[0;34m(self, model, loaders, optimizers, loss_func, schedulers, writer, interval, save_step, dist)\u001b[0m\n\u001b[1;32m    458\u001b[0m                     \u001b[0mprint\u001b[0m\u001b[0;34m(\u001b[0m\u001b[0;34m\"\\n\"\u001b[0m\u001b[0;34m)\u001b[0m\u001b[0;34m\u001b[0m\u001b[0;34m\u001b[0m\u001b[0m\n\u001b[1;32m    459\u001b[0m                     \u001b[0;32mwith\u001b[0m \u001b[0mtorch\u001b[0m\u001b[0;34m.\u001b[0m\u001b[0mno_grad\u001b[0m\u001b[0;34m(\u001b[0m\u001b[0;34m)\u001b[0m\u001b[0;34m:\u001b[0m\u001b[0;34m\u001b[0m\u001b[0;34m\u001b[0m\u001b[0m\n\u001b[0;32m--> 460\u001b[0;31m                         \u001b[0mresult\u001b[0m \u001b[0;34m=\u001b[0m \u001b[0mself\u001b[0m\u001b[0;34m.\u001b[0m\u001b[0mevaluate\u001b[0m\u001b[0;34m(\u001b[0m\u001b[0mmodel\u001b[0m\u001b[0;34m,\u001b[0m \u001b[0mloaders\u001b[0m\u001b[0;34m[\u001b[0m\u001b[0;36m1\u001b[0m\u001b[0;34m]\u001b[0m\u001b[0;34m,\u001b[0m \u001b[0mlog\u001b[0m\u001b[0;34m=\u001b[0m\u001b[0;32mFalse\u001b[0m\u001b[0;34m,\u001b[0m \u001b[0mdist\u001b[0m\u001b[0;34m=\u001b[0m\u001b[0mdist\u001b[0m\u001b[0;34m)\u001b[0m\u001b[0;34m\u001b[0m\u001b[0;34m\u001b[0m\u001b[0m\n\u001b[0m\u001b[1;32m    461\u001b[0m                         \u001b[0mresult\u001b[0m\u001b[0;34m[\u001b[0m\u001b[0;34m\"epoch\"\u001b[0m\u001b[0;34m]\u001b[0m \u001b[0;34m=\u001b[0m \u001b[0mepoch\u001b[0m\u001b[0;34m+\u001b[0m\u001b[0;36m1\u001b[0m\u001b[0;34m\u001b[0m\u001b[0;34m\u001b[0m\u001b[0m\n\u001b[1;32m    462\u001b[0m                         \u001b[0mresult\u001b[0m\u001b[0;34m[\u001b[0m\u001b[0;34m\"step\"\u001b[0m\u001b[0;34m]\u001b[0m \u001b[0;34m=\u001b[0m \u001b[0mstep\u001b[0m\u001b[0;34m\u001b[0m\u001b[0;34m\u001b[0m\u001b[0m\n",
      "\u001b[0;32m/data/workspace/Peitian/Code/Document-Reduction/Code/utils/Manager.py\u001b[0m in \u001b[0;36mevaluate\u001b[0;34m(self, model, dataloader, load, log, dist)\u001b[0m\n\u001b[1;32m    284\u001b[0m         \u001b[0mlogger\u001b[0m\u001b[0;34m.\u001b[0m\u001b[0minfo\u001b[0m\u001b[0;34m(\u001b[0m\u001b[0;34m\"evaluating...\"\u001b[0m\u001b[0;34m)\u001b[0m\u001b[0;34m\u001b[0m\u001b[0;34m\u001b[0m\u001b[0m\n\u001b[1;32m    285\u001b[0m \u001b[0;34m\u001b[0m\u001b[0m\n\u001b[0;32m--> 286\u001b[0;31m         \u001b[0mimp_indexes\u001b[0m\u001b[0;34m,\u001b[0m \u001b[0mlabels\u001b[0m\u001b[0;34m,\u001b[0m \u001b[0mpreds\u001b[0m \u001b[0;34m=\u001b[0m \u001b[0mself\u001b[0m\u001b[0;34m.\u001b[0m\u001b[0m_eval\u001b[0m\u001b[0;34m(\u001b[0m\u001b[0mmodel\u001b[0m\u001b[0;34m,\u001b[0m \u001b[0mdataloader\u001b[0m\u001b[0;34m)\u001b[0m\u001b[0;34m\u001b[0m\u001b[0;34m\u001b[0m\u001b[0m\n\u001b[0m\u001b[1;32m    287\u001b[0m \u001b[0;34m\u001b[0m\u001b[0m\n\u001b[1;32m    288\u001b[0m         \u001b[0mres\u001b[0m \u001b[0;34m=\u001b[0m \u001b[0mcal_metric\u001b[0m\u001b[0;34m(\u001b[0m\u001b[0mlabels\u001b[0m\u001b[0;34m,\u001b[0m \u001b[0mpreds\u001b[0m\u001b[0;34m,\u001b[0m \u001b[0mself\u001b[0m\u001b[0;34m.\u001b[0m\u001b[0mmetrics\u001b[0m\u001b[0;34m.\u001b[0m\u001b[0msplit\u001b[0m\u001b[0;34m(\u001b[0m\u001b[0;34m\",\"\u001b[0m\u001b[0;34m)\u001b[0m\u001b[0;34m)\u001b[0m\u001b[0;34m\u001b[0m\u001b[0;34m\u001b[0m\u001b[0m\n",
      "\u001b[0;32m/data/workspace/Peitian/nn/lib/python3.8/site-packages/torch/autograd/grad_mode.py\u001b[0m in \u001b[0;36mdecorate_context\u001b[0;34m(*args, **kwargs)\u001b[0m\n\u001b[1;32m     24\u001b[0m         \u001b[0;32mdef\u001b[0m \u001b[0mdecorate_context\u001b[0m\u001b[0;34m(\u001b[0m\u001b[0;34m*\u001b[0m\u001b[0margs\u001b[0m\u001b[0;34m,\u001b[0m \u001b[0;34m**\u001b[0m\u001b[0mkwargs\u001b[0m\u001b[0;34m)\u001b[0m\u001b[0;34m:\u001b[0m\u001b[0;34m\u001b[0m\u001b[0;34m\u001b[0m\u001b[0m\n\u001b[1;32m     25\u001b[0m             \u001b[0;32mwith\u001b[0m \u001b[0mself\u001b[0m\u001b[0;34m.\u001b[0m\u001b[0m__class__\u001b[0m\u001b[0;34m(\u001b[0m\u001b[0;34m)\u001b[0m\u001b[0;34m:\u001b[0m\u001b[0;34m\u001b[0m\u001b[0;34m\u001b[0m\u001b[0m\n\u001b[0;32m---> 26\u001b[0;31m                 \u001b[0;32mreturn\u001b[0m \u001b[0mfunc\u001b[0m\u001b[0;34m(\u001b[0m\u001b[0;34m*\u001b[0m\u001b[0margs\u001b[0m\u001b[0;34m,\u001b[0m \u001b[0;34m**\u001b[0m\u001b[0mkwargs\u001b[0m\u001b[0;34m)\u001b[0m\u001b[0;34m\u001b[0m\u001b[0;34m\u001b[0m\u001b[0m\n\u001b[0m\u001b[1;32m     27\u001b[0m         \u001b[0;32mreturn\u001b[0m \u001b[0mcast\u001b[0m\u001b[0;34m(\u001b[0m\u001b[0mF\u001b[0m\u001b[0;34m,\u001b[0m \u001b[0mdecorate_context\u001b[0m\u001b[0;34m)\u001b[0m\u001b[0;34m\u001b[0m\u001b[0;34m\u001b[0m\u001b[0m\n\u001b[1;32m     28\u001b[0m \u001b[0;34m\u001b[0m\u001b[0m\n",
      "\u001b[0;32m/data/workspace/Peitian/Code/Document-Reduction/Code/utils/Manager.py\u001b[0m in \u001b[0;36m_eval\u001b[0;34m(self, model, dataloader, smoothing)\u001b[0m\n\u001b[1;32m    235\u001b[0m \u001b[0;34m\u001b[0m\u001b[0m\n\u001b[1;32m    236\u001b[0m         \u001b[0;32mfor\u001b[0m \u001b[0mbatch_data_input\u001b[0m \u001b[0;32min\u001b[0m \u001b[0mtqdm\u001b[0m\u001b[0;34m(\u001b[0m\u001b[0mdataloader\u001b[0m\u001b[0;34m,\u001b[0m \u001b[0msmoothing\u001b[0m\u001b[0;34m=\u001b[0m\u001b[0msmoothing\u001b[0m\u001b[0;34m)\u001b[0m\u001b[0;34m:\u001b[0m\u001b[0;34m\u001b[0m\u001b[0;34m\u001b[0m\u001b[0m\n\u001b[0;32m--> 237\u001b[0;31m             \u001b[0mpred\u001b[0m \u001b[0;34m=\u001b[0m \u001b[0mmodel\u001b[0m\u001b[0;34m(\u001b[0m\u001b[0mbatch_data_input\u001b[0m\u001b[0;34m)\u001b[0m\u001b[0;34m.\u001b[0m\u001b[0msqueeze\u001b[0m\u001b[0;34m(\u001b[0m\u001b[0mdim\u001b[0m\u001b[0;34m=\u001b[0m\u001b[0;34m-\u001b[0m\u001b[0;36m1\u001b[0m\u001b[0;34m)\u001b[0m\u001b[0;34m.\u001b[0m\u001b[0mtolist\u001b[0m\u001b[0;34m(\u001b[0m\u001b[0;34m)\u001b[0m\u001b[0;34m\u001b[0m\u001b[0;34m\u001b[0m\u001b[0m\n\u001b[0m\u001b[1;32m    238\u001b[0m             \u001b[0mpreds\u001b[0m\u001b[0;34m.\u001b[0m\u001b[0mextend\u001b[0m\u001b[0;34m(\u001b[0m\u001b[0mpred\u001b[0m\u001b[0;34m)\u001b[0m\u001b[0;34m\u001b[0m\u001b[0;34m\u001b[0m\u001b[0m\n\u001b[1;32m    239\u001b[0m             \u001b[0mlabel\u001b[0m \u001b[0;34m=\u001b[0m \u001b[0mbatch_data_input\u001b[0m\u001b[0;34m[\u001b[0m\u001b[0;34m\"labels\"\u001b[0m\u001b[0;34m]\u001b[0m\u001b[0;34m.\u001b[0m\u001b[0msqueeze\u001b[0m\u001b[0;34m(\u001b[0m\u001b[0mdim\u001b[0m\u001b[0;34m=\u001b[0m\u001b[0;34m-\u001b[0m\u001b[0;36m1\u001b[0m\u001b[0;34m)\u001b[0m\u001b[0;34m.\u001b[0m\u001b[0mtolist\u001b[0m\u001b[0;34m(\u001b[0m\u001b[0;34m)\u001b[0m\u001b[0;34m\u001b[0m\u001b[0;34m\u001b[0m\u001b[0m\n",
      "\u001b[0;32m/data/workspace/Peitian/nn/lib/python3.8/site-packages/torch/nn/modules/module.py\u001b[0m in \u001b[0;36m_call_impl\u001b[0;34m(self, *input, **kwargs)\u001b[0m\n\u001b[1;32m    725\u001b[0m             \u001b[0mresult\u001b[0m \u001b[0;34m=\u001b[0m \u001b[0mself\u001b[0m\u001b[0;34m.\u001b[0m\u001b[0m_slow_forward\u001b[0m\u001b[0;34m(\u001b[0m\u001b[0;34m*\u001b[0m\u001b[0minput\u001b[0m\u001b[0;34m,\u001b[0m \u001b[0;34m**\u001b[0m\u001b[0mkwargs\u001b[0m\u001b[0;34m)\u001b[0m\u001b[0;34m\u001b[0m\u001b[0;34m\u001b[0m\u001b[0m\n\u001b[1;32m    726\u001b[0m         \u001b[0;32melse\u001b[0m\u001b[0;34m:\u001b[0m\u001b[0;34m\u001b[0m\u001b[0;34m\u001b[0m\u001b[0m\n\u001b[0;32m--> 727\u001b[0;31m             \u001b[0mresult\u001b[0m \u001b[0;34m=\u001b[0m \u001b[0mself\u001b[0m\u001b[0;34m.\u001b[0m\u001b[0mforward\u001b[0m\u001b[0;34m(\u001b[0m\u001b[0;34m*\u001b[0m\u001b[0minput\u001b[0m\u001b[0;34m,\u001b[0m \u001b[0;34m**\u001b[0m\u001b[0mkwargs\u001b[0m\u001b[0;34m)\u001b[0m\u001b[0;34m\u001b[0m\u001b[0;34m\u001b[0m\u001b[0m\n\u001b[0m\u001b[1;32m    728\u001b[0m         for hook in itertools.chain(\n\u001b[1;32m    729\u001b[0m                 \u001b[0m_global_forward_hooks\u001b[0m\u001b[0;34m.\u001b[0m\u001b[0mvalues\u001b[0m\u001b[0;34m(\u001b[0m\u001b[0;34m)\u001b[0m\u001b[0;34m,\u001b[0m\u001b[0;34m\u001b[0m\u001b[0;34m\u001b[0m\u001b[0m\n",
      "\u001b[0;32m/data/workspace/Peitian/Code/Document-Reduction/Code/models/ESM.py\u001b[0m in \u001b[0;36mforward\u001b[0;34m(self, x)\u001b[0m\n\u001b[1;32m     75\u001b[0m         \u001b[0mDecoupled\u001b[0m \u001b[0mfunction\u001b[0m\u001b[0;34m,\u001b[0m \u001b[0mscore\u001b[0m \u001b[0;32mis\u001b[0m \u001b[0munormalized\u001b[0m \u001b[0mclick\u001b[0m \u001b[0mscore\u001b[0m\u001b[0;34m\u001b[0m\u001b[0;34m\u001b[0m\u001b[0m\n\u001b[1;32m     76\u001b[0m         \"\"\"\n\u001b[0;32m---> 77\u001b[0;31m         \u001b[0mscore\u001b[0m \u001b[0;34m=\u001b[0m \u001b[0mself\u001b[0m\u001b[0;34m.\u001b[0m\u001b[0m_forward\u001b[0m\u001b[0;34m(\u001b[0m\u001b[0mx\u001b[0m\u001b[0;34m)\u001b[0m\u001b[0;34m\u001b[0m\u001b[0;34m\u001b[0m\u001b[0m\n\u001b[0m\u001b[1;32m     78\u001b[0m \u001b[0;34m\u001b[0m\u001b[0m\n\u001b[1;32m     79\u001b[0m         \u001b[0;32mif\u001b[0m \u001b[0mself\u001b[0m\u001b[0;34m.\u001b[0m\u001b[0mtraining\u001b[0m\u001b[0;34m:\u001b[0m\u001b[0;34m\u001b[0m\u001b[0;34m\u001b[0m\u001b[0m\n",
      "\u001b[0;32m/data/workspace/Peitian/Code/Document-Reduction/Code/models/ESM.py\u001b[0m in \u001b[0;36m_forward\u001b[0;34m(self, x)\u001b[0m\n\u001b[1;32m     67\u001b[0m \u001b[0;34m\u001b[0m\u001b[0m\n\u001b[1;32m     68\u001b[0m         \u001b[0;31m# reduced_tensor = self.interactor(torch.cat([cdd_news_repr.unsqueeze(-2), cdd_news_embedding], dim=-2), torch.cat([user_repr, ps_terms], dim=-2))\u001b[0m\u001b[0;34m\u001b[0m\u001b[0;34m\u001b[0m\u001b[0;34m\u001b[0m\u001b[0m\n\u001b[0;32m---> 69\u001b[0;31m         \u001b[0mreduced_tensor\u001b[0m \u001b[0;34m=\u001b[0m \u001b[0mself\u001b[0m\u001b[0;34m.\u001b[0m\u001b[0minteractor\u001b[0m\u001b[0;34m(\u001b[0m\u001b[0mps_terms\u001b[0m\u001b[0;34m,\u001b[0m \u001b[0mcdd_news_embedding\u001b[0m\u001b[0;34m,\u001b[0m \u001b[0mx\u001b[0m\u001b[0;34m[\u001b[0m\u001b[0;34m\"cdd_attn_mask\"\u001b[0m\u001b[0;34m]\u001b[0m\u001b[0;34m.\u001b[0m\u001b[0mto\u001b[0m\u001b[0;34m(\u001b[0m\u001b[0mself\u001b[0m\u001b[0;34m.\u001b[0m\u001b[0mdevice\u001b[0m\u001b[0;34m)\u001b[0m\u001b[0;34m)\u001b[0m\u001b[0;34m\u001b[0m\u001b[0;34m\u001b[0m\u001b[0m\n\u001b[0m\u001b[1;32m     70\u001b[0m \u001b[0;34m\u001b[0m\u001b[0m\n\u001b[1;32m     71\u001b[0m         \u001b[0;32mreturn\u001b[0m \u001b[0mself\u001b[0m\u001b[0;34m.\u001b[0m\u001b[0mclickPredictor\u001b[0m\u001b[0;34m(\u001b[0m\u001b[0mreduced_tensor\u001b[0m\u001b[0;34m)\u001b[0m\u001b[0;34m\u001b[0m\u001b[0;34m\u001b[0m\u001b[0m\n",
      "\u001b[0;32m/data/workspace/Peitian/nn/lib/python3.8/site-packages/torch/nn/modules/module.py\u001b[0m in \u001b[0;36m_call_impl\u001b[0;34m(self, *input, **kwargs)\u001b[0m\n\u001b[1;32m    725\u001b[0m             \u001b[0mresult\u001b[0m \u001b[0;34m=\u001b[0m \u001b[0mself\u001b[0m\u001b[0;34m.\u001b[0m\u001b[0m_slow_forward\u001b[0m\u001b[0;34m(\u001b[0m\u001b[0;34m*\u001b[0m\u001b[0minput\u001b[0m\u001b[0;34m,\u001b[0m \u001b[0;34m**\u001b[0m\u001b[0mkwargs\u001b[0m\u001b[0;34m)\u001b[0m\u001b[0;34m\u001b[0m\u001b[0;34m\u001b[0m\u001b[0m\n\u001b[1;32m    726\u001b[0m         \u001b[0;32melse\u001b[0m\u001b[0;34m:\u001b[0m\u001b[0;34m\u001b[0m\u001b[0;34m\u001b[0m\u001b[0m\n\u001b[0;32m--> 727\u001b[0;31m             \u001b[0mresult\u001b[0m \u001b[0;34m=\u001b[0m \u001b[0mself\u001b[0m\u001b[0;34m.\u001b[0m\u001b[0mforward\u001b[0m\u001b[0;34m(\u001b[0m\u001b[0;34m*\u001b[0m\u001b[0minput\u001b[0m\u001b[0;34m,\u001b[0m \u001b[0;34m**\u001b[0m\u001b[0mkwargs\u001b[0m\u001b[0;34m)\u001b[0m\u001b[0;34m\u001b[0m\u001b[0;34m\u001b[0m\u001b[0m\n\u001b[0m\u001b[1;32m    728\u001b[0m         for hook in itertools.chain(\n\u001b[1;32m    729\u001b[0m                 \u001b[0m_global_forward_hooks\u001b[0m\u001b[0;34m.\u001b[0m\u001b[0mvalues\u001b[0m\u001b[0;34m(\u001b[0m\u001b[0;34m)\u001b[0m\u001b[0;34m,\u001b[0m\u001b[0;34m\u001b[0m\u001b[0;34m\u001b[0m\u001b[0m\n",
      "\u001b[0;32m/data/workspace/Peitian/Code/Document-Reduction/Code/models/Interactors/BERT_Onepass.py\u001b[0m in \u001b[0;36mforward\u001b[0;34m(self, ps_terms, cdd_news_embedding, cdd_attn_mask)\u001b[0m\n\u001b[1;32m    101\u001b[0m         \u001b[0;31m# add [CLS] token\u001b[0m\u001b[0;34m\u001b[0m\u001b[0;34m\u001b[0m\u001b[0;34m\u001b[0m\u001b[0m\n\u001b[1;32m    102\u001b[0m         \u001b[0;31m# [bs, cs, sl+1, hd]\u001b[0m\u001b[0;34m\u001b[0m\u001b[0;34m\u001b[0m\u001b[0;34m\u001b[0m\u001b[0m\n\u001b[0;32m--> 103\u001b[0;31m         \u001b[0mcdd_news_embedding\u001b[0m \u001b[0;34m=\u001b[0m \u001b[0mtorch\u001b[0m\u001b[0;34m.\u001b[0m\u001b[0mcat\u001b[0m\u001b[0;34m(\u001b[0m\u001b[0;34m[\u001b[0m\u001b[0mself\u001b[0m\u001b[0;34m.\u001b[0m\u001b[0mcls_embedding\u001b[0m\u001b[0;34m.\u001b[0m\u001b[0mexpand\u001b[0m\u001b[0;34m(\u001b[0m\u001b[0mbatch_size\u001b[0m\u001b[0;34m,\u001b[0m \u001b[0mself\u001b[0m\u001b[0;34m.\u001b[0m\u001b[0mcdd_size\u001b[0m\u001b[0;34m,\u001b[0m \u001b[0;36m1\u001b[0m\u001b[0;34m,\u001b[0m \u001b[0mself\u001b[0m\u001b[0;34m.\u001b[0m\u001b[0mhidden_dim\u001b[0m\u001b[0;34m)\u001b[0m\u001b[0;34m,\u001b[0m \u001b[0mcdd_news_embedding\u001b[0m\u001b[0;34m.\u001b[0m\u001b[0msqueeze\u001b[0m\u001b[0;34m(\u001b[0m\u001b[0;34m-\u001b[0m\u001b[0;36m2\u001b[0m\u001b[0;34m)\u001b[0m\u001b[0;34m]\u001b[0m\u001b[0;34m,\u001b[0m \u001b[0mdim\u001b[0m\u001b[0;34m=\u001b[0m\u001b[0;34m-\u001b[0m\u001b[0;36m2\u001b[0m\u001b[0;34m)\u001b[0m\u001b[0;34m\u001b[0m\u001b[0;34m\u001b[0m\u001b[0m\n\u001b[0m\u001b[1;32m    104\u001b[0m         \u001b[0;31m# [bs, cs*(sl+1), hd]\u001b[0m\u001b[0;34m\u001b[0m\u001b[0;34m\u001b[0m\u001b[0;34m\u001b[0m\u001b[0m\n\u001b[1;32m    105\u001b[0m         \u001b[0mcdd_news_embedding\u001b[0m \u001b[0;34m=\u001b[0m \u001b[0;34m(\u001b[0m\u001b[0mcdd_news_embedding\u001b[0m \u001b[0;34m+\u001b[0m \u001b[0mself\u001b[0m\u001b[0;34m.\u001b[0m\u001b[0mcdd_pos_embedding\u001b[0m\u001b[0;34m)\u001b[0m\u001b[0;34m.\u001b[0m\u001b[0mview\u001b[0m\u001b[0;34m(\u001b[0m\u001b[0mbatch_size\u001b[0m\u001b[0;34m,\u001b[0m \u001b[0;34m-\u001b[0m\u001b[0;36m1\u001b[0m\u001b[0;34m,\u001b[0m \u001b[0mself\u001b[0m\u001b[0;34m.\u001b[0m\u001b[0mhidden_dim\u001b[0m\u001b[0;34m)\u001b[0m\u001b[0;34m\u001b[0m\u001b[0;34m\u001b[0m\u001b[0m\n",
      "\u001b[0;31mRuntimeError\u001b[0m: Sizes of tensors must match except in dimension 1. Got 1 and 5 (The offending index is 0)"
     ]
    }
   ],
   "metadata": {}
  },
  {
   "cell_type": "code",
   "execution_count": null,
   "source": [],
   "outputs": [],
   "metadata": {}
  }
 ],
 "metadata": {
  "orig_nbformat": 4,
  "language_info": {
   "name": "python",
   "version": "3.8.11",
   "mimetype": "text/x-python",
   "codemirror_mode": {
    "name": "ipython",
    "version": 3
   },
   "pygments_lexer": "ipython3",
   "nbconvert_exporter": "python",
   "file_extension": ".py"
  },
  "kernelspec": {
   "name": "python3",
   "display_name": "Python 3.8.11 64-bit (conda)"
  },
  "interpreter": {
   "hash": "decb58d8582e8bebc2c9af4e5243ce054f2f8013c5b7e79ffbf7b8b9f3c0761b"
  }
 },
 "nbformat": 4,
 "nbformat_minor": 2
}